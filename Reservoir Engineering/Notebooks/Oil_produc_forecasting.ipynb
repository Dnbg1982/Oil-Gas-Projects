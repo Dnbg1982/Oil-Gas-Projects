{
 "cells": [
  {
   "cell_type": "code",
   "execution_count": 337,
   "metadata": {},
   "outputs": [],
   "source": [
    "import pandas as pd\n",
    "import numpy as np\n",
    "import matplotlib.pyplot as plt\n",
    "import seaborn as sns\n",
    "import statsmodels.graphics.tsaplots as sgt \n",
    "import statsmodels.tsa.stattools as sts \n",
    "from statsmodels.tsa.seasonal import seasonal_decompose\n",
    "from statsmodels.tsa.arima.model import ARIMA, ARIMAResults\n",
    "from statsmodels.tsa.arima_process import ArmaProcess\n",
    "from statsmodels.tsa.statespace.sarimax import SARIMAX\n",
    "from pmdarima.arima import auto_arima\n",
    "from pmdarima.arima import OCSBTest\n",
    "from cycler import cycler"
   ]
  },
  {
   "cell_type": "code",
   "execution_count": 338,
   "metadata": {},
   "outputs": [
    {
     "data": {
      "text/plain": [
       "((1134, 1), (8930, 7), (9224, 14), (394074, 9), (6489, 11))"
      ]
     },
     "execution_count": 338,
     "metadata": {},
     "output_type": "execute_result"
    }
   ],
   "source": [
    "harmony_data = pd.read_csv(r'C:\\Users\\USUARIO\\Documents\\GitHub\\Oil-Gas-Projects\\Reservoir Engineering\\Datasets\\Oil Production\\Harmony_data.csv')\n",
    "IHS_data = pd.read_csv(r'C:\\Users\\USUARIO\\Documents\\GitHub\\Oil-Gas-Projects\\Reservoir Engineering\\Datasets\\Oil Production\\IHS_data.csv')\n",
    "train_data = pd.read_csv(r'C:\\Users\\USUARIO\\Documents\\GitHub\\Oil-Gas-Projects\\Reservoir Engineering\\Datasets\\Oil Production\\production_data_train.csv', parse_dates=[['Month', 'Year']])\n",
    "test_data = pd.read_csv(r'C:\\Users\\USUARIO\\Documents\\GitHub\\Oil-Gas-Projects\\Reservoir Engineering\\Datasets\\Oil Production\\production_data_test.csv', parse_dates=['date'])\n",
    "test_APIs = pd.read_csv(r'C:\\Users\\USUARIO\\Documents\\GitHub\\Oil-Gas-Projects\\Reservoir Engineering\\Datasets\\Oil Production\\Test_APIs.csv')\n",
    "test_APIs.shape, harmony_data.shape, IHS_data.shape, train_data.shape, test_data.shape,"
   ]
  },
  {
   "cell_type": "markdown",
   "metadata": {},
   "source": [
    "## Exploratory Data Analysis"
   ]
  },
  {
   "cell_type": "code",
   "execution_count": 339,
   "metadata": {},
   "outputs": [
    {
     "data": {
      "text/html": [
       "<div>\n",
       "<style scoped>\n",
       "    .dataframe tbody tr th:only-of-type {\n",
       "        vertical-align: middle;\n",
       "    }\n",
       "\n",
       "    .dataframe tbody tr th {\n",
       "        vertical-align: top;\n",
       "    }\n",
       "\n",
       "    .dataframe thead th {\n",
       "        text-align: right;\n",
       "    }\n",
       "</style>\n",
       "<table border=\"1\" class=\"dataframe\">\n",
       "  <thead>\n",
       "    <tr style=\"text-align: right;\">\n",
       "      <th></th>\n",
       "      <th>API</th>\n",
       "      <th>LATERAL_LENGTH_BLEND</th>\n",
       "      <th>PROP_PER_FOOT</th>\n",
       "      <th>WATER_PER_FOOT</th>\n",
       "      <th>GOR_30</th>\n",
       "      <th>GOR_60</th>\n",
       "      <th>GOR_90</th>\n",
       "    </tr>\n",
       "  </thead>\n",
       "  <tbody>\n",
       "    <tr>\n",
       "      <th>0</th>\n",
       "      <td>5123371740000</td>\n",
       "      <td>9056</td>\n",
       "      <td>1025.8680</td>\n",
       "      <td>790.7205</td>\n",
       "      <td>2300.919963</td>\n",
       "      <td>2290.231375</td>\n",
       "      <td>2171.635752</td>\n",
       "    </tr>\n",
       "    <tr>\n",
       "      <th>1</th>\n",
       "      <td>5123377360000</td>\n",
       "      <td>4101</td>\n",
       "      <td>NaN</td>\n",
       "      <td>NaN</td>\n",
       "      <td>3786.669639</td>\n",
       "      <td>3838.096579</td>\n",
       "      <td>4012.142621</td>\n",
       "    </tr>\n",
       "    <tr>\n",
       "      <th>2</th>\n",
       "      <td>5123378210000</td>\n",
       "      <td>4161</td>\n",
       "      <td>916.0801</td>\n",
       "      <td>839.9280</td>\n",
       "      <td>2399.490505</td>\n",
       "      <td>2291.864862</td>\n",
       "      <td>2472.275585</td>\n",
       "    </tr>\n",
       "  </tbody>\n",
       "</table>\n",
       "</div>"
      ],
      "text/plain": [
       "             API  LATERAL_LENGTH_BLEND  PROP_PER_FOOT  WATER_PER_FOOT  \\\n",
       "0  5123371740000                  9056      1025.8680        790.7205   \n",
       "1  5123377360000                  4101            NaN             NaN   \n",
       "2  5123378210000                  4161       916.0801        839.9280   \n",
       "\n",
       "        GOR_30       GOR_60       GOR_90  \n",
       "0  2300.919963  2290.231375  2171.635752  \n",
       "1  3786.669639  3838.096579  4012.142621  \n",
       "2  2399.490505  2291.864862  2472.275585  "
      ]
     },
     "execution_count": 339,
     "metadata": {},
     "output_type": "execute_result"
    }
   ],
   "source": [
    "harmony_data.head(3)"
   ]
  },
  {
   "cell_type": "code",
   "execution_count": 340,
   "metadata": {},
   "outputs": [
    {
     "data": {
      "text/html": [
       "<div>\n",
       "<style scoped>\n",
       "    .dataframe tbody tr th:only-of-type {\n",
       "        vertical-align: middle;\n",
       "    }\n",
       "\n",
       "    .dataframe tbody tr th {\n",
       "        vertical-align: top;\n",
       "    }\n",
       "\n",
       "    .dataframe thead th {\n",
       "        text-align: right;\n",
       "    }\n",
       "</style>\n",
       "<table border=\"1\" class=\"dataframe\">\n",
       "  <thead>\n",
       "    <tr style=\"text-align: right;\">\n",
       "      <th></th>\n",
       "      <th>API</th>\n",
       "      <th>PermitDate</th>\n",
       "      <th>SpudDate</th>\n",
       "      <th>CompletionDate</th>\n",
       "      <th>FirstProductionDate</th>\n",
       "      <th>operatorNameIHS</th>\n",
       "      <th>formation</th>\n",
       "      <th>BasinName</th>\n",
       "      <th>StateName</th>\n",
       "      <th>CountyName</th>\n",
       "      <th>LatWGS84</th>\n",
       "      <th>LonWGS84</th>\n",
       "      <th>BottomHoleLatitude</th>\n",
       "      <th>BottomHoleLongitude</th>\n",
       "    </tr>\n",
       "  </thead>\n",
       "  <tbody>\n",
       "    <tr>\n",
       "      <th>0</th>\n",
       "      <td>33105037530000</td>\n",
       "      <td>2014-09-10</td>\n",
       "      <td>2014-12-31</td>\n",
       "      <td>2015-05-05</td>\n",
       "      <td>2015-03-01 00:00:00.000</td>\n",
       "      <td>CONTINENTAL RESOURCES INCORPORATED</td>\n",
       "      <td>BAKKEN</td>\n",
       "      <td>WILLISTON BASIN</td>\n",
       "      <td>NORTH DAKOTA</td>\n",
       "      <td>WILLIAMS</td>\n",
       "      <td>48.227596</td>\n",
       "      <td>-103.299600</td>\n",
       "      <td>48.2546</td>\n",
       "      <td>-103.29997</td>\n",
       "    </tr>\n",
       "    <tr>\n",
       "      <th>1</th>\n",
       "      <td>33105032020000</td>\n",
       "      <td>2013-09-09</td>\n",
       "      <td>2013-11-02</td>\n",
       "      <td>2014-04-28</td>\n",
       "      <td>2014-04-01 00:00:00.000</td>\n",
       "      <td>CONTINENTAL RESOURCES INCORPORATED</td>\n",
       "      <td>BAKKEN</td>\n",
       "      <td>WILLISTON BASIN</td>\n",
       "      <td>NORTH DAKOTA</td>\n",
       "      <td>WILLIAMS</td>\n",
       "      <td>48.230954</td>\n",
       "      <td>-103.189754</td>\n",
       "      <td>48.1983</td>\n",
       "      <td>-103.19195</td>\n",
       "    </tr>\n",
       "  </tbody>\n",
       "</table>\n",
       "</div>"
      ],
      "text/plain": [
       "              API  PermitDate    SpudDate CompletionDate  \\\n",
       "0  33105037530000  2014-09-10  2014-12-31     2015-05-05   \n",
       "1  33105032020000  2013-09-09  2013-11-02     2014-04-28   \n",
       "\n",
       "       FirstProductionDate                     operatorNameIHS formation  \\\n",
       "0  2015-03-01 00:00:00.000  CONTINENTAL RESOURCES INCORPORATED    BAKKEN   \n",
       "1  2014-04-01 00:00:00.000  CONTINENTAL RESOURCES INCORPORATED    BAKKEN   \n",
       "\n",
       "         BasinName     StateName CountyName   LatWGS84    LonWGS84  \\\n",
       "0  WILLISTON BASIN  NORTH DAKOTA   WILLIAMS  48.227596 -103.299600   \n",
       "1  WILLISTON BASIN  NORTH DAKOTA   WILLIAMS  48.230954 -103.189754   \n",
       "\n",
       "   BottomHoleLatitude  BottomHoleLongitude  \n",
       "0             48.2546           -103.29997  \n",
       "1             48.1983           -103.19195  "
      ]
     },
     "execution_count": 340,
     "metadata": {},
     "output_type": "execute_result"
    }
   ],
   "source": [
    "IHS_data.head(2)"
   ]
  },
  {
   "cell_type": "code",
   "execution_count": 341,
   "metadata": {},
   "outputs": [
    {
     "data": {
      "text/html": [
       "<div>\n",
       "<style scoped>\n",
       "    .dataframe tbody tr th:only-of-type {\n",
       "        vertical-align: middle;\n",
       "    }\n",
       "\n",
       "    .dataframe tbody tr th {\n",
       "        vertical-align: top;\n",
       "    }\n",
       "\n",
       "    .dataframe thead th {\n",
       "        text-align: right;\n",
       "    }\n",
       "</style>\n",
       "<table border=\"1\" class=\"dataframe\">\n",
       "  <thead>\n",
       "    <tr style=\"text-align: right;\">\n",
       "      <th></th>\n",
       "      <th>Month_Year</th>\n",
       "      <th>API</th>\n",
       "      <th>Liquid</th>\n",
       "      <th>Gas</th>\n",
       "      <th>RatioGasOil</th>\n",
       "      <th>Water</th>\n",
       "      <th>PercentWater</th>\n",
       "      <th>DaysOn</th>\n",
       "      <th>_LastUpdate</th>\n",
       "    </tr>\n",
       "  </thead>\n",
       "  <tbody>\n",
       "    <tr>\n",
       "      <th>0</th>\n",
       "      <td>2015-03-01</td>\n",
       "      <td>33053063590000</td>\n",
       "      <td>17186</td>\n",
       "      <td>26624</td>\n",
       "      <td>1.549168</td>\n",
       "      <td>8213</td>\n",
       "      <td>0.477889</td>\n",
       "      <td>16</td>\n",
       "      <td>2016-08-11 14:03:14.000</td>\n",
       "    </tr>\n",
       "    <tr>\n",
       "      <th>1</th>\n",
       "      <td>2015-04-01</td>\n",
       "      <td>33053063590000</td>\n",
       "      <td>18796</td>\n",
       "      <td>21796</td>\n",
       "      <td>1.159608</td>\n",
       "      <td>7255</td>\n",
       "      <td>0.385986</td>\n",
       "      <td>30</td>\n",
       "      <td>2016-08-11 14:03:14.000</td>\n",
       "    </tr>\n",
       "  </tbody>\n",
       "</table>\n",
       "</div>"
      ],
      "text/plain": [
       "  Month_Year             API  Liquid    Gas  RatioGasOil  Water  PercentWater  \\\n",
       "0 2015-03-01  33053063590000   17186  26624     1.549168   8213      0.477889   \n",
       "1 2015-04-01  33053063590000   18796  21796     1.159608   7255      0.385986   \n",
       "\n",
       "   DaysOn              _LastUpdate  \n",
       "0      16  2016-08-11 14:03:14.000  \n",
       "1      30  2016-08-11 14:03:14.000  "
      ]
     },
     "execution_count": 341,
     "metadata": {},
     "output_type": "execute_result"
    }
   ],
   "source": [
    "train_data.head(2)"
   ]
  },
  {
   "cell_type": "code",
   "execution_count": 342,
   "metadata": {},
   "outputs": [
    {
     "data": {
      "text/html": [
       "<div>\n",
       "<style scoped>\n",
       "    .dataframe tbody tr th:only-of-type {\n",
       "        vertical-align: middle;\n",
       "    }\n",
       "\n",
       "    .dataframe tbody tr th {\n",
       "        vertical-align: top;\n",
       "    }\n",
       "\n",
       "    .dataframe thead th {\n",
       "        text-align: right;\n",
       "    }\n",
       "</style>\n",
       "<table border=\"1\" class=\"dataframe\">\n",
       "  <thead>\n",
       "    <tr style=\"text-align: right;\">\n",
       "      <th></th>\n",
       "      <th>API</th>\n",
       "      <th>Year</th>\n",
       "      <th>Month</th>\n",
       "      <th>Liquid</th>\n",
       "      <th>Gas</th>\n",
       "      <th>RatioGasOil</th>\n",
       "      <th>Water</th>\n",
       "      <th>PercentWater</th>\n",
       "      <th>DaysOn</th>\n",
       "      <th>_LastUpdate</th>\n",
       "      <th>date</th>\n",
       "    </tr>\n",
       "  </thead>\n",
       "  <tbody>\n",
       "    <tr>\n",
       "      <th>0</th>\n",
       "      <td>33053052530100</td>\n",
       "      <td>2014</td>\n",
       "      <td>7</td>\n",
       "      <td>19518</td>\n",
       "      <td>34414</td>\n",
       "      <td>1.763193</td>\n",
       "      <td>10786</td>\n",
       "      <td>0.552618</td>\n",
       "      <td>31</td>\n",
       "      <td>2016-04-06 13:48:08.990</td>\n",
       "      <td>2014-07-01</td>\n",
       "    </tr>\n",
       "    <tr>\n",
       "      <th>1</th>\n",
       "      <td>33053052530100</td>\n",
       "      <td>2014</td>\n",
       "      <td>8</td>\n",
       "      <td>18632</td>\n",
       "      <td>32250</td>\n",
       "      <td>1.730893</td>\n",
       "      <td>9959</td>\n",
       "      <td>0.534511</td>\n",
       "      <td>31</td>\n",
       "      <td>2016-04-06 13:48:08.990</td>\n",
       "      <td>2014-08-01</td>\n",
       "    </tr>\n",
       "  </tbody>\n",
       "</table>\n",
       "</div>"
      ],
      "text/plain": [
       "              API  Year  Month  Liquid    Gas  RatioGasOil  Water  \\\n",
       "0  33053052530100  2014      7   19518  34414     1.763193  10786   \n",
       "1  33053052530100  2014      8   18632  32250     1.730893   9959   \n",
       "\n",
       "   PercentWater  DaysOn              _LastUpdate       date  \n",
       "0      0.552618      31  2016-04-06 13:48:08.990 2014-07-01  \n",
       "1      0.534511      31  2016-04-06 13:48:08.990 2014-08-01  "
      ]
     },
     "execution_count": 342,
     "metadata": {},
     "output_type": "execute_result"
    }
   ],
   "source": [
    "test_data.head(2)"
   ]
  },
  {
   "cell_type": "code",
   "execution_count": 343,
   "metadata": {},
   "outputs": [
    {
     "data": {
      "text/plain": [
       "count                           394074\n",
       "mean     2016-10-08 05:38:51.759010048\n",
       "min                1977-10-01 00:00:00\n",
       "25%                2015-11-01 00:00:00\n",
       "50%                2016-11-01 00:00:00\n",
       "75%                2017-12-01 00:00:00\n",
       "max                2019-02-01 00:00:00\n",
       "Name: Month_Year, dtype: object"
      ]
     },
     "execution_count": 343,
     "metadata": {},
     "output_type": "execute_result"
    }
   ],
   "source": [
    "train_data.Month_Year.describe(datetime_is_numeric=True)"
   ]
  },
  {
   "cell_type": "code",
   "execution_count": 344,
   "metadata": {},
   "outputs": [
    {
     "data": {
      "text/plain": [
       "count                             6489\n",
       "mean     2015-08-12 07:16:43.606102528\n",
       "min                2008-09-01 00:00:00\n",
       "25%                2014-11-01 00:00:00\n",
       "50%                2015-05-01 00:00:00\n",
       "75%                2016-01-01 00:00:00\n",
       "max                2019-01-01 00:00:00\n",
       "Name: date, dtype: object"
      ]
     },
     "execution_count": 344,
     "metadata": {},
     "output_type": "execute_result"
    }
   ],
   "source": [
    "test_data.date.describe(datetime_is_numeric=True)"
   ]
  },
  {
   "cell_type": "code",
   "execution_count": 345,
   "metadata": {},
   "outputs": [],
   "source": [
    "test_data.set_index('date', inplace=True)\n",
    "test_data.drop(['Year','Month'], axis=1, inplace=True)"
   ]
  },
  {
   "cell_type": "code",
   "execution_count": 346,
   "metadata": {},
   "outputs": [
    {
     "data": {
      "text/html": [
       "<div>\n",
       "<style scoped>\n",
       "    .dataframe tbody tr th:only-of-type {\n",
       "        vertical-align: middle;\n",
       "    }\n",
       "\n",
       "    .dataframe tbody tr th {\n",
       "        vertical-align: top;\n",
       "    }\n",
       "\n",
       "    .dataframe thead th {\n",
       "        text-align: right;\n",
       "    }\n",
       "</style>\n",
       "<table border=\"1\" class=\"dataframe\">\n",
       "  <thead>\n",
       "    <tr style=\"text-align: right;\">\n",
       "      <th></th>\n",
       "      <th>API</th>\n",
       "      <th>Liquid</th>\n",
       "      <th>Gas</th>\n",
       "      <th>RatioGasOil</th>\n",
       "      <th>Water</th>\n",
       "      <th>PercentWater</th>\n",
       "      <th>DaysOn</th>\n",
       "      <th>_LastUpdate</th>\n",
       "    </tr>\n",
       "    <tr>\n",
       "      <th>date</th>\n",
       "      <th></th>\n",
       "      <th></th>\n",
       "      <th></th>\n",
       "      <th></th>\n",
       "      <th></th>\n",
       "      <th></th>\n",
       "      <th></th>\n",
       "      <th></th>\n",
       "    </tr>\n",
       "  </thead>\n",
       "  <tbody>\n",
       "    <tr>\n",
       "      <th>2014-07-01</th>\n",
       "      <td>33053052530100</td>\n",
       "      <td>19518</td>\n",
       "      <td>34414</td>\n",
       "      <td>1.763193</td>\n",
       "      <td>10786</td>\n",
       "      <td>0.552618</td>\n",
       "      <td>31</td>\n",
       "      <td>2016-04-06 13:48:08.990</td>\n",
       "    </tr>\n",
       "    <tr>\n",
       "      <th>2014-08-01</th>\n",
       "      <td>33053052530100</td>\n",
       "      <td>18632</td>\n",
       "      <td>32250</td>\n",
       "      <td>1.730893</td>\n",
       "      <td>9959</td>\n",
       "      <td>0.534511</td>\n",
       "      <td>31</td>\n",
       "      <td>2016-04-06 13:48:08.990</td>\n",
       "    </tr>\n",
       "  </tbody>\n",
       "</table>\n",
       "</div>"
      ],
      "text/plain": [
       "                       API  Liquid    Gas  RatioGasOil  Water  PercentWater  \\\n",
       "date                                                                          \n",
       "2014-07-01  33053052530100   19518  34414     1.763193  10786      0.552618   \n",
       "2014-08-01  33053052530100   18632  32250     1.730893   9959      0.534511   \n",
       "\n",
       "            DaysOn              _LastUpdate  \n",
       "date                                         \n",
       "2014-07-01      31  2016-04-06 13:48:08.990  \n",
       "2014-08-01      31  2016-04-06 13:48:08.990  "
      ]
     },
     "execution_count": 346,
     "metadata": {},
     "output_type": "execute_result"
    }
   ],
   "source": [
    "test_data.head(2)"
   ]
  },
  {
   "cell_type": "code",
   "execution_count": 347,
   "metadata": {},
   "outputs": [
    {
     "name": "stdout",
     "output_type": "stream",
     "text": [
      "<class 'pandas.core.frame.DataFrame'>\n",
      "RangeIndex: 394074 entries, 0 to 394073\n",
      "Data columns (total 9 columns):\n",
      " #   Column        Non-Null Count   Dtype         \n",
      "---  ------        --------------   -----         \n",
      " 0   Month_Year    394074 non-null  datetime64[ns]\n",
      " 1   API           394074 non-null  int64         \n",
      " 2   Liquid        394074 non-null  int64         \n",
      " 3   Gas           394074 non-null  int64         \n",
      " 4   RatioGasOil   394074 non-null  float64       \n",
      " 5   Water         394074 non-null  int64         \n",
      " 6   PercentWater  394074 non-null  float64       \n",
      " 7   DaysOn        394074 non-null  int64         \n",
      " 8   _LastUpdate   394074 non-null  object        \n",
      "dtypes: datetime64[ns](1), float64(2), int64(5), object(1)\n",
      "memory usage: 27.1+ MB\n"
     ]
    }
   ],
   "source": [
    "train_data.info()"
   ]
  },
  {
   "cell_type": "markdown",
   "metadata": {},
   "source": [
    "#### Checking null values"
   ]
  },
  {
   "cell_type": "code",
   "execution_count": 348,
   "metadata": {},
   "outputs": [
    {
     "data": {
      "text/plain": [
       "Month_Year      0\n",
       "API             0\n",
       "Liquid          0\n",
       "Gas             0\n",
       "RatioGasOil     0\n",
       "Water           0\n",
       "PercentWater    0\n",
       "DaysOn          0\n",
       "_LastUpdate     0\n",
       "dtype: int64"
      ]
     },
     "execution_count": 348,
     "metadata": {},
     "output_type": "execute_result"
    }
   ],
   "source": [
    "# Check for missing values\n",
    "train_data.isnull().sum()"
   ]
  },
  {
   "cell_type": "code",
   "execution_count": 349,
   "metadata": {},
   "outputs": [
    {
     "data": {
      "text/plain": [
       "API                      0\n",
       "PermitDate               0\n",
       "SpudDate                 0\n",
       "CompletionDate           0\n",
       "FirstProductionDate    183\n",
       "operatorNameIHS          0\n",
       "formation                0\n",
       "BasinName                0\n",
       "StateName                0\n",
       "CountyName               0\n",
       "LatWGS84                 0\n",
       "LonWGS84                 0\n",
       "BottomHoleLatitude       0\n",
       "BottomHoleLongitude      0\n",
       "dtype: int64"
      ]
     },
     "execution_count": 349,
     "metadata": {},
     "output_type": "execute_result"
    }
   ],
   "source": [
    "IHS_data.isnull().sum()"
   ]
  },
  {
   "cell_type": "code",
   "execution_count": 350,
   "metadata": {},
   "outputs": [
    {
     "data": {
      "text/plain": [
       "API                       0\n",
       "LATERAL_LENGTH_BLEND      0\n",
       "PROP_PER_FOOT           460\n",
       "WATER_PER_FOOT          633\n",
       "GOR_30                  135\n",
       "GOR_60                  135\n",
       "GOR_90                  135\n",
       "dtype: int64"
      ]
     },
     "execution_count": 350,
     "metadata": {},
     "output_type": "execute_result"
    }
   ],
   "source": [
    "harmony_data.isnull().sum()"
   ]
  },
  {
   "cell_type": "markdown",
   "metadata": {},
   "source": [
    "### Compare the number of wells"
   ]
  },
  {
   "cell_type": "code",
   "execution_count": 351,
   "metadata": {},
   "outputs": [
    {
     "data": {
      "text/plain": [
       "(8930,)"
      ]
     },
     "execution_count": 351,
     "metadata": {},
     "output_type": "execute_result"
    }
   ],
   "source": [
    "# IHS_data Number of wells\n",
    "IHS_data.API.unique().shape"
   ]
  },
  {
   "cell_type": "code",
   "execution_count": 352,
   "metadata": {},
   "outputs": [
    {
     "data": {
      "text/plain": [
       "(8930,)"
      ]
     },
     "execution_count": 352,
     "metadata": {},
     "output_type": "execute_result"
    }
   ],
   "source": [
    "# Harmony_data Number of wells\n",
    "harmony_data.API.unique().shape"
   ]
  },
  {
   "cell_type": "code",
   "execution_count": 353,
   "metadata": {},
   "outputs": [
    {
     "data": {
      "text/plain": [
       "8973"
      ]
     },
     "execution_count": 353,
     "metadata": {},
     "output_type": "execute_result"
    }
   ],
   "source": [
    "# Train_data + test_data number of wells\n",
    "train_data.API.unique().shape[0] + test_data.API.unique().shape[0]"
   ]
  },
  {
   "cell_type": "code",
   "execution_count": 354,
   "metadata": {},
   "outputs": [
    {
     "data": {
      "text/plain": [
       "(1129,)"
      ]
     },
     "execution_count": 354,
     "metadata": {},
     "output_type": "execute_result"
    }
   ],
   "source": [
    "# test_data Number of wells\n",
    "test_data.API.unique().shape"
   ]
  },
  {
   "cell_type": "code",
   "execution_count": 355,
   "metadata": {},
   "outputs": [
    {
     "name": "stdout",
     "output_type": "stream",
     "text": [
      "43\n"
     ]
    }
   ],
   "source": [
    "# Get repetead wells in train and test data\n",
    "repetead_wells = []\n",
    "for well in train_data.API.unique():\n",
    "    if well in test_data.API.unique():\n",
    "        repetead_wells.append(well)\n",
    "\n",
    "print(len(repetead_wells))"
   ]
  },
  {
   "cell_type": "markdown",
   "metadata": {},
   "source": [
    "#### Check values of each column"
   ]
  },
  {
   "cell_type": "code",
   "execution_count": 356,
   "metadata": {},
   "outputs": [
    {
     "data": {
      "text/html": [
       "<div>\n",
       "<style scoped>\n",
       "    .dataframe tbody tr th:only-of-type {\n",
       "        vertical-align: middle;\n",
       "    }\n",
       "\n",
       "    .dataframe tbody tr th {\n",
       "        vertical-align: top;\n",
       "    }\n",
       "\n",
       "    .dataframe thead th {\n",
       "        text-align: right;\n",
       "    }\n",
       "</style>\n",
       "<table border=\"1\" class=\"dataframe\">\n",
       "  <thead>\n",
       "    <tr style=\"text-align: right;\">\n",
       "      <th></th>\n",
       "      <th>Month_Year</th>\n",
       "      <th>API</th>\n",
       "      <th>Liquid</th>\n",
       "      <th>Gas</th>\n",
       "      <th>RatioGasOil</th>\n",
       "      <th>Water</th>\n",
       "      <th>PercentWater</th>\n",
       "      <th>DaysOn</th>\n",
       "      <th>_LastUpdate</th>\n",
       "    </tr>\n",
       "  </thead>\n",
       "  <tbody>\n",
       "    <tr>\n",
       "      <th>393178</th>\n",
       "      <td>2016-11-01</td>\n",
       "      <td>42301322730000</td>\n",
       "      <td>2232</td>\n",
       "      <td>32100</td>\n",
       "      <td>14.381720</td>\n",
       "      <td>27628</td>\n",
       "      <td>12.378136</td>\n",
       "      <td>0</td>\n",
       "      <td>2018-07-08 10:03:10.183</td>\n",
       "    </tr>\n",
       "    <tr>\n",
       "      <th>393179</th>\n",
       "      <td>2016-12-01</td>\n",
       "      <td>42301322730000</td>\n",
       "      <td>2506</td>\n",
       "      <td>31466</td>\n",
       "      <td>12.556265</td>\n",
       "      <td>27082</td>\n",
       "      <td>10.806864</td>\n",
       "      <td>0</td>\n",
       "      <td>2018-07-08 10:03:10.183</td>\n",
       "    </tr>\n",
       "    <tr>\n",
       "      <th>393180</th>\n",
       "      <td>2017-01-01</td>\n",
       "      <td>42301322730000</td>\n",
       "      <td>2484</td>\n",
       "      <td>34719</td>\n",
       "      <td>13.977053</td>\n",
       "      <td>29882</td>\n",
       "      <td>12.029791</td>\n",
       "      <td>0</td>\n",
       "      <td>2018-07-08 10:03:10.183</td>\n",
       "    </tr>\n",
       "    <tr>\n",
       "      <th>393181</th>\n",
       "      <td>2017-02-01</td>\n",
       "      <td>42301322730000</td>\n",
       "      <td>2180</td>\n",
       "      <td>26156</td>\n",
       "      <td>11.998165</td>\n",
       "      <td>22512</td>\n",
       "      <td>10.326606</td>\n",
       "      <td>0</td>\n",
       "      <td>2018-07-08 10:03:10.183</td>\n",
       "    </tr>\n",
       "    <tr>\n",
       "      <th>393182</th>\n",
       "      <td>2017-03-01</td>\n",
       "      <td>42301322730000</td>\n",
       "      <td>2281</td>\n",
       "      <td>22903</td>\n",
       "      <td>10.040772</td>\n",
       "      <td>19712</td>\n",
       "      <td>8.641824</td>\n",
       "      <td>0</td>\n",
       "      <td>2018-11-04 10:19:16.577</td>\n",
       "    </tr>\n",
       "  </tbody>\n",
       "</table>\n",
       "</div>"
      ],
      "text/plain": [
       "       Month_Year             API  Liquid    Gas  RatioGasOil  Water  \\\n",
       "393178 2016-11-01  42301322730000    2232  32100    14.381720  27628   \n",
       "393179 2016-12-01  42301322730000    2506  31466    12.556265  27082   \n",
       "393180 2017-01-01  42301322730000    2484  34719    13.977053  29882   \n",
       "393181 2017-02-01  42301322730000    2180  26156    11.998165  22512   \n",
       "393182 2017-03-01  42301322730000    2281  22903    10.040772  19712   \n",
       "\n",
       "        PercentWater  DaysOn              _LastUpdate  \n",
       "393178     12.378136       0  2018-07-08 10:03:10.183  \n",
       "393179     10.806864       0  2018-07-08 10:03:10.183  \n",
       "393180     12.029791       0  2018-07-08 10:03:10.183  \n",
       "393181     10.326606       0  2018-07-08 10:03:10.183  \n",
       "393182      8.641824       0  2018-11-04 10:19:16.577  "
      ]
     },
     "execution_count": 356,
     "metadata": {},
     "output_type": "execute_result"
    }
   ],
   "source": [
    "# Compare the same WELL in test and test data\n",
    "train_data[(train_data['API']) == 42301322730000][5:10]"
   ]
  },
  {
   "cell_type": "code",
   "execution_count": 357,
   "metadata": {},
   "outputs": [
    {
     "data": {
      "text/html": [
       "<div>\n",
       "<style scoped>\n",
       "    .dataframe tbody tr th:only-of-type {\n",
       "        vertical-align: middle;\n",
       "    }\n",
       "\n",
       "    .dataframe tbody tr th {\n",
       "        vertical-align: top;\n",
       "    }\n",
       "\n",
       "    .dataframe thead th {\n",
       "        text-align: right;\n",
       "    }\n",
       "</style>\n",
       "<table border=\"1\" class=\"dataframe\">\n",
       "  <thead>\n",
       "    <tr style=\"text-align: right;\">\n",
       "      <th></th>\n",
       "      <th>API</th>\n",
       "      <th>Liquid</th>\n",
       "      <th>Gas</th>\n",
       "      <th>RatioGasOil</th>\n",
       "      <th>Water</th>\n",
       "      <th>PercentWater</th>\n",
       "      <th>DaysOn</th>\n",
       "      <th>_LastUpdate</th>\n",
       "    </tr>\n",
       "    <tr>\n",
       "      <th>date</th>\n",
       "      <th></th>\n",
       "      <th></th>\n",
       "      <th></th>\n",
       "      <th></th>\n",
       "      <th></th>\n",
       "      <th></th>\n",
       "      <th></th>\n",
       "      <th></th>\n",
       "    </tr>\n",
       "  </thead>\n",
       "  <tbody>\n",
       "    <tr>\n",
       "      <th>2015-02-01</th>\n",
       "      <td>42301322730000</td>\n",
       "      <td>10801</td>\n",
       "      <td>36697</td>\n",
       "      <td>3.397556</td>\n",
       "      <td>31584</td>\n",
       "      <td>2.924174</td>\n",
       "      <td>0</td>\n",
       "      <td>2018-11-04 10:19:16.577</td>\n",
       "    </tr>\n",
       "    <tr>\n",
       "      <th>2015-03-01</th>\n",
       "      <td>42301322730000</td>\n",
       "      <td>17497</td>\n",
       "      <td>78231</td>\n",
       "      <td>4.471109</td>\n",
       "      <td>67331</td>\n",
       "      <td>3.848145</td>\n",
       "      <td>0</td>\n",
       "      <td>2018-11-04 10:19:16.577</td>\n",
       "    </tr>\n",
       "    <tr>\n",
       "      <th>2015-04-01</th>\n",
       "      <td>42301322730000</td>\n",
       "      <td>12283</td>\n",
       "      <td>65415</td>\n",
       "      <td>5.325653</td>\n",
       "      <td>56301</td>\n",
       "      <td>4.583652</td>\n",
       "      <td>0</td>\n",
       "      <td>2018-11-04 10:19:16.577</td>\n",
       "    </tr>\n",
       "    <tr>\n",
       "      <th>2015-05-01</th>\n",
       "      <td>42301322730000</td>\n",
       "      <td>9661</td>\n",
       "      <td>64795</td>\n",
       "      <td>6.706863</td>\n",
       "      <td>55767</td>\n",
       "      <td>5.772384</td>\n",
       "      <td>0</td>\n",
       "      <td>2018-11-04 10:19:16.577</td>\n",
       "    </tr>\n",
       "  </tbody>\n",
       "</table>\n",
       "</div>"
      ],
      "text/plain": [
       "                       API  Liquid    Gas  RatioGasOil  Water  PercentWater  \\\n",
       "date                                                                          \n",
       "2015-02-01  42301322730000   10801  36697     3.397556  31584      2.924174   \n",
       "2015-03-01  42301322730000   17497  78231     4.471109  67331      3.848145   \n",
       "2015-04-01  42301322730000   12283  65415     5.325653  56301      4.583652   \n",
       "2015-05-01  42301322730000    9661  64795     6.706863  55767      5.772384   \n",
       "\n",
       "            DaysOn              _LastUpdate  \n",
       "date                                         \n",
       "2015-02-01       0  2018-11-04 10:19:16.577  \n",
       "2015-03-01       0  2018-11-04 10:19:16.577  \n",
       "2015-04-01       0  2018-11-04 10:19:16.577  \n",
       "2015-05-01       0  2018-11-04 10:19:16.577  "
      ]
     },
     "execution_count": 357,
     "metadata": {},
     "output_type": "execute_result"
    }
   ],
   "source": [
    "# Compare the same WELL in test and test data\n",
    "test_data[(test_data['API'] == 42301322730000)]"
   ]
  },
  {
   "cell_type": "code",
   "execution_count": 358,
   "metadata": {},
   "outputs": [
    {
     "data": {
      "text/plain": [
       "(set(), set())"
      ]
     },
     "execution_count": 358,
     "metadata": {},
     "output_type": "execute_result"
    }
   ],
   "source": [
    "# Check if all the wells in test data are in harmony_data and IHS_data\n",
    "set(test_APIs.index.unique()) - set(harmony_data.index.unique()), set(test_APIs.index.unique()) - set(IHS_data.index.unique())"
   ]
  },
  {
   "cell_type": "code",
   "execution_count": 359,
   "metadata": {},
   "outputs": [
    {
     "data": {
      "text/html": [
       "<div>\n",
       "<style scoped>\n",
       "    .dataframe tbody tr th:only-of-type {\n",
       "        vertical-align: middle;\n",
       "    }\n",
       "\n",
       "    .dataframe tbody tr th {\n",
       "        vertical-align: top;\n",
       "    }\n",
       "\n",
       "    .dataframe thead th {\n",
       "        text-align: right;\n",
       "    }\n",
       "</style>\n",
       "<table border=\"1\" class=\"dataframe\">\n",
       "  <thead>\n",
       "    <tr style=\"text-align: right;\">\n",
       "      <th></th>\n",
       "      <th>API</th>\n",
       "      <th>PermitDate</th>\n",
       "      <th>SpudDate</th>\n",
       "      <th>CompletionDate</th>\n",
       "      <th>FirstProductionDate</th>\n",
       "      <th>operatorNameIHS</th>\n",
       "      <th>formation</th>\n",
       "      <th>BasinName</th>\n",
       "      <th>StateName</th>\n",
       "      <th>CountyName</th>\n",
       "      <th>LatWGS84</th>\n",
       "      <th>LonWGS84</th>\n",
       "      <th>BottomHoleLatitude</th>\n",
       "      <th>BottomHoleLongitude</th>\n",
       "    </tr>\n",
       "  </thead>\n",
       "  <tbody>\n",
       "    <tr>\n",
       "      <th>272</th>\n",
       "      <td>42301320940000</td>\n",
       "      <td>2014-01-02</td>\n",
       "      <td>2014-02-19</td>\n",
       "      <td>2014-04-17</td>\n",
       "      <td>NaN</td>\n",
       "      <td>WPX ENERGY PRODUCTION LLC</td>\n",
       "      <td>BONE SPRING</td>\n",
       "      <td>PERMIAN BASIN</td>\n",
       "      <td>TEXAS</td>\n",
       "      <td>LOVING</td>\n",
       "      <td>31.942399</td>\n",
       "      <td>-103.870208</td>\n",
       "      <td>31.95571</td>\n",
       "      <td>-103.86969</td>\n",
       "    </tr>\n",
       "    <tr>\n",
       "      <th>281</th>\n",
       "      <td>42301322750000</td>\n",
       "      <td>2014-08-09</td>\n",
       "      <td>2015-04-08</td>\n",
       "      <td>2015-07-21</td>\n",
       "      <td>NaN</td>\n",
       "      <td>EOG RESOURCES INCORPORATED</td>\n",
       "      <td>BONE SPRING</td>\n",
       "      <td>PERMIAN BASIN</td>\n",
       "      <td>TEXAS</td>\n",
       "      <td>LOVING</td>\n",
       "      <td>31.971822</td>\n",
       "      <td>-103.626594</td>\n",
       "      <td>31.95668</td>\n",
       "      <td>-103.62589</td>\n",
       "    </tr>\n",
       "    <tr>\n",
       "      <th>289</th>\n",
       "      <td>42301323710000</td>\n",
       "      <td>2014-10-10</td>\n",
       "      <td>2014-12-18</td>\n",
       "      <td>2015-05-27</td>\n",
       "      <td>2016-01-01 00:00:00.000</td>\n",
       "      <td>APACHE CORPORATION</td>\n",
       "      <td>BONE SPRING</td>\n",
       "      <td>PERMIAN BASIN</td>\n",
       "      <td>TEXAS</td>\n",
       "      <td>LOVING</td>\n",
       "      <td>31.751439</td>\n",
       "      <td>-103.614968</td>\n",
       "      <td>31.73676</td>\n",
       "      <td>-103.63004</td>\n",
       "    </tr>\n",
       "    <tr>\n",
       "      <th>290</th>\n",
       "      <td>42301323710000</td>\n",
       "      <td>2014-10-10</td>\n",
       "      <td>2014-12-18</td>\n",
       "      <td>2015-05-27</td>\n",
       "      <td>2015-05-01 00:00:00.000</td>\n",
       "      <td>APACHE CORPORATION</td>\n",
       "      <td>BONE SPRING</td>\n",
       "      <td>PERMIAN BASIN</td>\n",
       "      <td>TEXAS</td>\n",
       "      <td>LOVING</td>\n",
       "      <td>31.751439</td>\n",
       "      <td>-103.614968</td>\n",
       "      <td>31.73676</td>\n",
       "      <td>-103.63004</td>\n",
       "    </tr>\n",
       "    <tr>\n",
       "      <th>310</th>\n",
       "      <td>42301326020000</td>\n",
       "      <td>2015-05-21</td>\n",
       "      <td>2015-06-20</td>\n",
       "      <td>2015-08-05</td>\n",
       "      <td>NaN</td>\n",
       "      <td>EOG RESOURCES INCORPORATED</td>\n",
       "      <td>BONE SPRING</td>\n",
       "      <td>PERMIAN BASIN</td>\n",
       "      <td>TEXAS</td>\n",
       "      <td>LOVING</td>\n",
       "      <td>31.986463</td>\n",
       "      <td>-103.619420</td>\n",
       "      <td>31.99981</td>\n",
       "      <td>-103.62003</td>\n",
       "    </tr>\n",
       "    <tr>\n",
       "      <th>316</th>\n",
       "      <td>42109325790000</td>\n",
       "      <td>2013-05-29</td>\n",
       "      <td>2013-08-10</td>\n",
       "      <td>2014-02-17</td>\n",
       "      <td>NaN</td>\n",
       "      <td>COG OPERATING LIMITED LIABILITY CORP</td>\n",
       "      <td>BONE SPRING</td>\n",
       "      <td>PERMIAN BASIN</td>\n",
       "      <td>TEXAS</td>\n",
       "      <td>CULBERSON</td>\n",
       "      <td>31.986781</td>\n",
       "      <td>-104.033066</td>\n",
       "      <td>31.99947</td>\n",
       "      <td>-104.03214</td>\n",
       "    </tr>\n",
       "  </tbody>\n",
       "</table>\n",
       "</div>"
      ],
      "text/plain": [
       "                API  PermitDate    SpudDate CompletionDate  \\\n",
       "272  42301320940000  2014-01-02  2014-02-19     2014-04-17   \n",
       "281  42301322750000  2014-08-09  2015-04-08     2015-07-21   \n",
       "289  42301323710000  2014-10-10  2014-12-18     2015-05-27   \n",
       "290  42301323710000  2014-10-10  2014-12-18     2015-05-27   \n",
       "310  42301326020000  2015-05-21  2015-06-20     2015-08-05   \n",
       "316  42109325790000  2013-05-29  2013-08-10     2014-02-17   \n",
       "\n",
       "         FirstProductionDate                       operatorNameIHS  \\\n",
       "272                      NaN             WPX ENERGY PRODUCTION LLC   \n",
       "281                      NaN            EOG RESOURCES INCORPORATED   \n",
       "289  2016-01-01 00:00:00.000                    APACHE CORPORATION   \n",
       "290  2015-05-01 00:00:00.000                    APACHE CORPORATION   \n",
       "310                      NaN            EOG RESOURCES INCORPORATED   \n",
       "316                      NaN  COG OPERATING LIMITED LIABILITY CORP   \n",
       "\n",
       "       formation      BasinName StateName CountyName   LatWGS84    LonWGS84  \\\n",
       "272  BONE SPRING  PERMIAN BASIN     TEXAS     LOVING  31.942399 -103.870208   \n",
       "281  BONE SPRING  PERMIAN BASIN     TEXAS     LOVING  31.971822 -103.626594   \n",
       "289  BONE SPRING  PERMIAN BASIN     TEXAS     LOVING  31.751439 -103.614968   \n",
       "290  BONE SPRING  PERMIAN BASIN     TEXAS     LOVING  31.751439 -103.614968   \n",
       "310  BONE SPRING  PERMIAN BASIN     TEXAS     LOVING  31.986463 -103.619420   \n",
       "316  BONE SPRING  PERMIAN BASIN     TEXAS  CULBERSON  31.986781 -104.033066   \n",
       "\n",
       "     BottomHoleLatitude  BottomHoleLongitude  \n",
       "272            31.95571           -103.86969  \n",
       "281            31.95668           -103.62589  \n",
       "289            31.73676           -103.63004  \n",
       "290            31.73676           -103.63004  \n",
       "310            31.99981           -103.62003  \n",
       "316            31.99947           -104.03214  "
      ]
     },
     "execution_count": 359,
     "metadata": {},
     "output_type": "execute_result"
    }
   ],
   "source": [
    "# IHS data has more observations than harmony data and wells, it is necessary to verify data that are duplicated \n",
    "IHS_data[IHS_data.API.isin(list(IHS_data.API[IHS_data.API.duplicated()]))].head(6)"
   ]
  },
  {
   "cell_type": "code",
   "execution_count": 360,
   "metadata": {},
   "outputs": [
    {
     "data": {
      "text/plain": [
       "(8930, 15)"
      ]
     },
     "execution_count": 360,
     "metadata": {},
     "output_type": "execute_result"
    }
   ],
   "source": [
    "# Drop duplicated wells in IHS data\n",
    "IHS_data_nd = IHS_data.drop_duplicates(subset=['API']).reset_index()\n",
    "IHS_data_nd.shape"
   ]
  },
  {
   "cell_type": "code",
   "execution_count": 361,
   "metadata": {},
   "outputs": [],
   "source": [
    "# Map the IHS_data to train_dat and test_data\n",
    "for column in IHS_data_nd.columns:\n",
    "    train_data[column + '_new'] = train_data['API'].map(dict(zip(IHS_data_nd.API, IHS_data_nd[column])))\n",
    "\n",
    "for column in IHS_data_nd.columns:\n",
    "    test_data[column + '_new'] = test_data['API'].map(dict(zip(IHS_data_nd.API, IHS_data_nd[column])))"
   ]
  },
  {
   "cell_type": "code",
   "execution_count": 362,
   "metadata": {},
   "outputs": [],
   "source": [
    "# Map the harmony_data to the test_data\n",
    "for column in harmony_data.columns:\n",
    "    train_data[column + '_new'] = train_data['API'].map(dict(zip(harmony_data.API, harmony_data[column])))\n",
    "\n",
    "for column in harmony_data.columns:\n",
    "    test_data[column + '_new'] = test_data['API'].map(dict(zip(harmony_data.API, harmony_data[column])))"
   ]
  },
  {
   "cell_type": "code",
   "execution_count": 363,
   "metadata": {},
   "outputs": [],
   "source": [
    "# Drop columns with no relevance\n",
    "train_df = train_data.drop(['index_new', 'API_new','PermitDate_new','FirstProductionDate_new','SpudDate_new','CompletionDate_new','LatWGS84_new','LonWGS84_new', 'GOR_30_new', 'GOR_60_new', 'GOR_90_new', '_LastUpdate'], axis=1)\n",
    "test_df = test_data.drop(['index_new', 'API_new','PermitDate_new','FirstProductionDate_new','SpudDate_new','CompletionDate_new','LatWGS84_new','LonWGS84_new', 'GOR_30_new', 'GOR_60_new', 'GOR_90_new', '_LastUpdate'], axis=1)"
   ]
  },
  {
   "cell_type": "code",
   "execution_count": 364,
   "metadata": {},
   "outputs": [],
   "source": [
    "# Rename date column to match test_data\n",
    "train_df.rename(columns={'Month_Year':'date'}, inplace=True)"
   ]
  },
  {
   "cell_type": "code",
   "execution_count": 365,
   "metadata": {},
   "outputs": [],
   "source": [
    "train_df.set_index('date', inplace=True)"
   ]
  },
  {
   "cell_type": "code",
   "execution_count": 366,
   "metadata": {},
   "outputs": [
    {
     "data": {
      "text/plain": [
       "set()"
      ]
     },
     "execution_count": 366,
     "metadata": {},
     "output_type": "execute_result"
    }
   ],
   "source": [
    "# Check if test_df and test_df have the same columns\n",
    "set(train_df.columns) - set(test_df.columns)"
   ]
  },
  {
   "cell_type": "code",
   "execution_count": 367,
   "metadata": {},
   "outputs": [
    {
     "data": {
      "image/png": "[encoded data removed]",
      "text/plain": [
       "<Figure size 1440x432 with 1 Axes>"
      ]
     },
     "metadata": {
      "needs_background": "light"
     },
     "output_type": "display_data"
    }
   ],
   "source": [
    "# Plot some random wells from train_df to see their behaviour\n",
    "random_wells = np.random.choice(train_df.API.unique(), 10)\n",
    "\n",
    "for well in random_wells:\n",
    "    train_df[(train_df['API'] == well)]['Liquid'].plot(figsize=(20, 6))\n",
    "\n",
    "plt.rc('axes', prop_cycle=(cycler('color', ['r', 'g', 'b', 'y', 'k', 'c', 'm', 'r', 'g', 'b', 'y', 'k', 'c', 'm','b','y']) + cycler('linestyle', ['-', '--', ':', '-.', '-', '--', ':', '-.', '-', '--', ':', '-.', '-', '--', ':', '-.'])))\n",
    "plt.rc('lines', linewidth=1)"
   ]
  },
  {
   "cell_type": "code",
   "execution_count": 368,
   "metadata": {},
   "outputs": [
    {
     "data": {
      "text/plain": [
       "(Timestamp('2019-01-01 00:00:00'),\n",
       " Timestamp('2008-09-01 00:00:00'),\n",
       " Timestamp('2019-02-01 00:00:00'),\n",
       " Timestamp('1977-10-01 00:00:00'))"
      ]
     },
     "execution_count": 368,
     "metadata": {},
     "output_type": "execute_result"
    }
   ],
   "source": [
    "test_df.index.max(), test_df.index.min(), train_df.index.max(), train_df.index.min()"
   ]
  },
  {
   "cell_type": "code",
   "execution_count": 369,
   "metadata": {},
   "outputs": [
    {
     "data": {
      "image/png": "[encoded data removed]",
      "text/plain": [
       "<Figure size 1440x432 with 1 Axes>"
      ]
     },
     "metadata": {
      "needs_background": "light"
     },
     "output_type": "display_data"
    }
   ],
   "source": [
    "# Plot some random wells from test_df to see their behaviour\n",
    "random_wells_test = np.random.choice(test_df.API.unique(), 10)\n",
    "\n",
    "for well in random_wells_test:\n",
    "    test_df[(test_df['API'] == well)]['Liquid'].plot(figsize=(20, 6))\n",
    "\n",
    "plt.rc('axes', prop_cycle=(cycler('color', ['r', 'g', 'b', 'y', 'k', 'c', 'm', 'r', 'g', 'b', 'y', 'k', 'c', 'm','b','y']) + cycler('linestyle', ['-', '--', ':', '-.', '-', '--', ':', '-.', '-', '--', ':', '-.', '-', '--', ':', '-.'])))\n",
    "plt.rc('lines', linewidth=1)"
   ]
  },
  {
   "cell_type": "code",
   "execution_count": 370,
   "metadata": {},
   "outputs": [
    {
     "name": "stdout",
     "output_type": "stream",
     "text": [
      "<class 'pandas.core.frame.DataFrame'>\n",
      "DatetimeIndex: 394074 entries, 2015-03-01 to 2018-09-01\n",
      "Data columns (total 17 columns):\n",
      " #   Column                    Non-Null Count   Dtype  \n",
      "---  ------                    --------------   -----  \n",
      " 0   API                       394074 non-null  int64  \n",
      " 1   Liquid                    394074 non-null  int64  \n",
      " 2   Gas                       394074 non-null  int64  \n",
      " 3   RatioGasOil               394074 non-null  float64\n",
      " 4   Water                     394074 non-null  int64  \n",
      " 5   PercentWater              394074 non-null  float64\n",
      " 6   DaysOn                    394074 non-null  int64  \n",
      " 7   operatorNameIHS_new       394074 non-null  object \n",
      " 8   formation_new             394074 non-null  object \n",
      " 9   BasinName_new             394074 non-null  object \n",
      " 10  StateName_new             394074 non-null  object \n",
      " 11  CountyName_new            394074 non-null  object \n",
      " 12  BottomHoleLatitude_new    394074 non-null  float64\n",
      " 13  BottomHoleLongitude_new   394074 non-null  float64\n",
      " 14  LATERAL_LENGTH_BLEND_new  394074 non-null  int64  \n",
      " 15  PROP_PER_FOOT_new         373673 non-null  float64\n",
      " 16  WATER_PER_FOOT_new        365608 non-null  float64\n",
      "dtypes: float64(6), int64(6), object(5)\n",
      "memory usage: 54.1+ MB\n"
     ]
    }
   ],
   "source": [
    "train_df.info()"
   ]
  },
  {
   "cell_type": "code",
   "execution_count": 371,
   "metadata": {},
   "outputs": [
    {
     "name": "stdout",
     "output_type": "stream",
     "text": [
      "<class 'pandas.core.frame.DataFrame'>\n",
      "DatetimeIndex: 6489 entries, 2014-07-01 to 2015-03-01\n",
      "Data columns (total 17 columns):\n",
      " #   Column                    Non-Null Count  Dtype  \n",
      "---  ------                    --------------  -----  \n",
      " 0   API                       6489 non-null   int64  \n",
      " 1   Liquid                    6489 non-null   int64  \n",
      " 2   Gas                       6489 non-null   int64  \n",
      " 3   RatioGasOil               6489 non-null   float64\n",
      " 4   Water                     6489 non-null   int64  \n",
      " 5   PercentWater              6489 non-null   float64\n",
      " 6   DaysOn                    6489 non-null   int64  \n",
      " 7   operatorNameIHS_new       6489 non-null   object \n",
      " 8   formation_new             6489 non-null   object \n",
      " 9   BasinName_new             6489 non-null   object \n",
      " 10  StateName_new             6489 non-null   object \n",
      " 11  CountyName_new            6489 non-null   object \n",
      " 12  BottomHoleLatitude_new    6489 non-null   float64\n",
      " 13  BottomHoleLongitude_new   6489 non-null   float64\n",
      " 14  LATERAL_LENGTH_BLEND_new  6489 non-null   int64  \n",
      " 15  PROP_PER_FOOT_new         6215 non-null   float64\n",
      " 16  WATER_PER_FOOT_new        6101 non-null   float64\n",
      "dtypes: float64(6), int64(6), object(5)\n",
      "memory usage: 912.5+ KB\n"
     ]
    }
   ],
   "source": [
    "test_df.info()"
   ]
  },
  {
   "cell_type": "code",
   "execution_count": 372,
   "metadata": {},
   "outputs": [
    {
     "data": {
      "text/html": [
       "<div>\n",
       "<style scoped>\n",
       "    .dataframe tbody tr th:only-of-type {\n",
       "        vertical-align: middle;\n",
       "    }\n",
       "\n",
       "    .dataframe tbody tr th {\n",
       "        vertical-align: top;\n",
       "    }\n",
       "\n",
       "    .dataframe thead th {\n",
       "        text-align: right;\n",
       "    }\n",
       "</style>\n",
       "<table border=\"1\" class=\"dataframe\">\n",
       "  <thead>\n",
       "    <tr style=\"text-align: right;\">\n",
       "      <th></th>\n",
       "      <th>Liquid</th>\n",
       "      <th>Gas</th>\n",
       "      <th>RatioGasOil</th>\n",
       "      <th>Water</th>\n",
       "      <th>PercentWater</th>\n",
       "      <th>DaysOn</th>\n",
       "      <th>BottomHoleLatitude_new</th>\n",
       "      <th>BottomHoleLongitude_new</th>\n",
       "      <th>LATERAL_LENGTH_BLEND_new</th>\n",
       "      <th>PROP_PER_FOOT_new</th>\n",
       "      <th>WATER_PER_FOOT_new</th>\n",
       "    </tr>\n",
       "    <tr>\n",
       "      <th>API</th>\n",
       "      <th></th>\n",
       "      <th></th>\n",
       "      <th></th>\n",
       "      <th></th>\n",
       "      <th></th>\n",
       "      <th></th>\n",
       "      <th></th>\n",
       "      <th></th>\n",
       "      <th></th>\n",
       "      <th></th>\n",
       "      <th></th>\n",
       "    </tr>\n",
       "  </thead>\n",
       "  <tbody>\n",
       "    <tr>\n",
       "      <th>5001097800000</th>\n",
       "      <td>307.812500</td>\n",
       "      <td>363.312500</td>\n",
       "      <td>1.148123</td>\n",
       "      <td>647.104167</td>\n",
       "      <td>1.172769</td>\n",
       "      <td>27.666667</td>\n",
       "      <td>39.92629</td>\n",
       "      <td>-104.71585</td>\n",
       "      <td>3983.0</td>\n",
       "      <td>NaN</td>\n",
       "      <td>NaN</td>\n",
       "    </tr>\n",
       "    <tr>\n",
       "      <th>5001097830000</th>\n",
       "      <td>317.472727</td>\n",
       "      <td>823.890909</td>\n",
       "      <td>1.874774</td>\n",
       "      <td>328.090909</td>\n",
       "      <td>0.455979</td>\n",
       "      <td>26.018182</td>\n",
       "      <td>39.92745</td>\n",
       "      <td>-104.71586</td>\n",
       "      <td>4027.0</td>\n",
       "      <td>NaN</td>\n",
       "      <td>NaN</td>\n",
       "    </tr>\n",
       "    <tr>\n",
       "      <th>5001098450000</th>\n",
       "      <td>4648.595238</td>\n",
       "      <td>11096.666667</td>\n",
       "      <td>3.275740</td>\n",
       "      <td>226.880952</td>\n",
       "      <td>0.057842</td>\n",
       "      <td>21.619048</td>\n",
       "      <td>39.95921</td>\n",
       "      <td>-104.84774</td>\n",
       "      <td>4315.0</td>\n",
       "      <td>NaN</td>\n",
       "      <td>NaN</td>\n",
       "    </tr>\n",
       "  </tbody>\n",
       "</table>\n",
       "</div>"
      ],
      "text/plain": [
       "                    Liquid           Gas  RatioGasOil       Water  \\\n",
       "API                                                                 \n",
       "5001097800000   307.812500    363.312500     1.148123  647.104167   \n",
       "5001097830000   317.472727    823.890909     1.874774  328.090909   \n",
       "5001098450000  4648.595238  11096.666667     3.275740  226.880952   \n",
       "\n",
       "               PercentWater     DaysOn  BottomHoleLatitude_new  \\\n",
       "API                                                              \n",
       "5001097800000      1.172769  27.666667                39.92629   \n",
       "5001097830000      0.455979  26.018182                39.92745   \n",
       "5001098450000      0.057842  21.619048                39.95921   \n",
       "\n",
       "               BottomHoleLongitude_new  LATERAL_LENGTH_BLEND_new  \\\n",
       "API                                                                \n",
       "5001097800000               -104.71585                    3983.0   \n",
       "5001097830000               -104.71586                    4027.0   \n",
       "5001098450000               -104.84774                    4315.0   \n",
       "\n",
       "               PROP_PER_FOOT_new  WATER_PER_FOOT_new  \n",
       "API                                                   \n",
       "5001097800000                NaN                 NaN  \n",
       "5001097830000                NaN                 NaN  \n",
       "5001098450000                NaN                 NaN  "
      ]
     },
     "execution_count": 372,
     "metadata": {},
     "output_type": "execute_result"
    }
   ],
   "source": [
    "# Check the features with missing values\n",
    "train_df[train_df.PROP_PER_FOOT_new.isnull()].groupby('API').mean()[:3]"
   ]
  },
  {
   "cell_type": "code",
   "execution_count": 415,
   "metadata": {},
   "outputs": [],
   "source": [
    "# Concatenate train_df and test_df\n",
    "df = pd.concat([train_df, test_df], axis=0)"
   ]
  },
  {
   "cell_type": "code",
   "execution_count": 416,
   "metadata": {},
   "outputs": [],
   "source": [
    "# Fill the missing values with the bfill method\n",
    "df.fillna(method='bfill', inplace=True)"
   ]
  },
  {
   "cell_type": "code",
   "execution_count": 417,
   "metadata": {},
   "outputs": [],
   "source": [
    "# Change API column to string\n",
    "df['API'] = df['API'].astype(str)"
   ]
  },
  {
   "cell_type": "code",
   "execution_count": 418,
   "metadata": {},
   "outputs": [
    {
     "data": {
      "text/plain": [
       "date\n",
       "2015-03-01    WILLISTON BASIN\n",
       "2015-04-01    WILLISTON BASIN\n",
       "2015-05-01    WILLISTON BASIN\n",
       "2015-06-01    WILLISTON BASIN\n",
       "2015-07-01    WILLISTON BASIN\n",
       "                   ...       \n",
       "2014-09-01      PERMIAN BASIN\n",
       "2014-11-01      PERMIAN BASIN\n",
       "2014-12-01      PERMIAN BASIN\n",
       "2015-01-01      PERMIAN BASIN\n",
       "2015-03-01      PERMIAN BASIN\n",
       "Name: BasinName_new, Length: 400563, dtype: object"
      ]
     },
     "execution_count": 418,
     "metadata": {},
     "output_type": "execute_result"
    }
   ],
   "source": [
    "df.BasinName_new"
   ]
  },
  {
   "cell_type": "code",
   "execution_count": 419,
   "metadata": {},
   "outputs": [
    {
     "name": "stdout",
     "output_type": "stream",
     "text": [
      "<class 'pandas.core.frame.DataFrame'>\n",
      "DatetimeIndex: 400563 entries, 2015-03-01 to 2015-03-01\n",
      "Data columns (total 17 columns):\n",
      " #   Column                    Non-Null Count   Dtype  \n",
      "---  ------                    --------------   -----  \n",
      " 0   API                       400563 non-null  object \n",
      " 1   Liquid                    400563 non-null  int64  \n",
      " 2   Gas                       400563 non-null  int64  \n",
      " 3   RatioGasOil               400563 non-null  float64\n",
      " 4   Water                     400563 non-null  int64  \n",
      " 5   PercentWater              400563 non-null  float64\n",
      " 6   DaysOn                    400563 non-null  int64  \n",
      " 7   operatorNameIHS_new       400563 non-null  object \n",
      " 8   formation_new             400563 non-null  object \n",
      " 9   BasinName_new             400563 non-null  object \n",
      " 10  StateName_new             400563 non-null  object \n",
      " 11  CountyName_new            400563 non-null  object \n",
      " 12  BottomHoleLatitude_new    400563 non-null  float64\n",
      " 13  BottomHoleLongitude_new   400563 non-null  float64\n",
      " 14  LATERAL_LENGTH_BLEND_new  400563 non-null  int64  \n",
      " 15  PROP_PER_FOOT_new         400563 non-null  float64\n",
      " 16  WATER_PER_FOOT_new        400563 non-null  float64\n",
      "dtypes: float64(6), int64(5), object(6)\n",
      "memory usage: 55.0+ MB\n"
     ]
    }
   ],
   "source": [
    "df.info()"
   ]
  },
  {
   "cell_type": "code",
   "execution_count": 422,
   "metadata": {},
   "outputs": [],
   "source": [
    "# Function that transform object variables into categorical variables\n",
    "def transform_object_variables(df):\n",
    "    for label, content in df.items():\n",
    "        if content.dtype == 'object':\n",
    "            df[label] = pd.Categorical(content).codes + 1"
   ]
  },
  {
   "cell_type": "code",
   "execution_count": 423,
   "metadata": {},
   "outputs": [],
   "source": [
    "transform_object_variables(df)"
   ]
  },
  {
   "cell_type": "code",
   "execution_count": 378,
   "metadata": {},
   "outputs": [
    {
     "data": {
      "image/png": "[encoded data removed]",
      "text/plain": [
       "<Figure size 1296x864 with 2 Axes>"
      ]
     },
     "metadata": {
      "needs_background": "light"
     },
     "output_type": "display_data"
    }
   ],
   "source": [
    "# Plotting correlation matrix\n",
    "plt.figure(figsize=(18, 12))\n",
    "sns.heatmap(round(df.corr(),2), annot=True, cmap='YlGnBu');"
   ]
  },
  {
   "cell_type": "code",
   "execution_count": 420,
   "metadata": {},
   "outputs": [
    {
     "data": {
      "text/plain": [
       "(400563, 17)"
      ]
     },
     "execution_count": 420,
     "metadata": {},
     "output_type": "execute_result"
    }
   ],
   "source": [
    "df.shape"
   ]
  },
  {
   "cell_type": "code",
   "execution_count": 424,
   "metadata": {},
   "outputs": [
    {
     "name": "stdout",
     "output_type": "stream",
     "text": [
      "<class 'pandas.core.frame.DataFrame'>\n",
      "DatetimeIndex: 400563 entries, 2015-03-01 to 2015-03-01\n",
      "Data columns (total 17 columns):\n",
      " #   Column                    Non-Null Count   Dtype  \n",
      "---  ------                    --------------   -----  \n",
      " 0   API                       400563 non-null  int16  \n",
      " 1   Liquid                    400563 non-null  int64  \n",
      " 2   Gas                       400563 non-null  int64  \n",
      " 3   RatioGasOil               400563 non-null  float64\n",
      " 4   Water                     400563 non-null  int64  \n",
      " 5   PercentWater              400563 non-null  float64\n",
      " 6   DaysOn                    400563 non-null  int64  \n",
      " 7   operatorNameIHS_new       400563 non-null  int16  \n",
      " 8   formation_new             400563 non-null  int8   \n",
      " 9   BasinName_new             400563 non-null  int8   \n",
      " 10  StateName_new             400563 non-null  int8   \n",
      " 11  CountyName_new            400563 non-null  int8   \n",
      " 12  BottomHoleLatitude_new    400563 non-null  float64\n",
      " 13  BottomHoleLongitude_new   400563 non-null  float64\n",
      " 14  LATERAL_LENGTH_BLEND_new  400563 non-null  int64  \n",
      " 15  PROP_PER_FOOT_new         400563 non-null  float64\n",
      " 16  WATER_PER_FOOT_new        400563 non-null  float64\n",
      "dtypes: float64(6), int16(2), int64(5), int8(4)\n",
      "memory usage: 39.7 MB\n"
     ]
    }
   ],
   "source": [
    "df.info()"
   ]
  },
  {
   "cell_type": "code",
   "execution_count": 411,
   "metadata": {},
   "outputs": [
    {
     "data": {
      "text/html": [
       "<div>\n",
       "<style scoped>\n",
       "    .dataframe tbody tr th:only-of-type {\n",
       "        vertical-align: middle;\n",
       "    }\n",
       "\n",
       "    .dataframe tbody tr th {\n",
       "        vertical-align: top;\n",
       "    }\n",
       "\n",
       "    .dataframe thead th {\n",
       "        text-align: right;\n",
       "    }\n",
       "</style>\n",
       "<table border=\"1\" class=\"dataframe\">\n",
       "  <thead>\n",
       "    <tr style=\"text-align: right;\">\n",
       "      <th></th>\n",
       "      <th>API</th>\n",
       "      <th>Liquid</th>\n",
       "      <th>Gas</th>\n",
       "      <th>Water</th>\n",
       "      <th>BasinName_new</th>\n",
       "      <th>LATERAL_LENGTH_BLEND_new</th>\n",
       "    </tr>\n",
       "    <tr>\n",
       "      <th>date</th>\n",
       "      <th></th>\n",
       "      <th></th>\n",
       "      <th></th>\n",
       "      <th></th>\n",
       "      <th></th>\n",
       "      <th></th>\n",
       "    </tr>\n",
       "  </thead>\n",
       "  <tbody>\n",
       "    <tr>\n",
       "      <th>2015-03-01</th>\n",
       "      <td>NaN</td>\n",
       "      <td>NaN</td>\n",
       "      <td>NaN</td>\n",
       "      <td>NaN</td>\n",
       "      <td>NaN</td>\n",
       "      <td>NaN</td>\n",
       "    </tr>\n",
       "    <tr>\n",
       "      <th>2015-04-01</th>\n",
       "      <td>2459.0</td>\n",
       "      <td>18796.0</td>\n",
       "      <td>21796.0</td>\n",
       "      <td>7255.0</td>\n",
       "      <td>3.0</td>\n",
       "      <td>9762.0</td>\n",
       "    </tr>\n",
       "    <tr>\n",
       "      <th>2015-05-01</th>\n",
       "      <td>2459.0</td>\n",
       "      <td>14626.0</td>\n",
       "      <td>15988.0</td>\n",
       "      <td>4213.0</td>\n",
       "      <td>3.0</td>\n",
       "      <td>9762.0</td>\n",
       "    </tr>\n",
       "    <tr>\n",
       "      <th>2015-06-01</th>\n",
       "      <td>2459.0</td>\n",
       "      <td>10421.0</td>\n",
       "      <td>12311.0</td>\n",
       "      <td>2717.0</td>\n",
       "      <td>3.0</td>\n",
       "      <td>9762.0</td>\n",
       "    </tr>\n",
       "    <tr>\n",
       "      <th>2015-07-01</th>\n",
       "      <td>2459.0</td>\n",
       "      <td>9777.0</td>\n",
       "      <td>11254.0</td>\n",
       "      <td>2399.0</td>\n",
       "      <td>3.0</td>\n",
       "      <td>9762.0</td>\n",
       "    </tr>\n",
       "  </tbody>\n",
       "</table>\n",
       "</div>"
      ],
      "text/plain": [
       "               API   Liquid      Gas   Water  BasinName_new  \\\n",
       "date                                                          \n",
       "2015-03-01     NaN      NaN      NaN     NaN            NaN   \n",
       "2015-04-01  2459.0  18796.0  21796.0  7255.0            3.0   \n",
       "2015-05-01  2459.0  14626.0  15988.0  4213.0            3.0   \n",
       "2015-06-01  2459.0  10421.0  12311.0  2717.0            3.0   \n",
       "2015-07-01  2459.0   9777.0  11254.0  2399.0            3.0   \n",
       "\n",
       "            LATERAL_LENGTH_BLEND_new  \n",
       "date                                  \n",
       "2015-03-01                       NaN  \n",
       "2015-04-01                    9762.0  \n",
       "2015-05-01                    9762.0  \n",
       "2015-06-01                    9762.0  \n",
       "2015-07-01                    9762.0  "
      ]
     },
     "execution_count": 411,
     "metadata": {},
     "output_type": "execute_result"
    }
   ],
   "source": [
    "df.head()"
   ]
  },
  {
   "cell_type": "code",
   "execution_count": 425,
   "metadata": {},
   "outputs": [],
   "source": [
    "df.drop(['RatioGasOil', 'PercentWater', 'DaysOn', 'operatorNameIHS_new','formation_new','StateName_new','CountyName_new', 'BottomHoleLatitude_new','BottomHoleLongitude_new','PROP_PER_FOOT_new', 'WATER_PER_FOOT_new'], axis=1, inplace=True)"
   ]
  },
  {
   "cell_type": "code",
   "execution_count": 426,
   "metadata": {},
   "outputs": [
    {
     "name": "stdout",
     "output_type": "stream",
     "text": [
      "<class 'pandas.core.frame.DataFrame'>\n",
      "DatetimeIndex: 400563 entries, 2015-03-01 to 2015-03-01\n",
      "Data columns (total 6 columns):\n",
      " #   Column                    Non-Null Count   Dtype\n",
      "---  ------                    --------------   -----\n",
      " 0   API                       400563 non-null  int16\n",
      " 1   Liquid                    400563 non-null  int64\n",
      " 2   Gas                       400563 non-null  int64\n",
      " 3   Water                     400563 non-null  int64\n",
      " 4   BasinName_new             400563 non-null  int8 \n",
      " 5   LATERAL_LENGTH_BLEND_new  400563 non-null  int64\n",
      "dtypes: int16(1), int64(4), int8(1)\n",
      "memory usage: 16.4 MB\n"
     ]
    }
   ],
   "source": [
    "df.info()"
   ]
  },
  {
   "cell_type": "code",
   "execution_count": 427,
   "metadata": {},
   "outputs": [
    {
     "name": "stdout",
     "output_type": "stream",
     "text": [
      "<class 'pandas.core.frame.DataFrame'>\n",
      "RangeIndex: 400563 entries, 0 to 400562\n",
      "Data columns (total 7 columns):\n",
      " #   Column                    Non-Null Count   Dtype         \n",
      "---  ------                    --------------   -----         \n",
      " 0   date                      400563 non-null  datetime64[ns]\n",
      " 1   API                       400563 non-null  int16         \n",
      " 2   Liquid                    400563 non-null  int64         \n",
      " 3   Gas                       400563 non-null  int64         \n",
      " 4   Water                     400563 non-null  int64         \n",
      " 5   BasinName_new             400563 non-null  int8          \n",
      " 6   LATERAL_LENGTH_BLEND_new  400563 non-null  int64         \n",
      "dtypes: datetime64[ns](1), int16(1), int64(4), int8(1)\n",
      "memory usage: 16.4 MB\n"
     ]
    }
   ],
   "source": [
    "df_1 = df.reset_index()\n",
    "df_1.info()"
   ]
  },
  {
   "cell_type": "code",
   "execution_count": 388,
   "metadata": {},
   "outputs": [
    {
     "data": {
      "text/html": [
       "<div>\n",
       "<style scoped>\n",
       "    .dataframe tbody tr th:only-of-type {\n",
       "        vertical-align: middle;\n",
       "    }\n",
       "\n",
       "    .dataframe tbody tr th {\n",
       "        vertical-align: top;\n",
       "    }\n",
       "\n",
       "    .dataframe thead th {\n",
       "        text-align: right;\n",
       "    }\n",
       "</style>\n",
       "<table border=\"1\" class=\"dataframe\">\n",
       "  <thead>\n",
       "    <tr style=\"text-align: right;\">\n",
       "      <th></th>\n",
       "      <th>date</th>\n",
       "      <th>API</th>\n",
       "      <th>Liquid</th>\n",
       "      <th>Gas</th>\n",
       "      <th>Water</th>\n",
       "      <th>BasinName_new</th>\n",
       "      <th>LATERAL_LENGTH_BLEND_new</th>\n",
       "    </tr>\n",
       "  </thead>\n",
       "  <tbody>\n",
       "    <tr>\n",
       "      <th>229801</th>\n",
       "      <td>2014-02-01</td>\n",
       "      <td>4509.0</td>\n",
       "      <td>13380.0</td>\n",
       "      <td>177168.0</td>\n",
       "      <td>0.0</td>\n",
       "      <td>2.0</td>\n",
       "      <td>9910.0</td>\n",
       "    </tr>\n",
       "    <tr>\n",
       "      <th>229802</th>\n",
       "      <td>2014-03-01</td>\n",
       "      <td>4509.0</td>\n",
       "      <td>15038.0</td>\n",
       "      <td>202678.0</td>\n",
       "      <td>63276.0</td>\n",
       "      <td>2.0</td>\n",
       "      <td>9910.0</td>\n",
       "    </tr>\n",
       "    <tr>\n",
       "      <th>229803</th>\n",
       "      <td>2014-04-01</td>\n",
       "      <td>4509.0</td>\n",
       "      <td>20521.0</td>\n",
       "      <td>269656.0</td>\n",
       "      <td>84187.0</td>\n",
       "      <td>2.0</td>\n",
       "      <td>9910.0</td>\n",
       "    </tr>\n",
       "    <tr>\n",
       "      <th>229804</th>\n",
       "      <td>2014-05-01</td>\n",
       "      <td>4509.0</td>\n",
       "      <td>16848.0</td>\n",
       "      <td>240905.0</td>\n",
       "      <td>75211.0</td>\n",
       "      <td>2.0</td>\n",
       "      <td>9910.0</td>\n",
       "    </tr>\n",
       "    <tr>\n",
       "      <th>229805</th>\n",
       "      <td>2014-06-01</td>\n",
       "      <td>4509.0</td>\n",
       "      <td>14725.0</td>\n",
       "      <td>227761.0</td>\n",
       "      <td>71107.0</td>\n",
       "      <td>2.0</td>\n",
       "      <td>9910.0</td>\n",
       "    </tr>\n",
       "  </tbody>\n",
       "</table>\n",
       "</div>"
      ],
      "text/plain": [
       "             date     API   Liquid       Gas    Water  BasinName_new  \\\n",
       "229801 2014-02-01  4509.0  13380.0  177168.0      0.0            2.0   \n",
       "229802 2014-03-01  4509.0  15038.0  202678.0  63276.0            2.0   \n",
       "229803 2014-04-01  4509.0  20521.0  269656.0  84187.0            2.0   \n",
       "229804 2014-05-01  4509.0  16848.0  240905.0  75211.0            2.0   \n",
       "229805 2014-06-01  4509.0  14725.0  227761.0  71107.0            2.0   \n",
       "\n",
       "        LATERAL_LENGTH_BLEND_new  \n",
       "229801                    9910.0  \n",
       "229802                    9910.0  \n",
       "229803                    9910.0  \n",
       "229804                    9910.0  \n",
       "229805                    9910.0  "
      ]
     },
     "execution_count": 388,
     "metadata": {},
     "output_type": "execute_result"
    }
   ],
   "source": [
    "np.random.seed(82)\n",
    "test_well = df_1[(df_1.API == np.random.choice(df_1.API.unique(), 1)[0])]\n",
    "test_well.head()"
   ]
  },
  {
   "cell_type": "code",
   "execution_count": 389,
   "metadata": {},
   "outputs": [
    {
     "name": "stdout",
     "output_type": "stream",
     "text": [
      "<class 'pandas.core.frame.DataFrame'>\n",
      "Int64Index: 59 entries, 229801 to 229859\n",
      "Data columns (total 7 columns):\n",
      " #   Column                    Non-Null Count  Dtype         \n",
      "---  ------                    --------------  -----         \n",
      " 0   date                      59 non-null     datetime64[ns]\n",
      " 1   API                       59 non-null     float64       \n",
      " 2   Liquid                    59 non-null     float64       \n",
      " 3   Gas                       59 non-null     float64       \n",
      " 4   Water                     59 non-null     float64       \n",
      " 5   BasinName_new             59 non-null     float64       \n",
      " 6   LATERAL_LENGTH_BLEND_new  59 non-null     float64       \n",
      "dtypes: datetime64[ns](1), float64(6)\n",
      "memory usage: 3.7 KB\n"
     ]
    }
   ],
   "source": [
    "test_well.info()"
   ]
  },
  {
   "cell_type": "code",
   "execution_count": 382,
   "metadata": {},
   "outputs": [
    {
     "data": {
      "text/html": [
       "<div>\n",
       "<style scoped>\n",
       "    .dataframe tbody tr th:only-of-type {\n",
       "        vertical-align: middle;\n",
       "    }\n",
       "\n",
       "    .dataframe tbody tr th {\n",
       "        vertical-align: top;\n",
       "    }\n",
       "\n",
       "    .dataframe thead th {\n",
       "        text-align: right;\n",
       "    }\n",
       "</style>\n",
       "<table border=\"1\" class=\"dataframe\">\n",
       "  <thead>\n",
       "    <tr style=\"text-align: right;\">\n",
       "      <th></th>\n",
       "      <th>API</th>\n",
       "      <th>Liquid</th>\n",
       "      <th>Gas</th>\n",
       "      <th>Water</th>\n",
       "      <th>BasinName_new</th>\n",
       "      <th>LATERAL_LENGTH_BLEND_new</th>\n",
       "    </tr>\n",
       "    <tr>\n",
       "      <th>date</th>\n",
       "      <th></th>\n",
       "      <th></th>\n",
       "      <th></th>\n",
       "      <th></th>\n",
       "      <th></th>\n",
       "      <th></th>\n",
       "    </tr>\n",
       "  </thead>\n",
       "  <tbody>\n",
       "    <tr>\n",
       "      <th>2015-09-01</th>\n",
       "      <td>5259</td>\n",
       "      <td>18979</td>\n",
       "      <td>50186</td>\n",
       "      <td>63970</td>\n",
       "      <td>2</td>\n",
       "      <td>4458</td>\n",
       "    </tr>\n",
       "    <tr>\n",
       "      <th>2015-10-01</th>\n",
       "      <td>5259</td>\n",
       "      <td>9976</td>\n",
       "      <td>23791</td>\n",
       "      <td>30325</td>\n",
       "      <td>2</td>\n",
       "      <td>4458</td>\n",
       "    </tr>\n",
       "    <tr>\n",
       "      <th>2015-11-01</th>\n",
       "      <td>5259</td>\n",
       "      <td>9808</td>\n",
       "      <td>40827</td>\n",
       "      <td>52041</td>\n",
       "      <td>2</td>\n",
       "      <td>4458</td>\n",
       "    </tr>\n",
       "    <tr>\n",
       "      <th>2015-12-01</th>\n",
       "      <td>5259</td>\n",
       "      <td>645</td>\n",
       "      <td>3315</td>\n",
       "      <td>4225</td>\n",
       "      <td>2</td>\n",
       "      <td>4458</td>\n",
       "    </tr>\n",
       "    <tr>\n",
       "      <th>2016-01-01</th>\n",
       "      <td>5259</td>\n",
       "      <td>2688</td>\n",
       "      <td>7926</td>\n",
       "      <td>10103</td>\n",
       "      <td>2</td>\n",
       "      <td>4458</td>\n",
       "    </tr>\n",
       "  </tbody>\n",
       "</table>\n",
       "</div>"
      ],
      "text/plain": [
       "             API  Liquid    Gas  Water  BasinName_new  \\\n",
       "date                                                    \n",
       "2015-09-01  5259   18979  50186  63970              2   \n",
       "2015-10-01  5259    9976  23791  30325              2   \n",
       "2015-11-01  5259    9808  40827  52041              2   \n",
       "2015-12-01  5259     645   3315   4225              2   \n",
       "2016-01-01  5259    2688   7926  10103              2   \n",
       "\n",
       "            LATERAL_LENGTH_BLEND_new  \n",
       "date                                  \n",
       "2015-09-01                      4458  \n",
       "2015-10-01                      4458  \n",
       "2015-11-01                      4458  \n",
       "2015-12-01                      4458  \n",
       "2016-01-01                      4458  "
      ]
     },
     "execution_count": 382,
     "metadata": {},
     "output_type": "execute_result"
    }
   ],
   "source": [
    "test_well[test_well.index >= test_well.Liquid.idxmax()].head(5)"
   ]
  },
  {
   "cell_type": "code",
   "execution_count": 383,
   "metadata": {},
   "outputs": [
    {
     "name": "stderr",
     "output_type": "stream",
     "text": [
      "C:\\Users\\USUARIO\\AppData\\Local\\Temp\\ipykernel_2052\\3986820988.py:2: FutureWarning: reindexing with a non-unique Index is deprecated and will raise in a future version.\n",
      "  df[(df.API == well)] = df[(df.API == well)][(df[(df.API == well)].index >= df[(df.API == well)].Liquid.idxmax())]\n"
     ]
    },
    {
     "ename": "ValueError",
     "evalue": "cannot reindex on an axis with duplicate labels",
     "output_type": "error",
     "traceback": [
      "\u001b[1;31m---------------------------------------------------------------------------\u001b[0m",
      "\u001b[1;31mValueError\u001b[0m                                Traceback (most recent call last)",
      "\u001b[1;32mc:\\Users\\USUARIO\\Documents\\GitHub\\Oil-Gas-Projects\\Reservoir Engineering\\Notebooks\\Oil_produc_forecasting.ipynb Celda 51\u001b[0m in \u001b[0;36m<cell line: 1>\u001b[1;34m()\u001b[0m\n\u001b[0;32m      <a href='vscode-notebook-cell:/c%3A/Users/USUARIO/Documents/GitHub/Oil-Gas-Projects/Reservoir%20Engineering/Notebooks/Oil_produc_forecasting.ipynb#Y131sZmlsZQ%3D%3D?line=0'>1</a>\u001b[0m \u001b[39mfor\u001b[39;00m well \u001b[39min\u001b[39;00m df\u001b[39m.\u001b[39mAPI\u001b[39m.\u001b[39munique():\n\u001b[1;32m----> <a href='vscode-notebook-cell:/c%3A/Users/USUARIO/Documents/GitHub/Oil-Gas-Projects/Reservoir%20Engineering/Notebooks/Oil_produc_forecasting.ipynb#Y131sZmlsZQ%3D%3D?line=1'>2</a>\u001b[0m     df[(df\u001b[39m.\u001b[39mAPI \u001b[39m==\u001b[39m well)] \u001b[39m=\u001b[39m df[(df\u001b[39m.\u001b[39mAPI \u001b[39m==\u001b[39m well)][(df[(df\u001b[39m.\u001b[39mAPI \u001b[39m==\u001b[39m well)]\u001b[39m.\u001b[39mindex \u001b[39m>\u001b[39m\u001b[39m=\u001b[39m df[(df\u001b[39m.\u001b[39mAPI \u001b[39m==\u001b[39m well)]\u001b[39m.\u001b[39mLiquid\u001b[39m.\u001b[39midxmax())]\n",
      "File \u001b[1;32mc:\\Users\\USUARIO\\AppData\\Local\\Programs\\Python\\Python39\\lib\\site-packages\\pandas\\core\\frame.py:3643\u001b[0m, in \u001b[0;36mDataFrame.__setitem__\u001b[1;34m(self, key, value)\u001b[0m\n\u001b[0;32m   3641\u001b[0m     \u001b[39mself\u001b[39m\u001b[39m.\u001b[39m_setitem_frame(key, value)\n\u001b[0;32m   3642\u001b[0m \u001b[39melif\u001b[39;00m \u001b[39misinstance\u001b[39m(key, (Series, np\u001b[39m.\u001b[39mndarray, \u001b[39mlist\u001b[39m, Index)):\n\u001b[1;32m-> 3643\u001b[0m     \u001b[39mself\u001b[39;49m\u001b[39m.\u001b[39;49m_setitem_array(key, value)\n\u001b[0;32m   3644\u001b[0m \u001b[39melif\u001b[39;00m \u001b[39misinstance\u001b[39m(value, DataFrame):\n\u001b[0;32m   3645\u001b[0m     \u001b[39mself\u001b[39m\u001b[39m.\u001b[39m_set_item_frame_value(key, value)\n",
      "File \u001b[1;32mc:\\Users\\USUARIO\\AppData\\Local\\Programs\\Python\\Python39\\lib\\site-packages\\pandas\\core\\frame.py:3677\u001b[0m, in \u001b[0;36mDataFrame._setitem_array\u001b[1;34m(self, key, value)\u001b[0m\n\u001b[0;32m   3674\u001b[0m     \u001b[39mself\u001b[39m\u001b[39m.\u001b[39m_check_setitem_copy()\n\u001b[0;32m   3675\u001b[0m     \u001b[39mif\u001b[39;00m \u001b[39misinstance\u001b[39m(value, DataFrame):\n\u001b[0;32m   3676\u001b[0m         \u001b[39m# GH#39931 reindex since iloc does not align\u001b[39;00m\n\u001b[1;32m-> 3677\u001b[0m         value \u001b[39m=\u001b[39m value\u001b[39m.\u001b[39;49mreindex(\u001b[39mself\u001b[39;49m\u001b[39m.\u001b[39;49mindex\u001b[39m.\u001b[39;49mtake(indexer))\n\u001b[0;32m   3678\u001b[0m     \u001b[39mself\u001b[39m\u001b[39m.\u001b[39miloc[indexer] \u001b[39m=\u001b[39m value\n\u001b[0;32m   3680\u001b[0m \u001b[39melse\u001b[39;00m:\n\u001b[0;32m   3681\u001b[0m     \u001b[39m# Note: unlike self.iloc[:, indexer] = value, this will\u001b[39;00m\n\u001b[0;32m   3682\u001b[0m     \u001b[39m#  never try to overwrite values inplace\u001b[39;00m\n",
      "File \u001b[1;32mc:\\Users\\USUARIO\\AppData\\Local\\Programs\\Python\\Python39\\lib\\site-packages\\pandas\\util\\_decorators.py:324\u001b[0m, in \u001b[0;36mrewrite_axis_style_signature.<locals>.decorate.<locals>.wrapper\u001b[1;34m(*args, **kwargs)\u001b[0m\n\u001b[0;32m    322\u001b[0m \u001b[39m@wraps\u001b[39m(func)\n\u001b[0;32m    323\u001b[0m \u001b[39mdef\u001b[39;00m \u001b[39mwrapper\u001b[39m(\u001b[39m*\u001b[39margs, \u001b[39m*\u001b[39m\u001b[39m*\u001b[39mkwargs) \u001b[39m-\u001b[39m\u001b[39m>\u001b[39m Callable[\u001b[39m.\u001b[39m\u001b[39m.\u001b[39m\u001b[39m.\u001b[39m, Any]:\n\u001b[1;32m--> 324\u001b[0m     \u001b[39mreturn\u001b[39;00m func(\u001b[39m*\u001b[39margs, \u001b[39m*\u001b[39m\u001b[39m*\u001b[39mkwargs)\n",
      "File \u001b[1;32mc:\\Users\\USUARIO\\AppData\\Local\\Programs\\Python\\Python39\\lib\\site-packages\\pandas\\core\\frame.py:4804\u001b[0m, in \u001b[0;36mDataFrame.reindex\u001b[1;34m(self, *args, **kwargs)\u001b[0m\n\u001b[0;32m   4802\u001b[0m kwargs\u001b[39m.\u001b[39mpop(\u001b[39m\"\u001b[39m\u001b[39maxis\u001b[39m\u001b[39m\"\u001b[39m, \u001b[39mNone\u001b[39;00m)\n\u001b[0;32m   4803\u001b[0m kwargs\u001b[39m.\u001b[39mpop(\u001b[39m\"\u001b[39m\u001b[39mlabels\u001b[39m\u001b[39m\"\u001b[39m, \u001b[39mNone\u001b[39;00m)\n\u001b[1;32m-> 4804\u001b[0m \u001b[39mreturn\u001b[39;00m \u001b[39msuper\u001b[39m()\u001b[39m.\u001b[39mreindex(\u001b[39m*\u001b[39m\u001b[39m*\u001b[39mkwargs)\n",
      "File \u001b[1;32mc:\\Users\\USUARIO\\AppData\\Local\\Programs\\Python\\Python39\\lib\\site-packages\\pandas\\core\\generic.py:4966\u001b[0m, in \u001b[0;36mNDFrame.reindex\u001b[1;34m(self, *args, **kwargs)\u001b[0m\n\u001b[0;32m   4963\u001b[0m     \u001b[39mreturn\u001b[39;00m \u001b[39mself\u001b[39m\u001b[39m.\u001b[39m_reindex_multi(axes, copy, fill_value)\n\u001b[0;32m   4965\u001b[0m \u001b[39m# perform the reindex on the axes\u001b[39;00m\n\u001b[1;32m-> 4966\u001b[0m \u001b[39mreturn\u001b[39;00m \u001b[39mself\u001b[39;49m\u001b[39m.\u001b[39;49m_reindex_axes(\n\u001b[0;32m   4967\u001b[0m     axes, level, limit, tolerance, method, fill_value, copy\n\u001b[0;32m   4968\u001b[0m )\u001b[39m.\u001b[39m__finalize__(\u001b[39mself\u001b[39m, method\u001b[39m=\u001b[39m\u001b[39m\"\u001b[39m\u001b[39mreindex\u001b[39m\u001b[39m\"\u001b[39m)\n",
      "File \u001b[1;32mc:\\Users\\USUARIO\\AppData\\Local\\Programs\\Python\\Python39\\lib\\site-packages\\pandas\\core\\frame.py:4623\u001b[0m, in \u001b[0;36mDataFrame._reindex_axes\u001b[1;34m(self, axes, level, limit, tolerance, method, fill_value, copy)\u001b[0m\n\u001b[0;32m   4621\u001b[0m index \u001b[39m=\u001b[39m axes[\u001b[39m\"\u001b[39m\u001b[39mindex\u001b[39m\u001b[39m\"\u001b[39m]\n\u001b[0;32m   4622\u001b[0m \u001b[39mif\u001b[39;00m index \u001b[39mis\u001b[39;00m \u001b[39mnot\u001b[39;00m \u001b[39mNone\u001b[39;00m:\n\u001b[1;32m-> 4623\u001b[0m     frame \u001b[39m=\u001b[39m frame\u001b[39m.\u001b[39;49m_reindex_index(\n\u001b[0;32m   4624\u001b[0m         index, method, copy, level, fill_value, limit, tolerance\n\u001b[0;32m   4625\u001b[0m     )\n\u001b[0;32m   4627\u001b[0m \u001b[39mreturn\u001b[39;00m frame\n",
      "File \u001b[1;32mc:\\Users\\USUARIO\\AppData\\Local\\Programs\\Python\\Python39\\lib\\site-packages\\pandas\\core\\frame.py:4642\u001b[0m, in \u001b[0;36mDataFrame._reindex_index\u001b[1;34m(self, new_index, method, copy, level, fill_value, limit, tolerance)\u001b[0m\n\u001b[0;32m   4629\u001b[0m \u001b[39mdef\u001b[39;00m \u001b[39m_reindex_index\u001b[39m(\n\u001b[0;32m   4630\u001b[0m     \u001b[39mself\u001b[39m,\n\u001b[0;32m   4631\u001b[0m     new_index,\n\u001b[1;32m   (...)\u001b[0m\n\u001b[0;32m   4637\u001b[0m     tolerance\u001b[39m=\u001b[39m\u001b[39mNone\u001b[39;00m,\n\u001b[0;32m   4638\u001b[0m ):\n\u001b[0;32m   4639\u001b[0m     new_index, indexer \u001b[39m=\u001b[39m \u001b[39mself\u001b[39m\u001b[39m.\u001b[39mindex\u001b[39m.\u001b[39mreindex(\n\u001b[0;32m   4640\u001b[0m         new_index, method\u001b[39m=\u001b[39mmethod, level\u001b[39m=\u001b[39mlevel, limit\u001b[39m=\u001b[39mlimit, tolerance\u001b[39m=\u001b[39mtolerance\n\u001b[0;32m   4641\u001b[0m     )\n\u001b[1;32m-> 4642\u001b[0m     \u001b[39mreturn\u001b[39;00m \u001b[39mself\u001b[39;49m\u001b[39m.\u001b[39;49m_reindex_with_indexers(\n\u001b[0;32m   4643\u001b[0m         {\u001b[39m0\u001b[39;49m: [new_index, indexer]},\n\u001b[0;32m   4644\u001b[0m         copy\u001b[39m=\u001b[39;49mcopy,\n\u001b[0;32m   4645\u001b[0m         fill_value\u001b[39m=\u001b[39;49mfill_value,\n\u001b[0;32m   4646\u001b[0m         allow_dups\u001b[39m=\u001b[39;49m\u001b[39mFalse\u001b[39;49;00m,\n\u001b[0;32m   4647\u001b[0m     )\n",
      "File \u001b[1;32mc:\\Users\\USUARIO\\AppData\\Local\\Programs\\Python\\Python39\\lib\\site-packages\\pandas\\core\\generic.py:5032\u001b[0m, in \u001b[0;36mNDFrame._reindex_with_indexers\u001b[1;34m(self, reindexers, fill_value, copy, allow_dups)\u001b[0m\n\u001b[0;32m   5029\u001b[0m     indexer \u001b[39m=\u001b[39m ensure_platform_int(indexer)\n\u001b[0;32m   5031\u001b[0m \u001b[39m# TODO: speed up on homogeneous DataFrame objects (see _reindex_multi)\u001b[39;00m\n\u001b[1;32m-> 5032\u001b[0m new_data \u001b[39m=\u001b[39m new_data\u001b[39m.\u001b[39;49mreindex_indexer(\n\u001b[0;32m   5033\u001b[0m     index,\n\u001b[0;32m   5034\u001b[0m     indexer,\n\u001b[0;32m   5035\u001b[0m     axis\u001b[39m=\u001b[39;49mbaxis,\n\u001b[0;32m   5036\u001b[0m     fill_value\u001b[39m=\u001b[39;49mfill_value,\n\u001b[0;32m   5037\u001b[0m     allow_dups\u001b[39m=\u001b[39;49mallow_dups,\n\u001b[0;32m   5038\u001b[0m     copy\u001b[39m=\u001b[39;49mcopy,\n\u001b[0;32m   5039\u001b[0m )\n\u001b[0;32m   5040\u001b[0m \u001b[39m# If we've made a copy once, no need to make another one\u001b[39;00m\n\u001b[0;32m   5041\u001b[0m copy \u001b[39m=\u001b[39m \u001b[39mFalse\u001b[39;00m\n",
      "File \u001b[1;32mc:\\Users\\USUARIO\\AppData\\Local\\Programs\\Python\\Python39\\lib\\site-packages\\pandas\\core\\internals\\managers.py:679\u001b[0m, in \u001b[0;36mBaseBlockManager.reindex_indexer\u001b[1;34m(self, new_axis, indexer, axis, fill_value, allow_dups, copy, consolidate, only_slice, use_na_proxy)\u001b[0m\n\u001b[0;32m    677\u001b[0m \u001b[39m# some axes don't allow reindexing with dups\u001b[39;00m\n\u001b[0;32m    678\u001b[0m \u001b[39mif\u001b[39;00m \u001b[39mnot\u001b[39;00m allow_dups:\n\u001b[1;32m--> 679\u001b[0m     \u001b[39mself\u001b[39;49m\u001b[39m.\u001b[39;49maxes[axis]\u001b[39m.\u001b[39;49m_validate_can_reindex(indexer)\n\u001b[0;32m    681\u001b[0m \u001b[39mif\u001b[39;00m axis \u001b[39m>\u001b[39m\u001b[39m=\u001b[39m \u001b[39mself\u001b[39m\u001b[39m.\u001b[39mndim:\n\u001b[0;32m    682\u001b[0m     \u001b[39mraise\u001b[39;00m \u001b[39mIndexError\u001b[39;00m(\u001b[39m\"\u001b[39m\u001b[39mRequested axis not found in manager\u001b[39m\u001b[39m\"\u001b[39m)\n",
      "File \u001b[1;32mc:\\Users\\USUARIO\\AppData\\Local\\Programs\\Python\\Python39\\lib\\site-packages\\pandas\\core\\indexes\\base.py:4107\u001b[0m, in \u001b[0;36mIndex._validate_can_reindex\u001b[1;34m(self, indexer)\u001b[0m\n\u001b[0;32m   4105\u001b[0m \u001b[39m# trying to reindex on an axis with duplicates\u001b[39;00m\n\u001b[0;32m   4106\u001b[0m \u001b[39mif\u001b[39;00m \u001b[39mnot\u001b[39;00m \u001b[39mself\u001b[39m\u001b[39m.\u001b[39m_index_as_unique \u001b[39mand\u001b[39;00m \u001b[39mlen\u001b[39m(indexer):\n\u001b[1;32m-> 4107\u001b[0m     \u001b[39mraise\u001b[39;00m \u001b[39mValueError\u001b[39;00m(\u001b[39m\"\u001b[39m\u001b[39mcannot reindex on an axis with duplicate labels\u001b[39m\u001b[39m\"\u001b[39m)\n",
      "\u001b[1;31mValueError\u001b[0m: cannot reindex on an axis with duplicate labels"
     ]
    }
   ],
   "source": [
    "for well in df.API.unique():\n",
    "    df[(df.API == well)] = df[(df.API == well)][(df[(df.API == well)].index >= df[(df.API == well)].Liquid.idxmax())]"
   ]
  },
  {
   "cell_type": "code",
   "execution_count": null,
   "metadata": {},
   "outputs": [
    {
     "data": {
      "text/plain": [
       "400066"
      ]
     },
     "execution_count": 333,
     "metadata": {},
     "output_type": "execute_result"
    }
   ],
   "source": [
    "df.index.duplicated().sum()"
   ]
  },
  {
   "cell_type": "code",
   "execution_count": null,
   "metadata": {},
   "outputs": [
    {
     "data": {
      "text/html": [
       "<div>\n",
       "<style scoped>\n",
       "    .dataframe tbody tr th:only-of-type {\n",
       "        vertical-align: middle;\n",
       "    }\n",
       "\n",
       "    .dataframe tbody tr th {\n",
       "        vertical-align: top;\n",
       "    }\n",
       "\n",
       "    .dataframe thead th {\n",
       "        text-align: right;\n",
       "    }\n",
       "</style>\n",
       "<table border=\"1\" class=\"dataframe\">\n",
       "  <thead>\n",
       "    <tr style=\"text-align: right;\">\n",
       "      <th></th>\n",
       "      <th>API</th>\n",
       "      <th>Liquid</th>\n",
       "      <th>Gas</th>\n",
       "      <th>Water</th>\n",
       "      <th>BasinName_new</th>\n",
       "      <th>LATERAL_LENGTH_BLEND_new</th>\n",
       "    </tr>\n",
       "    <tr>\n",
       "      <th>date</th>\n",
       "      <th></th>\n",
       "      <th></th>\n",
       "      <th></th>\n",
       "      <th></th>\n",
       "      <th></th>\n",
       "      <th></th>\n",
       "    </tr>\n",
       "  </thead>\n",
       "  <tbody>\n",
       "    <tr>\n",
       "      <th>2015-08-01</th>\n",
       "      <td>5259.0</td>\n",
       "      <td>2642.0</td>\n",
       "      <td>10662.0</td>\n",
       "      <td>13590.0</td>\n",
       "      <td>2.0</td>\n",
       "      <td>4458.0</td>\n",
       "    </tr>\n",
       "    <tr>\n",
       "      <th>2015-09-01</th>\n",
       "      <td>5259.0</td>\n",
       "      <td>18979.0</td>\n",
       "      <td>50186.0</td>\n",
       "      <td>63970.0</td>\n",
       "      <td>2.0</td>\n",
       "      <td>4458.0</td>\n",
       "    </tr>\n",
       "    <tr>\n",
       "      <th>2015-10-01</th>\n",
       "      <td>5259.0</td>\n",
       "      <td>9976.0</td>\n",
       "      <td>23791.0</td>\n",
       "      <td>30325.0</td>\n",
       "      <td>2.0</td>\n",
       "      <td>4458.0</td>\n",
       "    </tr>\n",
       "    <tr>\n",
       "      <th>2015-11-01</th>\n",
       "      <td>5259.0</td>\n",
       "      <td>9808.0</td>\n",
       "      <td>40827.0</td>\n",
       "      <td>52041.0</td>\n",
       "      <td>2.0</td>\n",
       "      <td>4458.0</td>\n",
       "    </tr>\n",
       "    <tr>\n",
       "      <th>2015-12-01</th>\n",
       "      <td>5259.0</td>\n",
       "      <td>645.0</td>\n",
       "      <td>3315.0</td>\n",
       "      <td>4225.0</td>\n",
       "      <td>2.0</td>\n",
       "      <td>4458.0</td>\n",
       "    </tr>\n",
       "  </tbody>\n",
       "</table>\n",
       "</div>"
      ],
      "text/plain": [
       "               API   Liquid      Gas    Water  BasinName_new  \\\n",
       "date                                                           \n",
       "2015-08-01  5259.0   2642.0  10662.0  13590.0            2.0   \n",
       "2015-09-01  5259.0  18979.0  50186.0  63970.0            2.0   \n",
       "2015-10-01  5259.0   9976.0  23791.0  30325.0            2.0   \n",
       "2015-11-01  5259.0   9808.0  40827.0  52041.0            2.0   \n",
       "2015-12-01  5259.0    645.0   3315.0   4225.0            2.0   \n",
       "\n",
       "            LATERAL_LENGTH_BLEND_new  \n",
       "date                                  \n",
       "2015-08-01                    4458.0  \n",
       "2015-09-01                    4458.0  \n",
       "2015-10-01                    4458.0  \n",
       "2015-11-01                    4458.0  \n",
       "2015-12-01                    4458.0  "
      ]
     },
     "execution_count": 318,
     "metadata": {},
     "output_type": "execute_result"
    }
   ],
   "source": [
    "df[(df.API == 5259)].head(5)"
   ]
  },
  {
   "cell_type": "markdown",
   "metadata": {},
   "source": [
    "#### Splitting data into train and test sets"
   ]
  },
  {
   "cell_type": "code",
   "execution_count": null,
   "metadata": {},
   "outputs": [],
   "source": [
    "Y_train_set = df.Liquid[:train_df.shape[0]]\n",
    "exo_train_set = df[:train_df.shape[0]].drop(['Liquid'], axis=1)\n",
    "Y_test_set = df.Liquid[train_df.shape[0]:]\n",
    "exo_test_set = df[train_df.shape[0]:].drop(['Liquid'], axis=1)"
   ]
  },
  {
   "cell_type": "code",
   "execution_count": null,
   "metadata": {},
   "outputs": [
    {
     "name": "stdout",
     "output_type": "stream",
     "text": [
      "<class 'pandas.core.frame.DataFrame'>\n",
      "Index: 394074 entries, 2015-03-01 00:00:00 to 2018-09-01 00:00:00\n",
      "Data columns (total 5 columns):\n",
      " #   Column                    Non-Null Count   Dtype\n",
      "---  ------                    --------------   -----\n",
      " 0   API                       394074 non-null  int16\n",
      " 1   Gas                       394074 non-null  int64\n",
      " 2   Water                     394074 non-null  int64\n",
      " 3   BasinName_new             394074 non-null  int8 \n",
      " 4   LATERAL_LENGTH_BLEND_new  394074 non-null  int64\n",
      "dtypes: int16(1), int64(3), int8(1)\n",
      "memory usage: 13.2+ MB\n"
     ]
    }
   ],
   "source": [
    "exo_train_set.info()"
   ]
  },
  {
   "cell_type": "code",
   "execution_count": null,
   "metadata": {},
   "outputs": [
    {
     "name": "stdout",
     "output_type": "stream",
     "text": [
      "<class 'pandas.core.series.Series'>\n",
      "Index: 394074 entries, 2015-03-01 00:00:00 to 2018-09-01 00:00:00\n",
      "Series name: Liquid\n",
      "Non-Null Count   Dtype\n",
      "--------------   -----\n",
      "394074 non-null  int64\n",
      "dtypes: int64(1)\n",
      "memory usage: 6.0+ MB\n"
     ]
    }
   ],
   "source": [
    "Y_train_set.info()"
   ]
  },
  {
   "cell_type": "code",
   "execution_count": null,
   "metadata": {},
   "outputs": [],
   "source": [
    "# mod_auar_li = auto_arima(Y_train_set, exogenous=exo_train_set[['API', 'Gas', 'Water','BasinName_new','LATERAL_LENGTH_BLEND_new']], m=5, max_p=5, max_q=5)"
   ]
  },
  {
   "cell_type": "code",
   "execution_count": null,
   "metadata": {},
   "outputs": [
    {
     "data": {
      "text/plain": [
       "[array(['API', 'Gas', 'Water', 'BasinName_new', 'LATERAL_LENGTH_BLEND_new'],\n",
       "       dtype=object)]"
      ]
     },
     "execution_count": 46,
     "metadata": {},
     "output_type": "execute_result"
    }
   ],
   "source": [
    "[exo_train_set.columns.values]"
   ]
  },
  {
   "cell_type": "code",
   "execution_count": null,
   "metadata": {},
   "outputs": [],
   "source": []
  }
 ],
 "metadata": {
  "kernelspec": {
   "display_name": "Python 3.9.12 64-bit",
   "language": "python",
   "name": "python3"
  },
  "language_info": {
   "codemirror_mode": {
    "name": "ipython",
    "version": 3
   },
   "file_extension": ".py",
   "mimetype": "text/x-python",
   "name": "python",
   "nbconvert_exporter": "python",
   "pygments_lexer": "ipython3",
   "version": "3.9.12"
  },
  "orig_nbformat": 4,
  "vscode": {
   "interpreter": {
    "hash": "4ff442374353e7cd8d0b317b986b0b774c361b92b00d7ea43e4b1384f67d1c1b"
   }
  }
 },
 "nbformat": 4,
 "nbformat_minor": 2
}
