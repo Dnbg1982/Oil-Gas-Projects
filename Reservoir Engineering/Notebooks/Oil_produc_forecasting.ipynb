{
 "cells": [
  {
   "cell_type": "code",
   "execution_count": 6,
   "metadata": {},
   "outputs": [],
   "source": [
    "import pandas as pd\n",
    "import numpy as np\n",
    "import matplotlib.pyplot as plt\n",
    "import seaborn as sns\n",
    "import sqlite3"
   ]
  },
  {
   "cell_type": "code",
   "execution_count": 11,
   "metadata": {},
   "outputs": [
    {
     "ename": "OperationalError",
     "evalue": "unable to open database file",
     "output_type": "error",
     "traceback": [
      "\u001b[1;31m---------------------------------------------------------------------------\u001b[0m",
      "\u001b[1;31mOperationalError\u001b[0m                          Traceback (most recent call last)",
      "\u001b[1;32mc:\\Users\\USUARIO\\Documents\\GitHub\\Oil-Gas-Projects\\Reservoir Engineering\\Notebooks\\Oil_produc_forecasting.ipynb Celda 2\u001b[0m in \u001b[0;36m<cell line: 1>\u001b[1;34m()\u001b[0m\n\u001b[1;32m----> <a href='vscode-notebook-cell:/c%3A/Users/USUARIO/Documents/GitHub/Oil-Gas-Projects/Reservoir%20Engineering/Notebooks/Oil_produc_forecasting.ipynb#ch0000001?line=0'>1</a>\u001b[0m con \u001b[39m=\u001b[39m sqlite3\u001b[39m.\u001b[39;49mconnect(\u001b[39m\"\u001b[39;49m\u001b[39mDatasets\u001b[39;49m\u001b[39m\\b\u001b[39;49;00m\u001b[39mrazil_oil_production.sqlite\u001b[39;49m\u001b[39m\"\u001b[39;49m)\n\u001b[0;32m      <a href='vscode-notebook-cell:/c%3A/Users/USUARIO/Documents/GitHub/Oil-Gas-Projects/Reservoir%20Engineering/Notebooks/Oil_produc_forecasting.ipynb#ch0000001?line=2'>3</a>\u001b[0m \u001b[39m# Load the data into a DataFrame\u001b[39;00m\n\u001b[0;32m      <a href='vscode-notebook-cell:/c%3A/Users/USUARIO/Documents/GitHub/Oil-Gas-Projects/Reservoir%20Engineering/Notebooks/Oil_produc_forecasting.ipynb#ch0000001?line=3'>4</a>\u001b[0m surveys_df \u001b[39m=\u001b[39m pd\u001b[39m.\u001b[39mread_sql_query(\u001b[39m\"\u001b[39m\u001b[39mSELECT * FROM production\u001b[39m\u001b[39m\"\u001b[39m, con)\n",
      "\u001b[1;31mOperationalError\u001b[0m: unable to open database file"
     ]
    }
   ],
   "source": [
    "cnn = None\n",
    "filenme = r'Datasets\\brazil_oil_production.sqlite\\brazil_oil_production.sqlite'\n",
    "\n",
    "try: \n",
    "    with open\n"
   ]
  },
  {
   "cell_type": "code",
   "execution_count": null,
   "metadata": {},
   "outputs": [],
   "source": []
  }
 ],
 "metadata": {
  "kernelspec": {
   "display_name": "Python 3.10.4 64-bit",
   "language": "python",
   "name": "python3"
  },
  "language_info": {
   "codemirror_mode": {
    "name": "ipython",
    "version": 3
   },
   "file_extension": ".py",
   "mimetype": "text/x-python",
   "name": "python",
   "nbconvert_exporter": "python",
   "pygments_lexer": "ipython3",
   "version": "3.10.4"
  },
  "orig_nbformat": 4,
  "vscode": {
   "interpreter": {
    "hash": "110fe3fb9777db4ce1f884af3cc527a40b2c98427ad17781c021ef692bd3d28d"
   }
  }
 },
 "nbformat": 4,
 "nbformat_minor": 2
}
