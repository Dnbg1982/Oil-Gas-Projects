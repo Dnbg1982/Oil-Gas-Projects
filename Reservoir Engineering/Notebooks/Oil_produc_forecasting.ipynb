{
 "cells": [
  {
   "cell_type": "code",
   "execution_count": 2,
   "metadata": {},
   "outputs": [],
   "source": [
    "import pandas as pd\n",
    "import numpy as np\n",
    "import matplotlib.pyplot as plt\n",
    "import seaborn as sns\n",
    "import statsmodels.graphics.tsaplots as sgt \n",
    "import statsmodels.tsa.stattools as sts \n",
    "from statsmodels.tsa.seasonal import seasonal_decompose\n",
    "from statsmodels.tsa.arima.model import ARIMA, ARIMAResults\n",
    "from statsmodels.tsa.arima_process import ArmaProcess\n",
    "from statsmodels.tsa.statespace.sarimax import SARIMAX\n",
    "from pmdarima.arima import auto_arima\n",
    "from pmdarima.arima import OCSBTest "
   ]
  },
  {
   "cell_type": "code",
   "execution_count": 3,
   "metadata": {},
   "outputs": [
    {
     "data": {
      "text/plain": [
       "((1134, 1), (8930, 7), (9224, 14), (394074, 9), (6489, 11))"
      ]
     },
     "execution_count": 3,
     "metadata": {},
     "output_type": "execute_result"
    }
   ],
   "source": [
    "harmony_data = pd.read_csv(r'C:\\Users\\USUARIO\\Documents\\GitHub\\Oil-Gas-Projects\\Reservoir Engineering\\Datasets\\Oil Production\\Harmony_data.csv')\n",
    "IHS_data = pd.read_csv(r'C:\\Users\\USUARIO\\Documents\\GitHub\\Oil-Gas-Projects\\Reservoir Engineering\\Datasets\\Oil Production\\IHS_data.csv')\n",
    "train_data = pd.read_csv(r'C:\\Users\\USUARIO\\Documents\\GitHub\\Oil-Gas-Projects\\Reservoir Engineering\\Datasets\\Oil Production\\production_data_train.csv', parse_dates=[['Month', 'Year']])\n",
    "test_data = pd.read_csv(r'C:\\Users\\USUARIO\\Documents\\GitHub\\Oil-Gas-Projects\\Reservoir Engineering\\Datasets\\Oil Production\\production_data_test.csv')\n",
    "test_APIs = pd.read_csv(r'C:\\Users\\USUARIO\\Documents\\GitHub\\Oil-Gas-Projects\\Reservoir Engineering\\Datasets\\Oil Production\\Test_APIs.csv')\n",
    "test_APIs.shape, harmony_data.shape, IHS_data.shape, train_data.shape, test_data.shape,"
   ]
  },
  {
   "cell_type": "markdown",
   "metadata": {},
   "source": [
    "## Exploratory Data Analysis"
   ]
  },
  {
   "cell_type": "code",
   "execution_count": 4,
   "metadata": {},
   "outputs": [
    {
     "data": {
      "text/html": [
       "<div>\n",
       "<style scoped>\n",
       "    .dataframe tbody tr th:only-of-type {\n",
       "        vertical-align: middle;\n",
       "    }\n",
       "\n",
       "    .dataframe tbody tr th {\n",
       "        vertical-align: top;\n",
       "    }\n",
       "\n",
       "    .dataframe thead th {\n",
       "        text-align: right;\n",
       "    }\n",
       "</style>\n",
       "<table border=\"1\" class=\"dataframe\">\n",
       "  <thead>\n",
       "    <tr style=\"text-align: right;\">\n",
       "      <th></th>\n",
       "      <th>API</th>\n",
       "      <th>LATERAL_LENGTH_BLEND</th>\n",
       "      <th>PROP_PER_FOOT</th>\n",
       "      <th>WATER_PER_FOOT</th>\n",
       "      <th>GOR_30</th>\n",
       "      <th>GOR_60</th>\n",
       "      <th>GOR_90</th>\n",
       "    </tr>\n",
       "  </thead>\n",
       "  <tbody>\n",
       "    <tr>\n",
       "      <th>0</th>\n",
       "      <td>5123371740000</td>\n",
       "      <td>9056</td>\n",
       "      <td>1025.8680</td>\n",
       "      <td>790.7205</td>\n",
       "      <td>2300.919963</td>\n",
       "      <td>2290.231375</td>\n",
       "      <td>2171.635752</td>\n",
       "    </tr>\n",
       "    <tr>\n",
       "      <th>1</th>\n",
       "      <td>5123377360000</td>\n",
       "      <td>4101</td>\n",
       "      <td>NaN</td>\n",
       "      <td>NaN</td>\n",
       "      <td>3786.669639</td>\n",
       "      <td>3838.096579</td>\n",
       "      <td>4012.142621</td>\n",
       "    </tr>\n",
       "    <tr>\n",
       "      <th>2</th>\n",
       "      <td>5123378210000</td>\n",
       "      <td>4161</td>\n",
       "      <td>916.0801</td>\n",
       "      <td>839.9280</td>\n",
       "      <td>2399.490505</td>\n",
       "      <td>2291.864862</td>\n",
       "      <td>2472.275585</td>\n",
       "    </tr>\n",
       "  </tbody>\n",
       "</table>\n",
       "</div>"
      ],
      "text/plain": [
       "             API  LATERAL_LENGTH_BLEND  PROP_PER_FOOT  WATER_PER_FOOT  \\\n",
       "0  5123371740000                  9056      1025.8680        790.7205   \n",
       "1  5123377360000                  4101            NaN             NaN   \n",
       "2  5123378210000                  4161       916.0801        839.9280   \n",
       "\n",
       "        GOR_30       GOR_60       GOR_90  \n",
       "0  2300.919963  2290.231375  2171.635752  \n",
       "1  3786.669639  3838.096579  4012.142621  \n",
       "2  2399.490505  2291.864862  2472.275585  "
      ]
     },
     "execution_count": 4,
     "metadata": {},
     "output_type": "execute_result"
    }
   ],
   "source": [
    "harmony_data.head(3)"
   ]
  },
  {
   "cell_type": "code",
   "execution_count": 5,
   "metadata": {},
   "outputs": [
    {
     "data": {
      "text/html": [
       "<div>\n",
       "<style scoped>\n",
       "    .dataframe tbody tr th:only-of-type {\n",
       "        vertical-align: middle;\n",
       "    }\n",
       "\n",
       "    .dataframe tbody tr th {\n",
       "        vertical-align: top;\n",
       "    }\n",
       "\n",
       "    .dataframe thead th {\n",
       "        text-align: right;\n",
       "    }\n",
       "</style>\n",
       "<table border=\"1\" class=\"dataframe\">\n",
       "  <thead>\n",
       "    <tr style=\"text-align: right;\">\n",
       "      <th></th>\n",
       "      <th>API</th>\n",
       "      <th>PermitDate</th>\n",
       "      <th>SpudDate</th>\n",
       "      <th>CompletionDate</th>\n",
       "      <th>FirstProductionDate</th>\n",
       "      <th>operatorNameIHS</th>\n",
       "      <th>formation</th>\n",
       "      <th>BasinName</th>\n",
       "      <th>StateName</th>\n",
       "      <th>CountyName</th>\n",
       "      <th>LatWGS84</th>\n",
       "      <th>LonWGS84</th>\n",
       "      <th>BottomHoleLatitude</th>\n",
       "      <th>BottomHoleLongitude</th>\n",
       "    </tr>\n",
       "  </thead>\n",
       "  <tbody>\n",
       "    <tr>\n",
       "      <th>0</th>\n",
       "      <td>33105037530000</td>\n",
       "      <td>2014-09-10</td>\n",
       "      <td>2014-12-31</td>\n",
       "      <td>2015-05-05</td>\n",
       "      <td>2015-03-01 00:00:00.000</td>\n",
       "      <td>CONTINENTAL RESOURCES INCORPORATED</td>\n",
       "      <td>BAKKEN</td>\n",
       "      <td>WILLISTON BASIN</td>\n",
       "      <td>NORTH DAKOTA</td>\n",
       "      <td>WILLIAMS</td>\n",
       "      <td>48.227596</td>\n",
       "      <td>-103.299600</td>\n",
       "      <td>48.2546</td>\n",
       "      <td>-103.29997</td>\n",
       "    </tr>\n",
       "    <tr>\n",
       "      <th>1</th>\n",
       "      <td>33105032020000</td>\n",
       "      <td>2013-09-09</td>\n",
       "      <td>2013-11-02</td>\n",
       "      <td>2014-04-28</td>\n",
       "      <td>2014-04-01 00:00:00.000</td>\n",
       "      <td>CONTINENTAL RESOURCES INCORPORATED</td>\n",
       "      <td>BAKKEN</td>\n",
       "      <td>WILLISTON BASIN</td>\n",
       "      <td>NORTH DAKOTA</td>\n",
       "      <td>WILLIAMS</td>\n",
       "      <td>48.230954</td>\n",
       "      <td>-103.189754</td>\n",
       "      <td>48.1983</td>\n",
       "      <td>-103.19195</td>\n",
       "    </tr>\n",
       "  </tbody>\n",
       "</table>\n",
       "</div>"
      ],
      "text/plain": [
       "              API  PermitDate    SpudDate CompletionDate  \\\n",
       "0  33105037530000  2014-09-10  2014-12-31     2015-05-05   \n",
       "1  33105032020000  2013-09-09  2013-11-02     2014-04-28   \n",
       "\n",
       "       FirstProductionDate                     operatorNameIHS formation  \\\n",
       "0  2015-03-01 00:00:00.000  CONTINENTAL RESOURCES INCORPORATED    BAKKEN   \n",
       "1  2014-04-01 00:00:00.000  CONTINENTAL RESOURCES INCORPORATED    BAKKEN   \n",
       "\n",
       "         BasinName     StateName CountyName   LatWGS84    LonWGS84  \\\n",
       "0  WILLISTON BASIN  NORTH DAKOTA   WILLIAMS  48.227596 -103.299600   \n",
       "1  WILLISTON BASIN  NORTH DAKOTA   WILLIAMS  48.230954 -103.189754   \n",
       "\n",
       "   BottomHoleLatitude  BottomHoleLongitude  \n",
       "0             48.2546           -103.29997  \n",
       "1             48.1983           -103.19195  "
      ]
     },
     "execution_count": 5,
     "metadata": {},
     "output_type": "execute_result"
    }
   ],
   "source": [
    "IHS_data.head(2)"
   ]
  },
  {
   "cell_type": "code",
   "execution_count": 6,
   "metadata": {},
   "outputs": [
    {
     "data": {
      "text/html": [
       "<div>\n",
       "<style scoped>\n",
       "    .dataframe tbody tr th:only-of-type {\n",
       "        vertical-align: middle;\n",
       "    }\n",
       "\n",
       "    .dataframe tbody tr th {\n",
       "        vertical-align: top;\n",
       "    }\n",
       "\n",
       "    .dataframe thead th {\n",
       "        text-align: right;\n",
       "    }\n",
       "</style>\n",
       "<table border=\"1\" class=\"dataframe\">\n",
       "  <thead>\n",
       "    <tr style=\"text-align: right;\">\n",
       "      <th></th>\n",
       "      <th>Month_Year</th>\n",
       "      <th>API</th>\n",
       "      <th>Liquid</th>\n",
       "      <th>Gas</th>\n",
       "      <th>RatioGasOil</th>\n",
       "      <th>Water</th>\n",
       "      <th>PercentWater</th>\n",
       "      <th>DaysOn</th>\n",
       "      <th>_LastUpdate</th>\n",
       "    </tr>\n",
       "  </thead>\n",
       "  <tbody>\n",
       "    <tr>\n",
       "      <th>0</th>\n",
       "      <td>2015-03-01</td>\n",
       "      <td>33053063590000</td>\n",
       "      <td>17186</td>\n",
       "      <td>26624</td>\n",
       "      <td>1.549168</td>\n",
       "      <td>8213</td>\n",
       "      <td>0.477889</td>\n",
       "      <td>16</td>\n",
       "      <td>2016-08-11 14:03:14.000</td>\n",
       "    </tr>\n",
       "    <tr>\n",
       "      <th>1</th>\n",
       "      <td>2015-04-01</td>\n",
       "      <td>33053063590000</td>\n",
       "      <td>18796</td>\n",
       "      <td>21796</td>\n",
       "      <td>1.159608</td>\n",
       "      <td>7255</td>\n",
       "      <td>0.385986</td>\n",
       "      <td>30</td>\n",
       "      <td>2016-08-11 14:03:14.000</td>\n",
       "    </tr>\n",
       "  </tbody>\n",
       "</table>\n",
       "</div>"
      ],
      "text/plain": [
       "  Month_Year             API  Liquid    Gas  RatioGasOil  Water  PercentWater  \\\n",
       "0 2015-03-01  33053063590000   17186  26624     1.549168   8213      0.477889   \n",
       "1 2015-04-01  33053063590000   18796  21796     1.159608   7255      0.385986   \n",
       "\n",
       "   DaysOn              _LastUpdate  \n",
       "0      16  2016-08-11 14:03:14.000  \n",
       "1      30  2016-08-11 14:03:14.000  "
      ]
     },
     "execution_count": 6,
     "metadata": {},
     "output_type": "execute_result"
    }
   ],
   "source": [
    "train_data.head(2)"
   ]
  },
  {
   "cell_type": "code",
   "execution_count": 7,
   "metadata": {},
   "outputs": [
    {
     "data": {
      "text/html": [
       "<div>\n",
       "<style scoped>\n",
       "    .dataframe tbody tr th:only-of-type {\n",
       "        vertical-align: middle;\n",
       "    }\n",
       "\n",
       "    .dataframe tbody tr th {\n",
       "        vertical-align: top;\n",
       "    }\n",
       "\n",
       "    .dataframe thead th {\n",
       "        text-align: right;\n",
       "    }\n",
       "</style>\n",
       "<table border=\"1\" class=\"dataframe\">\n",
       "  <thead>\n",
       "    <tr style=\"text-align: right;\">\n",
       "      <th></th>\n",
       "      <th>API</th>\n",
       "      <th>Year</th>\n",
       "      <th>Month</th>\n",
       "      <th>Liquid</th>\n",
       "      <th>Gas</th>\n",
       "      <th>RatioGasOil</th>\n",
       "      <th>Water</th>\n",
       "      <th>PercentWater</th>\n",
       "      <th>DaysOn</th>\n",
       "      <th>_LastUpdate</th>\n",
       "      <th>date</th>\n",
       "    </tr>\n",
       "  </thead>\n",
       "  <tbody>\n",
       "    <tr>\n",
       "      <th>0</th>\n",
       "      <td>33053052530100</td>\n",
       "      <td>2014</td>\n",
       "      <td>7</td>\n",
       "      <td>19518</td>\n",
       "      <td>34414</td>\n",
       "      <td>1.763193</td>\n",
       "      <td>10786</td>\n",
       "      <td>0.552618</td>\n",
       "      <td>31</td>\n",
       "      <td>2016-04-06 13:48:08.990</td>\n",
       "      <td>2014-07-01</td>\n",
       "    </tr>\n",
       "    <tr>\n",
       "      <th>1</th>\n",
       "      <td>33053052530100</td>\n",
       "      <td>2014</td>\n",
       "      <td>8</td>\n",
       "      <td>18632</td>\n",
       "      <td>32250</td>\n",
       "      <td>1.730893</td>\n",
       "      <td>9959</td>\n",
       "      <td>0.534511</td>\n",
       "      <td>31</td>\n",
       "      <td>2016-04-06 13:48:08.990</td>\n",
       "      <td>2014-08-01</td>\n",
       "    </tr>\n",
       "  </tbody>\n",
       "</table>\n",
       "</div>"
      ],
      "text/plain": [
       "              API  Year  Month  Liquid    Gas  RatioGasOil  Water  \\\n",
       "0  33053052530100  2014      7   19518  34414     1.763193  10786   \n",
       "1  33053052530100  2014      8   18632  32250     1.730893   9959   \n",
       "\n",
       "   PercentWater  DaysOn              _LastUpdate        date  \n",
       "0      0.552618      31  2016-04-06 13:48:08.990  2014-07-01  \n",
       "1      0.534511      31  2016-04-06 13:48:08.990  2014-08-01  "
      ]
     },
     "execution_count": 7,
     "metadata": {},
     "output_type": "execute_result"
    }
   ],
   "source": [
    "test_data.head(2)"
   ]
  },
  {
   "cell_type": "code",
   "execution_count": 8,
   "metadata": {},
   "outputs": [],
   "source": [
    "test_data.set_index('date', inplace=True)\n",
    "test_data.drop(['Year','Month'], axis=1, inplace=True)"
   ]
  },
  {
   "cell_type": "code",
   "execution_count": 9,
   "metadata": {},
   "outputs": [
    {
     "data": {
      "text/html": [
       "<div>\n",
       "<style scoped>\n",
       "    .dataframe tbody tr th:only-of-type {\n",
       "        vertical-align: middle;\n",
       "    }\n",
       "\n",
       "    .dataframe tbody tr th {\n",
       "        vertical-align: top;\n",
       "    }\n",
       "\n",
       "    .dataframe thead th {\n",
       "        text-align: right;\n",
       "    }\n",
       "</style>\n",
       "<table border=\"1\" class=\"dataframe\">\n",
       "  <thead>\n",
       "    <tr style=\"text-align: right;\">\n",
       "      <th></th>\n",
       "      <th>API</th>\n",
       "      <th>Liquid</th>\n",
       "      <th>Gas</th>\n",
       "      <th>RatioGasOil</th>\n",
       "      <th>Water</th>\n",
       "      <th>PercentWater</th>\n",
       "      <th>DaysOn</th>\n",
       "      <th>_LastUpdate</th>\n",
       "    </tr>\n",
       "    <tr>\n",
       "      <th>date</th>\n",
       "      <th></th>\n",
       "      <th></th>\n",
       "      <th></th>\n",
       "      <th></th>\n",
       "      <th></th>\n",
       "      <th></th>\n",
       "      <th></th>\n",
       "      <th></th>\n",
       "    </tr>\n",
       "  </thead>\n",
       "  <tbody>\n",
       "    <tr>\n",
       "      <th>2014-07-01</th>\n",
       "      <td>33053052530100</td>\n",
       "      <td>19518</td>\n",
       "      <td>34414</td>\n",
       "      <td>1.763193</td>\n",
       "      <td>10786</td>\n",
       "      <td>0.552618</td>\n",
       "      <td>31</td>\n",
       "      <td>2016-04-06 13:48:08.990</td>\n",
       "    </tr>\n",
       "    <tr>\n",
       "      <th>2014-08-01</th>\n",
       "      <td>33053052530100</td>\n",
       "      <td>18632</td>\n",
       "      <td>32250</td>\n",
       "      <td>1.730893</td>\n",
       "      <td>9959</td>\n",
       "      <td>0.534511</td>\n",
       "      <td>31</td>\n",
       "      <td>2016-04-06 13:48:08.990</td>\n",
       "    </tr>\n",
       "  </tbody>\n",
       "</table>\n",
       "</div>"
      ],
      "text/plain": [
       "                       API  Liquid    Gas  RatioGasOil  Water  PercentWater  \\\n",
       "date                                                                          \n",
       "2014-07-01  33053052530100   19518  34414     1.763193  10786      0.552618   \n",
       "2014-08-01  33053052530100   18632  32250     1.730893   9959      0.534511   \n",
       "\n",
       "            DaysOn              _LastUpdate  \n",
       "date                                         \n",
       "2014-07-01      31  2016-04-06 13:48:08.990  \n",
       "2014-08-01      31  2016-04-06 13:48:08.990  "
      ]
     },
     "execution_count": 9,
     "metadata": {},
     "output_type": "execute_result"
    }
   ],
   "source": [
    "test_data.head(2)"
   ]
  },
  {
   "cell_type": "code",
   "execution_count": 10,
   "metadata": {},
   "outputs": [
    {
     "name": "stdout",
     "output_type": "stream",
     "text": [
      "<class 'pandas.core.frame.DataFrame'>\n",
      "RangeIndex: 394074 entries, 0 to 394073\n",
      "Data columns (total 9 columns):\n",
      " #   Column        Non-Null Count   Dtype         \n",
      "---  ------        --------------   -----         \n",
      " 0   Month_Year    394074 non-null  datetime64[ns]\n",
      " 1   API           394074 non-null  int64         \n",
      " 2   Liquid        394074 non-null  int64         \n",
      " 3   Gas           394074 non-null  int64         \n",
      " 4   RatioGasOil   394074 non-null  float64       \n",
      " 5   Water         394074 non-null  int64         \n",
      " 6   PercentWater  394074 non-null  float64       \n",
      " 7   DaysOn        394074 non-null  int64         \n",
      " 8   _LastUpdate   394074 non-null  object        \n",
      "dtypes: datetime64[ns](1), float64(2), int64(5), object(1)\n",
      "memory usage: 27.1+ MB\n"
     ]
    }
   ],
   "source": [
    "train_data.info()"
   ]
  },
  {
   "cell_type": "markdown",
   "metadata": {},
   "source": [
    "#### Checking null values"
   ]
  },
  {
   "cell_type": "code",
   "execution_count": 11,
   "metadata": {},
   "outputs": [
    {
     "data": {
      "text/plain": [
       "Month_Year      0\n",
       "API             0\n",
       "Liquid          0\n",
       "Gas             0\n",
       "RatioGasOil     0\n",
       "Water           0\n",
       "PercentWater    0\n",
       "DaysOn          0\n",
       "_LastUpdate     0\n",
       "dtype: int64"
      ]
     },
     "execution_count": 11,
     "metadata": {},
     "output_type": "execute_result"
    }
   ],
   "source": [
    "# Check for missing values\n",
    "train_data.isnull().sum()"
   ]
  },
  {
   "cell_type": "code",
   "execution_count": 12,
   "metadata": {},
   "outputs": [
    {
     "data": {
      "text/plain": [
       "API                      0\n",
       "PermitDate               0\n",
       "SpudDate                 0\n",
       "CompletionDate           0\n",
       "FirstProductionDate    183\n",
       "operatorNameIHS          0\n",
       "formation                0\n",
       "BasinName                0\n",
       "StateName                0\n",
       "CountyName               0\n",
       "LatWGS84                 0\n",
       "LonWGS84                 0\n",
       "BottomHoleLatitude       0\n",
       "BottomHoleLongitude      0\n",
       "dtype: int64"
      ]
     },
     "execution_count": 12,
     "metadata": {},
     "output_type": "execute_result"
    }
   ],
   "source": [
    "IHS_data.isnull().sum()"
   ]
  },
  {
   "cell_type": "code",
   "execution_count": 13,
   "metadata": {},
   "outputs": [
    {
     "data": {
      "text/plain": [
       "API                       0\n",
       "LATERAL_LENGTH_BLEND      0\n",
       "PROP_PER_FOOT           460\n",
       "WATER_PER_FOOT          633\n",
       "GOR_30                  135\n",
       "GOR_60                  135\n",
       "GOR_90                  135\n",
       "dtype: int64"
      ]
     },
     "execution_count": 13,
     "metadata": {},
     "output_type": "execute_result"
    }
   ],
   "source": [
    "harmony_data.isnull().sum()"
   ]
  },
  {
   "cell_type": "markdown",
   "metadata": {},
   "source": [
    "### Compare the number of wells"
   ]
  },
  {
   "cell_type": "code",
   "execution_count": 14,
   "metadata": {},
   "outputs": [
    {
     "data": {
      "text/plain": [
       "(8930,)"
      ]
     },
     "execution_count": 14,
     "metadata": {},
     "output_type": "execute_result"
    }
   ],
   "source": [
    "# IHS_data Number of wells\n",
    "IHS_data.API.unique().shape"
   ]
  },
  {
   "cell_type": "code",
   "execution_count": 15,
   "metadata": {},
   "outputs": [
    {
     "data": {
      "text/plain": [
       "(8930,)"
      ]
     },
     "execution_count": 15,
     "metadata": {},
     "output_type": "execute_result"
    }
   ],
   "source": [
    "# Harmony_data Number of wells\n",
    "harmony_data.API.unique().shape"
   ]
  },
  {
   "cell_type": "code",
   "execution_count": 16,
   "metadata": {},
   "outputs": [
    {
     "data": {
      "text/plain": [
       "8973"
      ]
     },
     "execution_count": 16,
     "metadata": {},
     "output_type": "execute_result"
    }
   ],
   "source": [
    "# Train_data + test_data number of wells\n",
    "train_data.API.unique().shape[0] + test_data.API.unique().shape[0]"
   ]
  },
  {
   "cell_type": "code",
   "execution_count": 17,
   "metadata": {},
   "outputs": [
    {
     "data": {
      "text/plain": [
       "(1129,)"
      ]
     },
     "execution_count": 17,
     "metadata": {},
     "output_type": "execute_result"
    }
   ],
   "source": [
    "# test_data Number of wells\n",
    "test_data.API.unique().shape"
   ]
  },
  {
   "cell_type": "code",
   "execution_count": 18,
   "metadata": {},
   "outputs": [
    {
     "name": "stdout",
     "output_type": "stream",
     "text": [
      "43\n"
     ]
    }
   ],
   "source": [
    "# Get repetead wells in train and test data\n",
    "repetead_wells = []\n",
    "for well in train_data.API.unique():\n",
    "    if well in test_data.API.unique():\n",
    "        repetead_wells.append(well)\n",
    "\n",
    "print(len(repetead_wells))"
   ]
  },
  {
   "cell_type": "markdown",
   "metadata": {},
   "source": [
    "#### Check values of each column"
   ]
  },
  {
   "cell_type": "code",
   "execution_count": 19,
   "metadata": {},
   "outputs": [
    {
     "data": {
      "text/html": [
       "<div>\n",
       "<style scoped>\n",
       "    .dataframe tbody tr th:only-of-type {\n",
       "        vertical-align: middle;\n",
       "    }\n",
       "\n",
       "    .dataframe tbody tr th {\n",
       "        vertical-align: top;\n",
       "    }\n",
       "\n",
       "    .dataframe thead th {\n",
       "        text-align: right;\n",
       "    }\n",
       "</style>\n",
       "<table border=\"1\" class=\"dataframe\">\n",
       "  <thead>\n",
       "    <tr style=\"text-align: right;\">\n",
       "      <th></th>\n",
       "      <th>Month_Year</th>\n",
       "      <th>API</th>\n",
       "      <th>Liquid</th>\n",
       "      <th>Gas</th>\n",
       "      <th>RatioGasOil</th>\n",
       "      <th>Water</th>\n",
       "      <th>PercentWater</th>\n",
       "      <th>DaysOn</th>\n",
       "      <th>_LastUpdate</th>\n",
       "    </tr>\n",
       "  </thead>\n",
       "  <tbody>\n",
       "    <tr>\n",
       "      <th>393178</th>\n",
       "      <td>2016-11-01</td>\n",
       "      <td>42301322730000</td>\n",
       "      <td>2232</td>\n",
       "      <td>32100</td>\n",
       "      <td>14.381720</td>\n",
       "      <td>27628</td>\n",
       "      <td>12.378136</td>\n",
       "      <td>0</td>\n",
       "      <td>2018-07-08 10:03:10.183</td>\n",
       "    </tr>\n",
       "    <tr>\n",
       "      <th>393179</th>\n",
       "      <td>2016-12-01</td>\n",
       "      <td>42301322730000</td>\n",
       "      <td>2506</td>\n",
       "      <td>31466</td>\n",
       "      <td>12.556265</td>\n",
       "      <td>27082</td>\n",
       "      <td>10.806864</td>\n",
       "      <td>0</td>\n",
       "      <td>2018-07-08 10:03:10.183</td>\n",
       "    </tr>\n",
       "    <tr>\n",
       "      <th>393180</th>\n",
       "      <td>2017-01-01</td>\n",
       "      <td>42301322730000</td>\n",
       "      <td>2484</td>\n",
       "      <td>34719</td>\n",
       "      <td>13.977053</td>\n",
       "      <td>29882</td>\n",
       "      <td>12.029791</td>\n",
       "      <td>0</td>\n",
       "      <td>2018-07-08 10:03:10.183</td>\n",
       "    </tr>\n",
       "    <tr>\n",
       "      <th>393181</th>\n",
       "      <td>2017-02-01</td>\n",
       "      <td>42301322730000</td>\n",
       "      <td>2180</td>\n",
       "      <td>26156</td>\n",
       "      <td>11.998165</td>\n",
       "      <td>22512</td>\n",
       "      <td>10.326606</td>\n",
       "      <td>0</td>\n",
       "      <td>2018-07-08 10:03:10.183</td>\n",
       "    </tr>\n",
       "    <tr>\n",
       "      <th>393182</th>\n",
       "      <td>2017-03-01</td>\n",
       "      <td>42301322730000</td>\n",
       "      <td>2281</td>\n",
       "      <td>22903</td>\n",
       "      <td>10.040772</td>\n",
       "      <td>19712</td>\n",
       "      <td>8.641824</td>\n",
       "      <td>0</td>\n",
       "      <td>2018-11-04 10:19:16.577</td>\n",
       "    </tr>\n",
       "  </tbody>\n",
       "</table>\n",
       "</div>"
      ],
      "text/plain": [
       "       Month_Year             API  Liquid    Gas  RatioGasOil  Water  \\\n",
       "393178 2016-11-01  42301322730000    2232  32100    14.381720  27628   \n",
       "393179 2016-12-01  42301322730000    2506  31466    12.556265  27082   \n",
       "393180 2017-01-01  42301322730000    2484  34719    13.977053  29882   \n",
       "393181 2017-02-01  42301322730000    2180  26156    11.998165  22512   \n",
       "393182 2017-03-01  42301322730000    2281  22903    10.040772  19712   \n",
       "\n",
       "        PercentWater  DaysOn              _LastUpdate  \n",
       "393178     12.378136       0  2018-07-08 10:03:10.183  \n",
       "393179     10.806864       0  2018-07-08 10:03:10.183  \n",
       "393180     12.029791       0  2018-07-08 10:03:10.183  \n",
       "393181     10.326606       0  2018-07-08 10:03:10.183  \n",
       "393182      8.641824       0  2018-11-04 10:19:16.577  "
      ]
     },
     "execution_count": 19,
     "metadata": {},
     "output_type": "execute_result"
    }
   ],
   "source": [
    "# Compare the same WELL in test and test data\n",
    "train_data[(train_data['API']) == 42301322730000][5:10]"
   ]
  },
  {
   "cell_type": "code",
   "execution_count": 20,
   "metadata": {},
   "outputs": [
    {
     "data": {
      "text/html": [
       "<div>\n",
       "<style scoped>\n",
       "    .dataframe tbody tr th:only-of-type {\n",
       "        vertical-align: middle;\n",
       "    }\n",
       "\n",
       "    .dataframe tbody tr th {\n",
       "        vertical-align: top;\n",
       "    }\n",
       "\n",
       "    .dataframe thead th {\n",
       "        text-align: right;\n",
       "    }\n",
       "</style>\n",
       "<table border=\"1\" class=\"dataframe\">\n",
       "  <thead>\n",
       "    <tr style=\"text-align: right;\">\n",
       "      <th></th>\n",
       "      <th>API</th>\n",
       "      <th>Liquid</th>\n",
       "      <th>Gas</th>\n",
       "      <th>RatioGasOil</th>\n",
       "      <th>Water</th>\n",
       "      <th>PercentWater</th>\n",
       "      <th>DaysOn</th>\n",
       "      <th>_LastUpdate</th>\n",
       "    </tr>\n",
       "    <tr>\n",
       "      <th>date</th>\n",
       "      <th></th>\n",
       "      <th></th>\n",
       "      <th></th>\n",
       "      <th></th>\n",
       "      <th></th>\n",
       "      <th></th>\n",
       "      <th></th>\n",
       "      <th></th>\n",
       "    </tr>\n",
       "  </thead>\n",
       "  <tbody>\n",
       "    <tr>\n",
       "      <th>2015-02-01</th>\n",
       "      <td>42301322730000</td>\n",
       "      <td>10801</td>\n",
       "      <td>36697</td>\n",
       "      <td>3.397556</td>\n",
       "      <td>31584</td>\n",
       "      <td>2.924174</td>\n",
       "      <td>0</td>\n",
       "      <td>2018-11-04 10:19:16.577</td>\n",
       "    </tr>\n",
       "    <tr>\n",
       "      <th>2015-03-01</th>\n",
       "      <td>42301322730000</td>\n",
       "      <td>17497</td>\n",
       "      <td>78231</td>\n",
       "      <td>4.471109</td>\n",
       "      <td>67331</td>\n",
       "      <td>3.848145</td>\n",
       "      <td>0</td>\n",
       "      <td>2018-11-04 10:19:16.577</td>\n",
       "    </tr>\n",
       "    <tr>\n",
       "      <th>2015-04-01</th>\n",
       "      <td>42301322730000</td>\n",
       "      <td>12283</td>\n",
       "      <td>65415</td>\n",
       "      <td>5.325653</td>\n",
       "      <td>56301</td>\n",
       "      <td>4.583652</td>\n",
       "      <td>0</td>\n",
       "      <td>2018-11-04 10:19:16.577</td>\n",
       "    </tr>\n",
       "    <tr>\n",
       "      <th>2015-05-01</th>\n",
       "      <td>42301322730000</td>\n",
       "      <td>9661</td>\n",
       "      <td>64795</td>\n",
       "      <td>6.706863</td>\n",
       "      <td>55767</td>\n",
       "      <td>5.772384</td>\n",
       "      <td>0</td>\n",
       "      <td>2018-11-04 10:19:16.577</td>\n",
       "    </tr>\n",
       "  </tbody>\n",
       "</table>\n",
       "</div>"
      ],
      "text/plain": [
       "                       API  Liquid    Gas  RatioGasOil  Water  PercentWater  \\\n",
       "date                                                                          \n",
       "2015-02-01  42301322730000   10801  36697     3.397556  31584      2.924174   \n",
       "2015-03-01  42301322730000   17497  78231     4.471109  67331      3.848145   \n",
       "2015-04-01  42301322730000   12283  65415     5.325653  56301      4.583652   \n",
       "2015-05-01  42301322730000    9661  64795     6.706863  55767      5.772384   \n",
       "\n",
       "            DaysOn              _LastUpdate  \n",
       "date                                         \n",
       "2015-02-01       0  2018-11-04 10:19:16.577  \n",
       "2015-03-01       0  2018-11-04 10:19:16.577  \n",
       "2015-04-01       0  2018-11-04 10:19:16.577  \n",
       "2015-05-01       0  2018-11-04 10:19:16.577  "
      ]
     },
     "execution_count": 20,
     "metadata": {},
     "output_type": "execute_result"
    }
   ],
   "source": [
    "# Compare the same WELL in test and test data\n",
    "test_data[(test_data['API'] == 42301322730000)]"
   ]
  },
  {
   "cell_type": "code",
   "execution_count": 21,
   "metadata": {},
   "outputs": [
    {
     "data": {
      "text/plain": [
       "(set(), set())"
      ]
     },
     "execution_count": 21,
     "metadata": {},
     "output_type": "execute_result"
    }
   ],
   "source": [
    "# Check if all the wells in test data are in harmony_data and IHS_data\n",
    "set(test_APIs.index.unique()) - set(harmony_data.index.unique()), set(test_APIs.index.unique()) - set(IHS_data.index.unique())"
   ]
  },
  {
   "cell_type": "code",
   "execution_count": 22,
   "metadata": {},
   "outputs": [
    {
     "data": {
      "text/html": [
       "<div>\n",
       "<style scoped>\n",
       "    .dataframe tbody tr th:only-of-type {\n",
       "        vertical-align: middle;\n",
       "    }\n",
       "\n",
       "    .dataframe tbody tr th {\n",
       "        vertical-align: top;\n",
       "    }\n",
       "\n",
       "    .dataframe thead th {\n",
       "        text-align: right;\n",
       "    }\n",
       "</style>\n",
       "<table border=\"1\" class=\"dataframe\">\n",
       "  <thead>\n",
       "    <tr style=\"text-align: right;\">\n",
       "      <th></th>\n",
       "      <th>API</th>\n",
       "      <th>PermitDate</th>\n",
       "      <th>SpudDate</th>\n",
       "      <th>CompletionDate</th>\n",
       "      <th>FirstProductionDate</th>\n",
       "      <th>operatorNameIHS</th>\n",
       "      <th>formation</th>\n",
       "      <th>BasinName</th>\n",
       "      <th>StateName</th>\n",
       "      <th>CountyName</th>\n",
       "      <th>LatWGS84</th>\n",
       "      <th>LonWGS84</th>\n",
       "      <th>BottomHoleLatitude</th>\n",
       "      <th>BottomHoleLongitude</th>\n",
       "    </tr>\n",
       "  </thead>\n",
       "  <tbody>\n",
       "    <tr>\n",
       "      <th>272</th>\n",
       "      <td>42301320940000</td>\n",
       "      <td>2014-01-02</td>\n",
       "      <td>2014-02-19</td>\n",
       "      <td>2014-04-17</td>\n",
       "      <td>NaN</td>\n",
       "      <td>WPX ENERGY PRODUCTION LLC</td>\n",
       "      <td>BONE SPRING</td>\n",
       "      <td>PERMIAN BASIN</td>\n",
       "      <td>TEXAS</td>\n",
       "      <td>LOVING</td>\n",
       "      <td>31.942399</td>\n",
       "      <td>-103.870208</td>\n",
       "      <td>31.95571</td>\n",
       "      <td>-103.86969</td>\n",
       "    </tr>\n",
       "    <tr>\n",
       "      <th>281</th>\n",
       "      <td>42301322750000</td>\n",
       "      <td>2014-08-09</td>\n",
       "      <td>2015-04-08</td>\n",
       "      <td>2015-07-21</td>\n",
       "      <td>NaN</td>\n",
       "      <td>EOG RESOURCES INCORPORATED</td>\n",
       "      <td>BONE SPRING</td>\n",
       "      <td>PERMIAN BASIN</td>\n",
       "      <td>TEXAS</td>\n",
       "      <td>LOVING</td>\n",
       "      <td>31.971822</td>\n",
       "      <td>-103.626594</td>\n",
       "      <td>31.95668</td>\n",
       "      <td>-103.62589</td>\n",
       "    </tr>\n",
       "    <tr>\n",
       "      <th>289</th>\n",
       "      <td>42301323710000</td>\n",
       "      <td>2014-10-10</td>\n",
       "      <td>2014-12-18</td>\n",
       "      <td>2015-05-27</td>\n",
       "      <td>2016-01-01 00:00:00.000</td>\n",
       "      <td>APACHE CORPORATION</td>\n",
       "      <td>BONE SPRING</td>\n",
       "      <td>PERMIAN BASIN</td>\n",
       "      <td>TEXAS</td>\n",
       "      <td>LOVING</td>\n",
       "      <td>31.751439</td>\n",
       "      <td>-103.614968</td>\n",
       "      <td>31.73676</td>\n",
       "      <td>-103.63004</td>\n",
       "    </tr>\n",
       "    <tr>\n",
       "      <th>290</th>\n",
       "      <td>42301323710000</td>\n",
       "      <td>2014-10-10</td>\n",
       "      <td>2014-12-18</td>\n",
       "      <td>2015-05-27</td>\n",
       "      <td>2015-05-01 00:00:00.000</td>\n",
       "      <td>APACHE CORPORATION</td>\n",
       "      <td>BONE SPRING</td>\n",
       "      <td>PERMIAN BASIN</td>\n",
       "      <td>TEXAS</td>\n",
       "      <td>LOVING</td>\n",
       "      <td>31.751439</td>\n",
       "      <td>-103.614968</td>\n",
       "      <td>31.73676</td>\n",
       "      <td>-103.63004</td>\n",
       "    </tr>\n",
       "    <tr>\n",
       "      <th>310</th>\n",
       "      <td>42301326020000</td>\n",
       "      <td>2015-05-21</td>\n",
       "      <td>2015-06-20</td>\n",
       "      <td>2015-08-05</td>\n",
       "      <td>NaN</td>\n",
       "      <td>EOG RESOURCES INCORPORATED</td>\n",
       "      <td>BONE SPRING</td>\n",
       "      <td>PERMIAN BASIN</td>\n",
       "      <td>TEXAS</td>\n",
       "      <td>LOVING</td>\n",
       "      <td>31.986463</td>\n",
       "      <td>-103.619420</td>\n",
       "      <td>31.99981</td>\n",
       "      <td>-103.62003</td>\n",
       "    </tr>\n",
       "    <tr>\n",
       "      <th>316</th>\n",
       "      <td>42109325790000</td>\n",
       "      <td>2013-05-29</td>\n",
       "      <td>2013-08-10</td>\n",
       "      <td>2014-02-17</td>\n",
       "      <td>NaN</td>\n",
       "      <td>COG OPERATING LIMITED LIABILITY CORP</td>\n",
       "      <td>BONE SPRING</td>\n",
       "      <td>PERMIAN BASIN</td>\n",
       "      <td>TEXAS</td>\n",
       "      <td>CULBERSON</td>\n",
       "      <td>31.986781</td>\n",
       "      <td>-104.033066</td>\n",
       "      <td>31.99947</td>\n",
       "      <td>-104.03214</td>\n",
       "    </tr>\n",
       "  </tbody>\n",
       "</table>\n",
       "</div>"
      ],
      "text/plain": [
       "                API  PermitDate    SpudDate CompletionDate  \\\n",
       "272  42301320940000  2014-01-02  2014-02-19     2014-04-17   \n",
       "281  42301322750000  2014-08-09  2015-04-08     2015-07-21   \n",
       "289  42301323710000  2014-10-10  2014-12-18     2015-05-27   \n",
       "290  42301323710000  2014-10-10  2014-12-18     2015-05-27   \n",
       "310  42301326020000  2015-05-21  2015-06-20     2015-08-05   \n",
       "316  42109325790000  2013-05-29  2013-08-10     2014-02-17   \n",
       "\n",
       "         FirstProductionDate                       operatorNameIHS  \\\n",
       "272                      NaN             WPX ENERGY PRODUCTION LLC   \n",
       "281                      NaN            EOG RESOURCES INCORPORATED   \n",
       "289  2016-01-01 00:00:00.000                    APACHE CORPORATION   \n",
       "290  2015-05-01 00:00:00.000                    APACHE CORPORATION   \n",
       "310                      NaN            EOG RESOURCES INCORPORATED   \n",
       "316                      NaN  COG OPERATING LIMITED LIABILITY CORP   \n",
       "\n",
       "       formation      BasinName StateName CountyName   LatWGS84    LonWGS84  \\\n",
       "272  BONE SPRING  PERMIAN BASIN     TEXAS     LOVING  31.942399 -103.870208   \n",
       "281  BONE SPRING  PERMIAN BASIN     TEXAS     LOVING  31.971822 -103.626594   \n",
       "289  BONE SPRING  PERMIAN BASIN     TEXAS     LOVING  31.751439 -103.614968   \n",
       "290  BONE SPRING  PERMIAN BASIN     TEXAS     LOVING  31.751439 -103.614968   \n",
       "310  BONE SPRING  PERMIAN BASIN     TEXAS     LOVING  31.986463 -103.619420   \n",
       "316  BONE SPRING  PERMIAN BASIN     TEXAS  CULBERSON  31.986781 -104.033066   \n",
       "\n",
       "     BottomHoleLatitude  BottomHoleLongitude  \n",
       "272            31.95571           -103.86969  \n",
       "281            31.95668           -103.62589  \n",
       "289            31.73676           -103.63004  \n",
       "290            31.73676           -103.63004  \n",
       "310            31.99981           -103.62003  \n",
       "316            31.99947           -104.03214  "
      ]
     },
     "execution_count": 22,
     "metadata": {},
     "output_type": "execute_result"
    }
   ],
   "source": [
    "# IHS data has more observations than harmony data and wells, it is necessary to verify data that are duplicated \n",
    "IHS_data[IHS_data.API.isin(list(IHS_data.API[IHS_data.API.duplicated()]))].head(6)"
   ]
  },
  {
   "cell_type": "code",
   "execution_count": 23,
   "metadata": {},
   "outputs": [
    {
     "data": {
      "text/plain": [
       "(8930, 15)"
      ]
     },
     "execution_count": 23,
     "metadata": {},
     "output_type": "execute_result"
    }
   ],
   "source": [
    "# Drop duplicated wells in IHS data\n",
    "IHS_data_nd = IHS_data.drop_duplicates(subset=['API']).reset_index()\n",
    "IHS_data_nd.shape"
   ]
  },
  {
   "cell_type": "code",
   "execution_count": 24,
   "metadata": {},
   "outputs": [],
   "source": [
    "# Map the IHS_data to train_dat and test_data\n",
    "for column in IHS_data_nd.columns:\n",
    "    train_data[column + '_new'] = train_data['API'].map(dict(zip(IHS_data_nd.API, IHS_data_nd[column])))\n",
    "\n",
    "for column in IHS_data_nd.columns:\n",
    "    test_data[column + '_new'] = test_data['API'].map(dict(zip(IHS_data_nd.API, IHS_data_nd[column])))"
   ]
  },
  {
   "cell_type": "code",
   "execution_count": 25,
   "metadata": {},
   "outputs": [],
   "source": [
    "# Map the harmony_data to the test_data\n",
    "for column in harmony_data.columns:\n",
    "    train_data[column + '_new'] = train_data['API'].map(dict(zip(harmony_data.API, harmony_data[column])))\n",
    "\n",
    "for column in harmony_data.columns:\n",
    "    test_data[column + '_new'] = test_data['API'].map(dict(zip(harmony_data.API, harmony_data[column])))"
   ]
  },
  {
   "cell_type": "code",
   "execution_count": 26,
   "metadata": {},
   "outputs": [],
   "source": [
    "# Drop columns with no relevance\n",
    "train_df = train_data.drop(['index_new', 'API_new','PermitDate_new','FirstProductionDate_new','SpudDate_new','CompletionDate_new','LatWGS84_new','LonWGS84_new', 'GOR_30_new', 'GOR_60_new', 'GOR_90_new', '_LastUpdate'], axis=1)\n",
    "test_df = test_data.drop(['index_new', 'API_new','PermitDate_new','FirstProductionDate_new','SpudDate_new','CompletionDate_new','LatWGS84_new','LonWGS84_new', 'GOR_30_new', 'GOR_60_new', 'GOR_90_new', '_LastUpdate'], axis=1)"
   ]
  },
  {
   "cell_type": "code",
   "execution_count": 27,
   "metadata": {},
   "outputs": [],
   "source": [
    "# Rename date column to match test_data\n",
    "train_df.rename(columns={'Month_Year':'date'}, inplace=True)"
   ]
  },
  {
   "cell_type": "code",
   "execution_count": 28,
   "metadata": {},
   "outputs": [],
   "source": [
    "# Set date and API as index\n",
    "train_df.set_index('date', inplace=True)"
   ]
  },
  {
   "cell_type": "code",
   "execution_count": 29,
   "metadata": {},
   "outputs": [
    {
     "data": {
      "text/plain": [
       "set()"
      ]
     },
     "execution_count": 29,
     "metadata": {},
     "output_type": "execute_result"
    }
   ],
   "source": [
    "# Check if test_df and test_df have the same columns\n",
    "set(train_df.columns) - set(test_df.columns)"
   ]
  },
  {
   "cell_type": "code",
   "execution_count": 30,
   "metadata": {},
   "outputs": [
    {
     "data": {
      "image/png": "[encoded data removed]",
      "text/plain": [
       "<Figure size 1440x432 with 1 Axes>"
      ]
     },
     "metadata": {
      "needs_background": "light"
     },
     "output_type": "display_data"
    }
   ],
   "source": [
    "# Plot 10 random wells from test_df to see their behaviour\n",
    "random_wells = np.random.choice(train_df.API.unique(), 8)\n",
    "train_df[(train_df['API'] == random_wells[0])]['Liquid'].plot(figsize=(20, 6), color='blue')\n",
    "train_df[(train_df['API'] == random_wells[1])]['Liquid'].plot(figsize=(20, 6), color='red')\n",
    "train_df[(train_df['API'] == random_wells[2])]['Liquid'].plot(figsize=(20, 6), color='yellow')\n",
    "train_df[(train_df['API'] == random_wells[3])]['Liquid'].plot(figsize=(20, 6), color='cyan')\n",
    "train_df[(train_df['API'] == random_wells[4])]['Liquid'].plot(figsize=(20, 6), color='green')\n",
    "train_df[(train_df['API'] == random_wells[5])]['Liquid'].plot(figsize=(20, 6), color='black')\n",
    "train_df[(train_df['API'] == random_wells[6])]['Liquid'].plot(figsize=(20, 6), color='grey')\n",
    "train_df[(train_df['API'] == random_wells[7])]['Liquid'].plot(figsize=(20, 6), color='orange')\n",
    "plt.legend(random_wells)\n",
    "plt.show()"
   ]
  },
  {
   "cell_type": "code",
   "execution_count": 31,
   "metadata": {},
   "outputs": [
    {
     "data": {
      "image/png": "[encoded data removed]",
      "text/plain": [
       "<Figure size 1440x432 with 1 Axes>"
      ]
     },
     "metadata": {
      "needs_background": "light"
     },
     "output_type": "display_data"
    }
   ],
   "source": [
    "# Plot 10 random wells from test_df to see their behaviour\n",
    "random_wells = np.random.choice(test_df.API.unique(), 8)\n",
    "test_df[(test_df['API'] == random_wells[0])]['Liquid'].plot(figsize=(20, 6), color='blue')\n",
    "test_df[(test_df['API'] == random_wells[1])]['Liquid'].plot(figsize=(20, 6), color='red')\n",
    "test_df[(test_df['API'] == random_wells[2])]['Liquid'].plot(figsize=(20, 6), color='yellow')\n",
    "test_df[(test_df['API'] == random_wells[3])]['Liquid'].plot(figsize=(20, 6), color='cyan')\n",
    "test_df[(test_df['API'] == random_wells[4])]['Liquid'].plot(figsize=(20, 6), color='green')\n",
    "test_df[(test_df['API'] == random_wells[5])]['Liquid'].plot(figsize=(20, 6), color='black')\n",
    "test_df[(test_df['API'] == random_wells[6])]['Liquid'].plot(figsize=(20, 6), color='grey')\n",
    "test_df[(test_df['API'] == random_wells[7])]['Liquid'].plot(figsize=(20, 6), color='orange')\n",
    "plt.legend(random_wells)\n",
    "plt.show()"
   ]
  },
  {
   "cell_type": "code",
   "execution_count": 32,
   "metadata": {},
   "outputs": [
    {
     "name": "stdout",
     "output_type": "stream",
     "text": [
      "<class 'pandas.core.frame.DataFrame'>\n",
      "DatetimeIndex: 394074 entries, 2015-03-01 to 2018-09-01\n",
      "Data columns (total 17 columns):\n",
      " #   Column                    Non-Null Count   Dtype  \n",
      "---  ------                    --------------   -----  \n",
      " 0   API                       394074 non-null  int64  \n",
      " 1   Liquid                    394074 non-null  int64  \n",
      " 2   Gas                       394074 non-null  int64  \n",
      " 3   RatioGasOil               394074 non-null  float64\n",
      " 4   Water                     394074 non-null  int64  \n",
      " 5   PercentWater              394074 non-null  float64\n",
      " 6   DaysOn                    394074 non-null  int64  \n",
      " 7   operatorNameIHS_new       394074 non-null  object \n",
      " 8   formation_new             394074 non-null  object \n",
      " 9   BasinName_new             394074 non-null  object \n",
      " 10  StateName_new             394074 non-null  object \n",
      " 11  CountyName_new            394074 non-null  object \n",
      " 12  BottomHoleLatitude_new    394074 non-null  float64\n",
      " 13  BottomHoleLongitude_new   394074 non-null  float64\n",
      " 14  LATERAL_LENGTH_BLEND_new  394074 non-null  int64  \n",
      " 15  PROP_PER_FOOT_new         373673 non-null  float64\n",
      " 16  WATER_PER_FOOT_new        365608 non-null  float64\n",
      "dtypes: float64(6), int64(6), object(5)\n",
      "memory usage: 54.1+ MB\n"
     ]
    }
   ],
   "source": [
    "train_df.info()"
   ]
  },
  {
   "cell_type": "code",
   "execution_count": 33,
   "metadata": {},
   "outputs": [
    {
     "name": "stdout",
     "output_type": "stream",
     "text": [
      "<class 'pandas.core.frame.DataFrame'>\n",
      "Index: 6489 entries, 2014-07-01 to 2015-03-01\n",
      "Data columns (total 17 columns):\n",
      " #   Column                    Non-Null Count  Dtype  \n",
      "---  ------                    --------------  -----  \n",
      " 0   API                       6489 non-null   int64  \n",
      " 1   Liquid                    6489 non-null   int64  \n",
      " 2   Gas                       6489 non-null   int64  \n",
      " 3   RatioGasOil               6489 non-null   float64\n",
      " 4   Water                     6489 non-null   int64  \n",
      " 5   PercentWater              6489 non-null   float64\n",
      " 6   DaysOn                    6489 non-null   int64  \n",
      " 7   operatorNameIHS_new       6489 non-null   object \n",
      " 8   formation_new             6489 non-null   object \n",
      " 9   BasinName_new             6489 non-null   object \n",
      " 10  StateName_new             6489 non-null   object \n",
      " 11  CountyName_new            6489 non-null   object \n",
      " 12  BottomHoleLatitude_new    6489 non-null   float64\n",
      " 13  BottomHoleLongitude_new   6489 non-null   float64\n",
      " 14  LATERAL_LENGTH_BLEND_new  6489 non-null   int64  \n",
      " 15  PROP_PER_FOOT_new         6215 non-null   float64\n",
      " 16  WATER_PER_FOOT_new        6101 non-null   float64\n",
      "dtypes: float64(6), int64(6), object(5)\n",
      "memory usage: 912.5+ KB\n"
     ]
    }
   ],
   "source": [
    "test_df.info()"
   ]
  },
  {
   "cell_type": "code",
   "execution_count": 34,
   "metadata": {},
   "outputs": [
    {
     "data": {
      "text/html": [
       "<div>\n",
       "<style scoped>\n",
       "    .dataframe tbody tr th:only-of-type {\n",
       "        vertical-align: middle;\n",
       "    }\n",
       "\n",
       "    .dataframe tbody tr th {\n",
       "        vertical-align: top;\n",
       "    }\n",
       "\n",
       "    .dataframe thead th {\n",
       "        text-align: right;\n",
       "    }\n",
       "</style>\n",
       "<table border=\"1\" class=\"dataframe\">\n",
       "  <thead>\n",
       "    <tr style=\"text-align: right;\">\n",
       "      <th></th>\n",
       "      <th>Liquid</th>\n",
       "      <th>Gas</th>\n",
       "      <th>RatioGasOil</th>\n",
       "      <th>Water</th>\n",
       "      <th>PercentWater</th>\n",
       "      <th>DaysOn</th>\n",
       "      <th>BottomHoleLatitude_new</th>\n",
       "      <th>BottomHoleLongitude_new</th>\n",
       "      <th>LATERAL_LENGTH_BLEND_new</th>\n",
       "      <th>PROP_PER_FOOT_new</th>\n",
       "      <th>WATER_PER_FOOT_new</th>\n",
       "    </tr>\n",
       "    <tr>\n",
       "      <th>API</th>\n",
       "      <th></th>\n",
       "      <th></th>\n",
       "      <th></th>\n",
       "      <th></th>\n",
       "      <th></th>\n",
       "      <th></th>\n",
       "      <th></th>\n",
       "      <th></th>\n",
       "      <th></th>\n",
       "      <th></th>\n",
       "      <th></th>\n",
       "    </tr>\n",
       "  </thead>\n",
       "  <tbody>\n",
       "    <tr>\n",
       "      <th>5001097800000</th>\n",
       "      <td>307.812500</td>\n",
       "      <td>363.312500</td>\n",
       "      <td>1.148123</td>\n",
       "      <td>647.104167</td>\n",
       "      <td>1.172769</td>\n",
       "      <td>27.666667</td>\n",
       "      <td>39.92629</td>\n",
       "      <td>-104.71585</td>\n",
       "      <td>3983.0</td>\n",
       "      <td>NaN</td>\n",
       "      <td>NaN</td>\n",
       "    </tr>\n",
       "    <tr>\n",
       "      <th>5001097830000</th>\n",
       "      <td>317.472727</td>\n",
       "      <td>823.890909</td>\n",
       "      <td>1.874774</td>\n",
       "      <td>328.090909</td>\n",
       "      <td>0.455979</td>\n",
       "      <td>26.018182</td>\n",
       "      <td>39.92745</td>\n",
       "      <td>-104.71586</td>\n",
       "      <td>4027.0</td>\n",
       "      <td>NaN</td>\n",
       "      <td>NaN</td>\n",
       "    </tr>\n",
       "    <tr>\n",
       "      <th>5001098450000</th>\n",
       "      <td>4648.595238</td>\n",
       "      <td>11096.666667</td>\n",
       "      <td>3.275740</td>\n",
       "      <td>226.880952</td>\n",
       "      <td>0.057842</td>\n",
       "      <td>21.619048</td>\n",
       "      <td>39.95921</td>\n",
       "      <td>-104.84774</td>\n",
       "      <td>4315.0</td>\n",
       "      <td>NaN</td>\n",
       "      <td>NaN</td>\n",
       "    </tr>\n",
       "  </tbody>\n",
       "</table>\n",
       "</div>"
      ],
      "text/plain": [
       "                    Liquid           Gas  RatioGasOil       Water  \\\n",
       "API                                                                 \n",
       "5001097800000   307.812500    363.312500     1.148123  647.104167   \n",
       "5001097830000   317.472727    823.890909     1.874774  328.090909   \n",
       "5001098450000  4648.595238  11096.666667     3.275740  226.880952   \n",
       "\n",
       "               PercentWater     DaysOn  BottomHoleLatitude_new  \\\n",
       "API                                                              \n",
       "5001097800000      1.172769  27.666667                39.92629   \n",
       "5001097830000      0.455979  26.018182                39.92745   \n",
       "5001098450000      0.057842  21.619048                39.95921   \n",
       "\n",
       "               BottomHoleLongitude_new  LATERAL_LENGTH_BLEND_new  \\\n",
       "API                                                                \n",
       "5001097800000               -104.71585                    3983.0   \n",
       "5001097830000               -104.71586                    4027.0   \n",
       "5001098450000               -104.84774                    4315.0   \n",
       "\n",
       "               PROP_PER_FOOT_new  WATER_PER_FOOT_new  \n",
       "API                                                   \n",
       "5001097800000                NaN                 NaN  \n",
       "5001097830000                NaN                 NaN  \n",
       "5001098450000                NaN                 NaN  "
      ]
     },
     "execution_count": 34,
     "metadata": {},
     "output_type": "execute_result"
    }
   ],
   "source": [
    "# Check the features with missing values\n",
    "train_df[train_df.PROP_PER_FOOT_new.isnull()].groupby('API').mean()[:3]"
   ]
  },
  {
   "cell_type": "code",
   "execution_count": 35,
   "metadata": {},
   "outputs": [],
   "source": [
    "# Concatenate train_df and test_df\n",
    "df = pd.concat([train_df, test_df], axis=0)"
   ]
  },
  {
   "cell_type": "code",
   "execution_count": 36,
   "metadata": {},
   "outputs": [],
   "source": [
    "# Fill the missing values with the bfill method\n",
    "df.fillna(method='bfill', inplace=True)"
   ]
  },
  {
   "cell_type": "code",
   "execution_count": 37,
   "metadata": {},
   "outputs": [],
   "source": [
    "# Change API column to string\n",
    "df['API'] = df['API'].astype(str)"
   ]
  },
  {
   "cell_type": "code",
   "execution_count": 38,
   "metadata": {},
   "outputs": [],
   "source": [
    "# Function that transform object variables into categorical variables\n",
    "def transform_object_variables(df):\n",
    "    for label, content in df.items():\n",
    "        if content.dtype == 'object':\n",
    "            df[label] = pd.Categorical(content).codes"
   ]
  },
  {
   "cell_type": "code",
   "execution_count": 39,
   "metadata": {},
   "outputs": [],
   "source": [
    "transform_object_variables(df)"
   ]
  },
  {
   "cell_type": "code",
   "execution_count": 40,
   "metadata": {},
   "outputs": [
    {
     "data": {
      "image/png": "[encoded data removed]",
      "text/plain": [
       "<Figure size 1296x864 with 2 Axes>"
      ]
     },
     "metadata": {
      "needs_background": "light"
     },
     "output_type": "display_data"
    }
   ],
   "source": [
    "# Plotting correlation matrix\n",
    "plt.figure(figsize=(18, 12))\n",
    "sns.heatmap(round(df.corr(),2), annot=True, cmap='YlGnBu');"
   ]
  },
  {
   "cell_type": "code",
   "execution_count": 50,
   "metadata": {},
   "outputs": [
    {
     "data": {
      "text/plain": [
       "Index(['API', 'Liquid', 'Gas', 'RatioGasOil', 'Water', 'PercentWater',\n",
       "       'DaysOn', 'operatorNameIHS_new', 'formation_new', 'BasinName_new',\n",
       "       'StateName_new', 'CountyName_new', 'BottomHoleLatitude_new',\n",
       "       'BottomHoleLongitude_new', 'LATERAL_LENGTH_BLEND_new',\n",
       "       'PROP_PER_FOOT_new', 'WATER_PER_FOOT_new'],\n",
       "      dtype='object')"
      ]
     },
     "execution_count": 50,
     "metadata": {},
     "output_type": "execute_result"
    }
   ],
   "source": [
    "df.columns"
   ]
  },
  {
   "cell_type": "code",
   "execution_count": 51,
   "metadata": {},
   "outputs": [],
   "source": [
    "df.drop(['RatioGasOil', 'PercentWater', 'DaysOn', 'operatorNameIHS_new','formation_new','StateName_new','CountyName_new', 'BottomHoleLatitude_new','BottomHoleLongitude_new','PROP_PER_FOOT_new', 'WATER_PER_FOOT_new'], axis=1, inplace=True)"
   ]
  },
  {
   "cell_type": "markdown",
   "metadata": {},
   "source": [
    "#### Splitting data into train and test sets"
   ]
  },
  {
   "cell_type": "code",
   "execution_count": 52,
   "metadata": {},
   "outputs": [],
   "source": [
    "Y_train_set = df.Liquid[:train_df.shape[0]]\n",
    "exo_train_set = df[:train_df.shape[0]].drop(['Liquid'], axis=1)\n",
    "Y_test_set = df.Liquid[train_df.shape[0]:]\n",
    "exo_test_set = df[train_df.shape[0]:].drop(['Liquid'], axis=1)"
   ]
  },
  {
   "cell_type": "code",
   "execution_count": 53,
   "metadata": {},
   "outputs": [
    {
     "name": "stdout",
     "output_type": "stream",
     "text": [
      "<class 'pandas.core.frame.DataFrame'>\n",
      "Index: 394074 entries, 2015-03-01 00:00:00 to 2018-09-01 00:00:00\n",
      "Data columns (total 5 columns):\n",
      " #   Column                    Non-Null Count   Dtype\n",
      "---  ------                    --------------   -----\n",
      " 0   API                       394074 non-null  int16\n",
      " 1   Gas                       394074 non-null  int64\n",
      " 2   Water                     394074 non-null  int64\n",
      " 3   BasinName_new             394074 non-null  int8 \n",
      " 4   LATERAL_LENGTH_BLEND_new  394074 non-null  int64\n",
      "dtypes: int16(1), int64(3), int8(1)\n",
      "memory usage: 13.2+ MB\n"
     ]
    }
   ],
   "source": [
    "exo_train_set.info()"
   ]
  },
  {
   "cell_type": "code",
   "execution_count": 55,
   "metadata": {},
   "outputs": [],
   "source": [
    "mod_auar_li = auto_arima(Y_train_set, exogenous=exo_train_set[['API', 'Gas', 'Water','BasinName_new','LATERAL_LENGTH_BLEND_new']], m=5, max_p=5, max_q=5)"
   ]
  },
  {
   "cell_type": "code",
   "execution_count": 48,
   "metadata": {},
   "outputs": [
    {
     "data": {
      "text/plain": [
       "[array(['API', 'Gas', 'RatioGasOil', 'Water', 'PercentWater', 'DaysOn',\n",
       "        'operatorNameIHS_new', 'formation_new', 'BasinName_new',\n",
       "        'StateName_new', 'CountyName_new', 'BottomHoleLatitude_new',\n",
       "        'BottomHoleLongitude_new', 'LATERAL_LENGTH_BLEND_new',\n",
       "        'PROP_PER_FOOT_new', 'WATER_PER_FOOT_new'], dtype=object)]"
      ]
     },
     "execution_count": 48,
     "metadata": {},
     "output_type": "execute_result"
    }
   ],
   "source": [
    "[exo_train_set.columns.values]"
   ]
  },
  {
   "cell_type": "code",
   "execution_count": null,
   "metadata": {},
   "outputs": [],
   "source": []
  }
 ],
 "metadata": {
  "kernelspec": {
   "display_name": "Python 3.9.12 64-bit",
   "language": "python",
   "name": "python3"
  },
  "language_info": {
   "codemirror_mode": {
    "name": "ipython",
    "version": 3
   },
   "file_extension": ".py",
   "mimetype": "text/x-python",
   "name": "python",
   "nbconvert_exporter": "python",
   "pygments_lexer": "ipython3",
   "version": "3.9.12"
  },
  "orig_nbformat": 4,
  "vscode": {
   "interpreter": {
    "hash": "4ff442374353e7cd8d0b317b986b0b774c361b92b00d7ea43e4b1384f67d1c1b"
   }
  }
 },
 "nbformat": 4,
 "nbformat_minor": 2
}
