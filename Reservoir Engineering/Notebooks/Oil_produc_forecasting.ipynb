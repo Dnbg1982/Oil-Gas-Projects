{
 "cells": [
  {
   "cell_type": "code",
   "execution_count": 1,
   "metadata": {},
   "outputs": [],
   "source": [
    "import pandas as pd\n",
    "import numpy as np\n",
    "import matplotlib.pyplot as plt\n",
    "import seaborn as sns"
   ]
  },
  {
   "cell_type": "code",
   "execution_count": 2,
   "metadata": {},
   "outputs": [
    {
     "data": {
      "text/plain": [
       "((1134, 1), (8930, 7), (9224, 14), (394074, 10), (6489, 11))"
      ]
     },
     "execution_count": 2,
     "metadata": {},
     "output_type": "execute_result"
    }
   ],
   "source": [
    "harmony_data = pd.read_csv(r'C:\\Users\\USUARIO\\Documents\\GitHub\\Oil-Gas-Projects\\Reservoir Engineering\\Datasets\\Oil Production\\Harmony_data.csv')\n",
    "IHS_data = pd.read_csv(r'C:\\Users\\USUARIO\\Documents\\GitHub\\Oil-Gas-Projects\\Reservoir Engineering\\Datasets\\Oil Production\\IHS_data.csv')\n",
    "train_data = pd.read_csv(r'C:\\Users\\USUARIO\\Documents\\GitHub\\Oil-Gas-Projects\\Reservoir Engineering\\Datasets\\Oil Production\\production_data_train.csv')\n",
    "test_data = pd.read_csv(r'C:\\Users\\USUARIO\\Documents\\GitHub\\Oil-Gas-Projects\\Reservoir Engineering\\Datasets\\Oil Production\\production_data_test.csv')\n",
    "test_APIs = pd.read_csv(r'C:\\Users\\USUARIO\\Documents\\GitHub\\Oil-Gas-Projects\\Reservoir Engineering\\Datasets\\Oil Production\\Test_APIs.csv')\n",
    "test_APIs.shape, harmony_data.shape, IHS_data.shape, train_data.shape, test_data.shape,"
   ]
  },
  {
   "cell_type": "markdown",
   "metadata": {},
   "source": [
    "## Exploratory Data Analysis"
   ]
  },
  {
   "cell_type": "code",
   "execution_count": 3,
   "metadata": {},
   "outputs": [
    {
     "data": {
      "text/html": [
       "<div>\n",
       "<style scoped>\n",
       "    .dataframe tbody tr th:only-of-type {\n",
       "        vertical-align: middle;\n",
       "    }\n",
       "\n",
       "    .dataframe tbody tr th {\n",
       "        vertical-align: top;\n",
       "    }\n",
       "\n",
       "    .dataframe thead th {\n",
       "        text-align: right;\n",
       "    }\n",
       "</style>\n",
       "<table border=\"1\" class=\"dataframe\">\n",
       "  <thead>\n",
       "    <tr style=\"text-align: right;\">\n",
       "      <th></th>\n",
       "      <th>API</th>\n",
       "      <th>LATERAL_LENGTH_BLEND</th>\n",
       "      <th>PROP_PER_FOOT</th>\n",
       "      <th>WATER_PER_FOOT</th>\n",
       "      <th>GOR_30</th>\n",
       "      <th>GOR_60</th>\n",
       "      <th>GOR_90</th>\n",
       "    </tr>\n",
       "  </thead>\n",
       "  <tbody>\n",
       "    <tr>\n",
       "      <th>0</th>\n",
       "      <td>5123371740000</td>\n",
       "      <td>9056</td>\n",
       "      <td>1025.8680</td>\n",
       "      <td>790.7205</td>\n",
       "      <td>2300.919963</td>\n",
       "      <td>2290.231375</td>\n",
       "      <td>2171.635752</td>\n",
       "    </tr>\n",
       "    <tr>\n",
       "      <th>1</th>\n",
       "      <td>5123377360000</td>\n",
       "      <td>4101</td>\n",
       "      <td>NaN</td>\n",
       "      <td>NaN</td>\n",
       "      <td>3786.669639</td>\n",
       "      <td>3838.096579</td>\n",
       "      <td>4012.142621</td>\n",
       "    </tr>\n",
       "    <tr>\n",
       "      <th>2</th>\n",
       "      <td>5123378210000</td>\n",
       "      <td>4161</td>\n",
       "      <td>916.0801</td>\n",
       "      <td>839.9280</td>\n",
       "      <td>2399.490505</td>\n",
       "      <td>2291.864862</td>\n",
       "      <td>2472.275585</td>\n",
       "    </tr>\n",
       "  </tbody>\n",
       "</table>\n",
       "</div>"
      ],
      "text/plain": [
       "             API  LATERAL_LENGTH_BLEND  PROP_PER_FOOT  WATER_PER_FOOT  \\\n",
       "0  5123371740000                  9056      1025.8680        790.7205   \n",
       "1  5123377360000                  4101            NaN             NaN   \n",
       "2  5123378210000                  4161       916.0801        839.9280   \n",
       "\n",
       "        GOR_30       GOR_60       GOR_90  \n",
       "0  2300.919963  2290.231375  2171.635752  \n",
       "1  3786.669639  3838.096579  4012.142621  \n",
       "2  2399.490505  2291.864862  2472.275585  "
      ]
     },
     "execution_count": 3,
     "metadata": {},
     "output_type": "execute_result"
    }
   ],
   "source": [
    "harmony_data.head(3)"
   ]
  },
  {
   "cell_type": "code",
   "execution_count": 4,
   "metadata": {},
   "outputs": [
    {
     "data": {
      "text/html": [
       "<div>\n",
       "<style scoped>\n",
       "    .dataframe tbody tr th:only-of-type {\n",
       "        vertical-align: middle;\n",
       "    }\n",
       "\n",
       "    .dataframe tbody tr th {\n",
       "        vertical-align: top;\n",
       "    }\n",
       "\n",
       "    .dataframe thead th {\n",
       "        text-align: right;\n",
       "    }\n",
       "</style>\n",
       "<table border=\"1\" class=\"dataframe\">\n",
       "  <thead>\n",
       "    <tr style=\"text-align: right;\">\n",
       "      <th></th>\n",
       "      <th>API</th>\n",
       "      <th>PermitDate</th>\n",
       "      <th>SpudDate</th>\n",
       "      <th>CompletionDate</th>\n",
       "      <th>FirstProductionDate</th>\n",
       "      <th>operatorNameIHS</th>\n",
       "      <th>formation</th>\n",
       "      <th>BasinName</th>\n",
       "      <th>StateName</th>\n",
       "      <th>CountyName</th>\n",
       "      <th>LatWGS84</th>\n",
       "      <th>LonWGS84</th>\n",
       "      <th>BottomHoleLatitude</th>\n",
       "      <th>BottomHoleLongitude</th>\n",
       "    </tr>\n",
       "  </thead>\n",
       "  <tbody>\n",
       "    <tr>\n",
       "      <th>0</th>\n",
       "      <td>33105037530000</td>\n",
       "      <td>2014-09-10</td>\n",
       "      <td>2014-12-31</td>\n",
       "      <td>2015-05-05</td>\n",
       "      <td>2015-03-01 00:00:00.000</td>\n",
       "      <td>CONTINENTAL RESOURCES INCORPORATED</td>\n",
       "      <td>BAKKEN</td>\n",
       "      <td>WILLISTON BASIN</td>\n",
       "      <td>NORTH DAKOTA</td>\n",
       "      <td>WILLIAMS</td>\n",
       "      <td>48.227596</td>\n",
       "      <td>-103.299600</td>\n",
       "      <td>48.2546</td>\n",
       "      <td>-103.29997</td>\n",
       "    </tr>\n",
       "    <tr>\n",
       "      <th>1</th>\n",
       "      <td>33105032020000</td>\n",
       "      <td>2013-09-09</td>\n",
       "      <td>2013-11-02</td>\n",
       "      <td>2014-04-28</td>\n",
       "      <td>2014-04-01 00:00:00.000</td>\n",
       "      <td>CONTINENTAL RESOURCES INCORPORATED</td>\n",
       "      <td>BAKKEN</td>\n",
       "      <td>WILLISTON BASIN</td>\n",
       "      <td>NORTH DAKOTA</td>\n",
       "      <td>WILLIAMS</td>\n",
       "      <td>48.230954</td>\n",
       "      <td>-103.189754</td>\n",
       "      <td>48.1983</td>\n",
       "      <td>-103.19195</td>\n",
       "    </tr>\n",
       "  </tbody>\n",
       "</table>\n",
       "</div>"
      ],
      "text/plain": [
       "              API  PermitDate    SpudDate CompletionDate  \\\n",
       "0  33105037530000  2014-09-10  2014-12-31     2015-05-05   \n",
       "1  33105032020000  2013-09-09  2013-11-02     2014-04-28   \n",
       "\n",
       "       FirstProductionDate                     operatorNameIHS formation  \\\n",
       "0  2015-03-01 00:00:00.000  CONTINENTAL RESOURCES INCORPORATED    BAKKEN   \n",
       "1  2014-04-01 00:00:00.000  CONTINENTAL RESOURCES INCORPORATED    BAKKEN   \n",
       "\n",
       "         BasinName     StateName CountyName   LatWGS84    LonWGS84  \\\n",
       "0  WILLISTON BASIN  NORTH DAKOTA   WILLIAMS  48.227596 -103.299600   \n",
       "1  WILLISTON BASIN  NORTH DAKOTA   WILLIAMS  48.230954 -103.189754   \n",
       "\n",
       "   BottomHoleLatitude  BottomHoleLongitude  \n",
       "0             48.2546           -103.29997  \n",
       "1             48.1983           -103.19195  "
      ]
     },
     "execution_count": 4,
     "metadata": {},
     "output_type": "execute_result"
    }
   ],
   "source": [
    "IHS_data.head(2)"
   ]
  },
  {
   "cell_type": "code",
   "execution_count": 5,
   "metadata": {},
   "outputs": [
    {
     "data": {
      "text/html": [
       "<div>\n",
       "<style scoped>\n",
       "    .dataframe tbody tr th:only-of-type {\n",
       "        vertical-align: middle;\n",
       "    }\n",
       "\n",
       "    .dataframe tbody tr th {\n",
       "        vertical-align: top;\n",
       "    }\n",
       "\n",
       "    .dataframe thead th {\n",
       "        text-align: right;\n",
       "    }\n",
       "</style>\n",
       "<table border=\"1\" class=\"dataframe\">\n",
       "  <thead>\n",
       "    <tr style=\"text-align: right;\">\n",
       "      <th></th>\n",
       "      <th>API</th>\n",
       "      <th>Year</th>\n",
       "      <th>Month</th>\n",
       "      <th>Liquid</th>\n",
       "      <th>Gas</th>\n",
       "      <th>RatioGasOil</th>\n",
       "      <th>Water</th>\n",
       "      <th>PercentWater</th>\n",
       "      <th>DaysOn</th>\n",
       "      <th>_LastUpdate</th>\n",
       "    </tr>\n",
       "  </thead>\n",
       "  <tbody>\n",
       "    <tr>\n",
       "      <th>0</th>\n",
       "      <td>33053063590000</td>\n",
       "      <td>2015</td>\n",
       "      <td>3</td>\n",
       "      <td>17186</td>\n",
       "      <td>26624</td>\n",
       "      <td>1.549168</td>\n",
       "      <td>8213</td>\n",
       "      <td>0.477889</td>\n",
       "      <td>16</td>\n",
       "      <td>2016-08-11 14:03:14.000</td>\n",
       "    </tr>\n",
       "    <tr>\n",
       "      <th>1</th>\n",
       "      <td>33053063590000</td>\n",
       "      <td>2015</td>\n",
       "      <td>4</td>\n",
       "      <td>18796</td>\n",
       "      <td>21796</td>\n",
       "      <td>1.159608</td>\n",
       "      <td>7255</td>\n",
       "      <td>0.385986</td>\n",
       "      <td>30</td>\n",
       "      <td>2016-08-11 14:03:14.000</td>\n",
       "    </tr>\n",
       "  </tbody>\n",
       "</table>\n",
       "</div>"
      ],
      "text/plain": [
       "              API  Year  Month  Liquid    Gas  RatioGasOil  Water  \\\n",
       "0  33053063590000  2015      3   17186  26624     1.549168   8213   \n",
       "1  33053063590000  2015      4   18796  21796     1.159608   7255   \n",
       "\n",
       "   PercentWater  DaysOn              _LastUpdate  \n",
       "0      0.477889      16  2016-08-11 14:03:14.000  \n",
       "1      0.385986      30  2016-08-11 14:03:14.000  "
      ]
     },
     "execution_count": 5,
     "metadata": {},
     "output_type": "execute_result"
    }
   ],
   "source": [
    "train_data.head(2)"
   ]
  },
  {
   "cell_type": "code",
   "execution_count": 6,
   "metadata": {},
   "outputs": [
    {
     "data": {
      "text/html": [
       "<div>\n",
       "<style scoped>\n",
       "    .dataframe tbody tr th:only-of-type {\n",
       "        vertical-align: middle;\n",
       "    }\n",
       "\n",
       "    .dataframe tbody tr th {\n",
       "        vertical-align: top;\n",
       "    }\n",
       "\n",
       "    .dataframe thead th {\n",
       "        text-align: right;\n",
       "    }\n",
       "</style>\n",
       "<table border=\"1\" class=\"dataframe\">\n",
       "  <thead>\n",
       "    <tr style=\"text-align: right;\">\n",
       "      <th></th>\n",
       "      <th>API</th>\n",
       "      <th>Year</th>\n",
       "      <th>Month</th>\n",
       "      <th>Liquid</th>\n",
       "      <th>Gas</th>\n",
       "      <th>RatioGasOil</th>\n",
       "      <th>Water</th>\n",
       "      <th>PercentWater</th>\n",
       "      <th>DaysOn</th>\n",
       "      <th>_LastUpdate</th>\n",
       "      <th>date</th>\n",
       "    </tr>\n",
       "  </thead>\n",
       "  <tbody>\n",
       "    <tr>\n",
       "      <th>0</th>\n",
       "      <td>33053052530100</td>\n",
       "      <td>2014</td>\n",
       "      <td>7</td>\n",
       "      <td>19518</td>\n",
       "      <td>34414</td>\n",
       "      <td>1.763193</td>\n",
       "      <td>10786</td>\n",
       "      <td>0.552618</td>\n",
       "      <td>31</td>\n",
       "      <td>2016-04-06 13:48:08.990</td>\n",
       "      <td>2014-07-01</td>\n",
       "    </tr>\n",
       "    <tr>\n",
       "      <th>1</th>\n",
       "      <td>33053052530100</td>\n",
       "      <td>2014</td>\n",
       "      <td>8</td>\n",
       "      <td>18632</td>\n",
       "      <td>32250</td>\n",
       "      <td>1.730893</td>\n",
       "      <td>9959</td>\n",
       "      <td>0.534511</td>\n",
       "      <td>31</td>\n",
       "      <td>2016-04-06 13:48:08.990</td>\n",
       "      <td>2014-08-01</td>\n",
       "    </tr>\n",
       "    <tr>\n",
       "      <th>2</th>\n",
       "      <td>33053052530100</td>\n",
       "      <td>2014</td>\n",
       "      <td>9</td>\n",
       "      <td>12700</td>\n",
       "      <td>32768</td>\n",
       "      <td>2.580157</td>\n",
       "      <td>7528</td>\n",
       "      <td>0.592756</td>\n",
       "      <td>30</td>\n",
       "      <td>2016-04-06 13:48:08.990</td>\n",
       "      <td>2014-09-01</td>\n",
       "    </tr>\n",
       "    <tr>\n",
       "      <th>3</th>\n",
       "      <td>33053061840000</td>\n",
       "      <td>2015</td>\n",
       "      <td>1</td>\n",
       "      <td>24342</td>\n",
       "      <td>27534</td>\n",
       "      <td>1.131131</td>\n",
       "      <td>5752</td>\n",
       "      <td>0.236299</td>\n",
       "      <td>28</td>\n",
       "      <td>2017-02-23 14:01:12.400</td>\n",
       "      <td>2015-01-01</td>\n",
       "    </tr>\n",
       "    <tr>\n",
       "      <th>4</th>\n",
       "      <td>33053061840000</td>\n",
       "      <td>2015</td>\n",
       "      <td>2</td>\n",
       "      <td>12766</td>\n",
       "      <td>18118</td>\n",
       "      <td>1.419239</td>\n",
       "      <td>4143</td>\n",
       "      <td>0.324534</td>\n",
       "      <td>28</td>\n",
       "      <td>2016-04-06 13:48:09.583</td>\n",
       "      <td>2015-02-01</td>\n",
       "    </tr>\n",
       "  </tbody>\n",
       "</table>\n",
       "</div>"
      ],
      "text/plain": [
       "              API  Year  Month  Liquid    Gas  RatioGasOil  Water  \\\n",
       "0  33053052530100  2014      7   19518  34414     1.763193  10786   \n",
       "1  33053052530100  2014      8   18632  32250     1.730893   9959   \n",
       "2  33053052530100  2014      9   12700  32768     2.580157   7528   \n",
       "3  33053061840000  2015      1   24342  27534     1.131131   5752   \n",
       "4  33053061840000  2015      2   12766  18118     1.419239   4143   \n",
       "\n",
       "   PercentWater  DaysOn              _LastUpdate        date  \n",
       "0      0.552618      31  2016-04-06 13:48:08.990  2014-07-01  \n",
       "1      0.534511      31  2016-04-06 13:48:08.990  2014-08-01  \n",
       "2      0.592756      30  2016-04-06 13:48:08.990  2014-09-01  \n",
       "3      0.236299      28  2017-02-23 14:01:12.400  2015-01-01  \n",
       "4      0.324534      28  2016-04-06 13:48:09.583  2015-02-01  "
      ]
     },
     "execution_count": 6,
     "metadata": {},
     "output_type": "execute_result"
    }
   ],
   "source": [
    "test_data.head(5)"
   ]
  },
  {
   "cell_type": "code",
   "execution_count": 7,
   "metadata": {},
   "outputs": [
    {
     "name": "stdout",
     "output_type": "stream",
     "text": [
      "<class 'pandas.core.frame.DataFrame'>\n",
      "RangeIndex: 394074 entries, 0 to 394073\n",
      "Data columns (total 10 columns):\n",
      " #   Column        Non-Null Count   Dtype  \n",
      "---  ------        --------------   -----  \n",
      " 0   API           394074 non-null  int64  \n",
      " 1   Year          394074 non-null  int64  \n",
      " 2   Month         394074 non-null  int64  \n",
      " 3   Liquid        394074 non-null  int64  \n",
      " 4   Gas           394074 non-null  int64  \n",
      " 5   RatioGasOil   394074 non-null  float64\n",
      " 6   Water         394074 non-null  int64  \n",
      " 7   PercentWater  394074 non-null  float64\n",
      " 8   DaysOn        394074 non-null  int64  \n",
      " 9   _LastUpdate   394074 non-null  object \n",
      "dtypes: float64(2), int64(7), object(1)\n",
      "memory usage: 30.1+ MB\n"
     ]
    }
   ],
   "source": [
    "train_data.info()"
   ]
  },
  {
   "cell_type": "markdown",
   "metadata": {},
   "source": [
    "#### Checking null values"
   ]
  },
  {
   "cell_type": "code",
   "execution_count": 8,
   "metadata": {},
   "outputs": [
    {
     "data": {
      "text/plain": [
       "API             0\n",
       "Year            0\n",
       "Month           0\n",
       "Liquid          0\n",
       "Gas             0\n",
       "RatioGasOil     0\n",
       "Water           0\n",
       "PercentWater    0\n",
       "DaysOn          0\n",
       "_LastUpdate     0\n",
       "dtype: int64"
      ]
     },
     "execution_count": 8,
     "metadata": {},
     "output_type": "execute_result"
    }
   ],
   "source": [
    "# Check for missing values\n",
    "train_data.isnull().sum()"
   ]
  },
  {
   "cell_type": "code",
   "execution_count": 9,
   "metadata": {},
   "outputs": [
    {
     "data": {
      "text/plain": [
       "API                      0\n",
       "PermitDate               0\n",
       "SpudDate                 0\n",
       "CompletionDate           0\n",
       "FirstProductionDate    183\n",
       "operatorNameIHS          0\n",
       "formation                0\n",
       "BasinName                0\n",
       "StateName                0\n",
       "CountyName               0\n",
       "LatWGS84                 0\n",
       "LonWGS84                 0\n",
       "BottomHoleLatitude       0\n",
       "BottomHoleLongitude      0\n",
       "dtype: int64"
      ]
     },
     "execution_count": 9,
     "metadata": {},
     "output_type": "execute_result"
    }
   ],
   "source": [
    "IHS_data.isnull().sum()"
   ]
  },
  {
   "cell_type": "code",
   "execution_count": 10,
   "metadata": {},
   "outputs": [
    {
     "data": {
      "text/plain": [
       "API                       0\n",
       "LATERAL_LENGTH_BLEND      0\n",
       "PROP_PER_FOOT           460\n",
       "WATER_PER_FOOT          633\n",
       "GOR_30                  135\n",
       "GOR_60                  135\n",
       "GOR_90                  135\n",
       "dtype: int64"
      ]
     },
     "execution_count": 10,
     "metadata": {},
     "output_type": "execute_result"
    }
   ],
   "source": [
    "harmony_data.isnull().sum()"
   ]
  },
  {
   "cell_type": "markdown",
   "metadata": {},
   "source": [
    "### Compare the number of wells"
   ]
  },
  {
   "cell_type": "code",
   "execution_count": 11,
   "metadata": {},
   "outputs": [
    {
     "data": {
      "text/plain": [
       "(8930,)"
      ]
     },
     "execution_count": 11,
     "metadata": {},
     "output_type": "execute_result"
    }
   ],
   "source": [
    "# IHS_data Number of wells\n",
    "IHS_data.API.unique().shape"
   ]
  },
  {
   "cell_type": "code",
   "execution_count": 12,
   "metadata": {},
   "outputs": [
    {
     "data": {
      "text/plain": [
       "(8930,)"
      ]
     },
     "execution_count": 12,
     "metadata": {},
     "output_type": "execute_result"
    }
   ],
   "source": [
    "# Harmony_data Number of wells\n",
    "harmony_data.API.unique().shape"
   ]
  },
  {
   "cell_type": "code",
   "execution_count": 13,
   "metadata": {},
   "outputs": [
    {
     "data": {
      "text/plain": [
       "8973"
      ]
     },
     "execution_count": 13,
     "metadata": {},
     "output_type": "execute_result"
    }
   ],
   "source": [
    "# train_data Number of wells\n",
    "train_data.API.unique().shape[0] + test_data.API.unique().shape[0]"
   ]
  },
  {
   "cell_type": "code",
   "execution_count": 14,
   "metadata": {},
   "outputs": [
    {
     "data": {
      "text/plain": [
       "(1129,)"
      ]
     },
     "execution_count": 14,
     "metadata": {},
     "output_type": "execute_result"
    }
   ],
   "source": [
    "# test_data Number of wells\n",
    "test_data.API.unique().shape"
   ]
  },
  {
   "cell_type": "code",
   "execution_count": 15,
   "metadata": {},
   "outputs": [
    {
     "name": "stdout",
     "output_type": "stream",
     "text": [
      "43\n"
     ]
    }
   ],
   "source": [
    "# Get repetead wells in train and test data\n",
    "repetead_wells = []\n",
    "for well in train_data.API.unique():\n",
    "    if well in test_data.API.unique():\n",
    "        repetead_wells.append(well)\n",
    "\n",
    "print(len(repetead_wells))"
   ]
  },
  {
   "cell_type": "markdown",
   "metadata": {},
   "source": [
    "#### Check values of each column"
   ]
  },
  {
   "cell_type": "code",
   "execution_count": null,
   "metadata": {},
   "outputs": [
    {
     "data": {
      "text/html": [
       "<div>\n",
       "<style scoped>\n",
       "    .dataframe tbody tr th:only-of-type {\n",
       "        vertical-align: middle;\n",
       "    }\n",
       "\n",
       "    .dataframe tbody tr th {\n",
       "        vertical-align: top;\n",
       "    }\n",
       "\n",
       "    .dataframe thead th {\n",
       "        text-align: right;\n",
       "    }\n",
       "</style>\n",
       "<table border=\"1\" class=\"dataframe\">\n",
       "  <thead>\n",
       "    <tr style=\"text-align: right;\">\n",
       "      <th></th>\n",
       "      <th>API</th>\n",
       "      <th>Year</th>\n",
       "      <th>Month</th>\n",
       "      <th>Liquid</th>\n",
       "      <th>Gas</th>\n",
       "      <th>RatioGasOil</th>\n",
       "      <th>Water</th>\n",
       "      <th>PercentWater</th>\n",
       "      <th>DaysOn</th>\n",
       "      <th>_LastUpdate</th>\n",
       "    </tr>\n",
       "  </thead>\n",
       "  <tbody>\n",
       "    <tr>\n",
       "      <th>393204</th>\n",
       "      <td>42301322730000</td>\n",
       "      <td>2015</td>\n",
       "      <td>2</td>\n",
       "      <td>10801</td>\n",
       "      <td>36697</td>\n",
       "      <td>3.397556</td>\n",
       "      <td>31584</td>\n",
       "      <td>2.924174</td>\n",
       "      <td>0</td>\n",
       "      <td>2018-11-04 10:19:16.577</td>\n",
       "    </tr>\n",
       "    <tr>\n",
       "      <th>393205</th>\n",
       "      <td>42301322730000</td>\n",
       "      <td>2015</td>\n",
       "      <td>3</td>\n",
       "      <td>17497</td>\n",
       "      <td>78231</td>\n",
       "      <td>4.471109</td>\n",
       "      <td>67331</td>\n",
       "      <td>3.848145</td>\n",
       "      <td>0</td>\n",
       "      <td>2018-11-04 10:19:16.577</td>\n",
       "    </tr>\n",
       "    <tr>\n",
       "      <th>393206</th>\n",
       "      <td>42301322730000</td>\n",
       "      <td>2015</td>\n",
       "      <td>4</td>\n",
       "      <td>12283</td>\n",
       "      <td>65415</td>\n",
       "      <td>5.325653</td>\n",
       "      <td>56301</td>\n",
       "      <td>4.583652</td>\n",
       "      <td>0</td>\n",
       "      <td>2018-11-04 10:19:16.577</td>\n",
       "    </tr>\n",
       "    <tr>\n",
       "      <th>393207</th>\n",
       "      <td>42301322730000</td>\n",
       "      <td>2015</td>\n",
       "      <td>5</td>\n",
       "      <td>9661</td>\n",
       "      <td>64795</td>\n",
       "      <td>6.706863</td>\n",
       "      <td>55767</td>\n",
       "      <td>5.772384</td>\n",
       "      <td>0</td>\n",
       "      <td>2018-11-04 10:19:16.577</td>\n",
       "    </tr>\n",
       "    <tr>\n",
       "      <th>393208</th>\n",
       "      <td>42301322730000</td>\n",
       "      <td>2015</td>\n",
       "      <td>6</td>\n",
       "      <td>8056</td>\n",
       "      <td>53236</td>\n",
       "      <td>6.608242</td>\n",
       "      <td>45819</td>\n",
       "      <td>5.687562</td>\n",
       "      <td>0</td>\n",
       "      <td>2018-11-04 10:19:16.577</td>\n",
       "    </tr>\n",
       "    <tr>\n",
       "      <th>393209</th>\n",
       "      <td>42301322730000</td>\n",
       "      <td>2015</td>\n",
       "      <td>7</td>\n",
       "      <td>7166</td>\n",
       "      <td>53470</td>\n",
       "      <td>7.461624</td>\n",
       "      <td>46020</td>\n",
       "      <td>6.421993</td>\n",
       "      <td>0</td>\n",
       "      <td>2018-11-04 10:19:16.577</td>\n",
       "    </tr>\n",
       "    <tr>\n",
       "      <th>393210</th>\n",
       "      <td>42301322730000</td>\n",
       "      <td>2015</td>\n",
       "      <td>8</td>\n",
       "      <td>6502</td>\n",
       "      <td>76269</td>\n",
       "      <td>11.730083</td>\n",
       "      <td>65642</td>\n",
       "      <td>10.095663</td>\n",
       "      <td>0</td>\n",
       "      <td>2018-11-04 10:19:16.577</td>\n",
       "    </tr>\n",
       "    <tr>\n",
       "      <th>393211</th>\n",
       "      <td>42301322730000</td>\n",
       "      <td>2015</td>\n",
       "      <td>9</td>\n",
       "      <td>5658</td>\n",
       "      <td>53272</td>\n",
       "      <td>9.415341</td>\n",
       "      <td>45850</td>\n",
       "      <td>8.103570</td>\n",
       "      <td>0</td>\n",
       "      <td>2018-11-04 10:19:16.577</td>\n",
       "    </tr>\n",
       "    <tr>\n",
       "      <th>393212</th>\n",
       "      <td>42301322730000</td>\n",
       "      <td>2015</td>\n",
       "      <td>10</td>\n",
       "      <td>5395</td>\n",
       "      <td>51993</td>\n",
       "      <td>9.637257</td>\n",
       "      <td>44749</td>\n",
       "      <td>8.294532</td>\n",
       "      <td>0</td>\n",
       "      <td>2018-11-04 10:19:16.577</td>\n",
       "    </tr>\n",
       "    <tr>\n",
       "      <th>393213</th>\n",
       "      <td>42301322730000</td>\n",
       "      <td>2015</td>\n",
       "      <td>11</td>\n",
       "      <td>4885</td>\n",
       "      <td>45718</td>\n",
       "      <td>9.358854</td>\n",
       "      <td>39348</td>\n",
       "      <td>8.054862</td>\n",
       "      <td>0</td>\n",
       "      <td>2018-11-04 10:19:16.577</td>\n",
       "    </tr>\n",
       "    <tr>\n",
       "      <th>393214</th>\n",
       "      <td>42301322730000</td>\n",
       "      <td>2015</td>\n",
       "      <td>12</td>\n",
       "      <td>4677</td>\n",
       "      <td>43118</td>\n",
       "      <td>9.219158</td>\n",
       "      <td>37110</td>\n",
       "      <td>7.934573</td>\n",
       "      <td>0</td>\n",
       "      <td>2018-11-04 10:19:16.577</td>\n",
       "    </tr>\n",
       "  </tbody>\n",
       "</table>\n",
       "</div>"
      ],
      "text/plain": [
       "                   API  Year  Month  Liquid    Gas  RatioGasOil  Water  \\\n",
       "393204  42301322730000  2015      2   10801  36697     3.397556  31584   \n",
       "393205  42301322730000  2015      3   17497  78231     4.471109  67331   \n",
       "393206  42301322730000  2015      4   12283  65415     5.325653  56301   \n",
       "393207  42301322730000  2015      5    9661  64795     6.706863  55767   \n",
       "393208  42301322730000  2015      6    8056  53236     6.608242  45819   \n",
       "393209  42301322730000  2015      7    7166  53470     7.461624  46020   \n",
       "393210  42301322730000  2015      8    6502  76269    11.730083  65642   \n",
       "393211  42301322730000  2015      9    5658  53272     9.415341  45850   \n",
       "393212  42301322730000  2015     10    5395  51993     9.637257  44749   \n",
       "393213  42301322730000  2015     11    4885  45718     9.358854  39348   \n",
       "393214  42301322730000  2015     12    4677  43118     9.219158  37110   \n",
       "\n",
       "        PercentWater  DaysOn              _LastUpdate  \n",
       "393204      2.924174       0  2018-11-04 10:19:16.577  \n",
       "393205      3.848145       0  2018-11-04 10:19:16.577  \n",
       "393206      4.583652       0  2018-11-04 10:19:16.577  \n",
       "393207      5.772384       0  2018-11-04 10:19:16.577  \n",
       "393208      5.687562       0  2018-11-04 10:19:16.577  \n",
       "393209      6.421993       0  2018-11-04 10:19:16.577  \n",
       "393210     10.095663       0  2018-11-04 10:19:16.577  \n",
       "393211      8.103570       0  2018-11-04 10:19:16.577  \n",
       "393212      8.294532       0  2018-11-04 10:19:16.577  \n",
       "393213      8.054862       0  2018-11-04 10:19:16.577  \n",
       "393214      7.934573       0  2018-11-04 10:19:16.577  "
      ]
     },
     "execution_count": 12,
     "metadata": {},
     "output_type": "execute_result"
    }
   ],
   "source": [
    "# Compare the same WELL in train and test data\n",
    "train_data[(train_data['API'] == 42301322730000) & (train_data['Year'] == 2015)]"
   ]
  },
  {
   "cell_type": "code",
   "execution_count": null,
   "metadata": {},
   "outputs": [
    {
     "data": {
      "text/html": [
       "<div>\n",
       "<style scoped>\n",
       "    .dataframe tbody tr th:only-of-type {\n",
       "        vertical-align: middle;\n",
       "    }\n",
       "\n",
       "    .dataframe tbody tr th {\n",
       "        vertical-align: top;\n",
       "    }\n",
       "\n",
       "    .dataframe thead th {\n",
       "        text-align: right;\n",
       "    }\n",
       "</style>\n",
       "<table border=\"1\" class=\"dataframe\">\n",
       "  <thead>\n",
       "    <tr style=\"text-align: right;\">\n",
       "      <th></th>\n",
       "      <th>API</th>\n",
       "      <th>Year</th>\n",
       "      <th>Month</th>\n",
       "      <th>Liquid</th>\n",
       "      <th>Gas</th>\n",
       "      <th>RatioGasOil</th>\n",
       "      <th>Water</th>\n",
       "      <th>PercentWater</th>\n",
       "      <th>DaysOn</th>\n",
       "      <th>_LastUpdate</th>\n",
       "      <th>date</th>\n",
       "    </tr>\n",
       "  </thead>\n",
       "  <tbody>\n",
       "    <tr>\n",
       "      <th>6478</th>\n",
       "      <td>42301322730000</td>\n",
       "      <td>2015</td>\n",
       "      <td>2</td>\n",
       "      <td>10801</td>\n",
       "      <td>36697</td>\n",
       "      <td>3.397556</td>\n",
       "      <td>31584</td>\n",
       "      <td>2.924174</td>\n",
       "      <td>0</td>\n",
       "      <td>2018-11-04 10:19:16.577</td>\n",
       "      <td>2015-02-01</td>\n",
       "    </tr>\n",
       "    <tr>\n",
       "      <th>6479</th>\n",
       "      <td>42301322730000</td>\n",
       "      <td>2015</td>\n",
       "      <td>3</td>\n",
       "      <td>17497</td>\n",
       "      <td>78231</td>\n",
       "      <td>4.471109</td>\n",
       "      <td>67331</td>\n",
       "      <td>3.848145</td>\n",
       "      <td>0</td>\n",
       "      <td>2018-11-04 10:19:16.577</td>\n",
       "      <td>2015-03-01</td>\n",
       "    </tr>\n",
       "    <tr>\n",
       "      <th>6480</th>\n",
       "      <td>42301322730000</td>\n",
       "      <td>2015</td>\n",
       "      <td>4</td>\n",
       "      <td>12283</td>\n",
       "      <td>65415</td>\n",
       "      <td>5.325653</td>\n",
       "      <td>56301</td>\n",
       "      <td>4.583652</td>\n",
       "      <td>0</td>\n",
       "      <td>2018-11-04 10:19:16.577</td>\n",
       "      <td>2015-04-01</td>\n",
       "    </tr>\n",
       "    <tr>\n",
       "      <th>6481</th>\n",
       "      <td>42301322730000</td>\n",
       "      <td>2015</td>\n",
       "      <td>5</td>\n",
       "      <td>9661</td>\n",
       "      <td>64795</td>\n",
       "      <td>6.706863</td>\n",
       "      <td>55767</td>\n",
       "      <td>5.772384</td>\n",
       "      <td>0</td>\n",
       "      <td>2018-11-04 10:19:16.577</td>\n",
       "      <td>2015-05-01</td>\n",
       "    </tr>\n",
       "  </tbody>\n",
       "</table>\n",
       "</div>"
      ],
      "text/plain": [
       "                 API  Year  Month  Liquid    Gas  RatioGasOil  Water  \\\n",
       "6478  42301322730000  2015      2   10801  36697     3.397556  31584   \n",
       "6479  42301322730000  2015      3   17497  78231     4.471109  67331   \n",
       "6480  42301322730000  2015      4   12283  65415     5.325653  56301   \n",
       "6481  42301322730000  2015      5    9661  64795     6.706863  55767   \n",
       "\n",
       "      PercentWater  DaysOn              _LastUpdate        date  \n",
       "6478      2.924174       0  2018-11-04 10:19:16.577  2015-02-01  \n",
       "6479      3.848145       0  2018-11-04 10:19:16.577  2015-03-01  \n",
       "6480      4.583652       0  2018-11-04 10:19:16.577  2015-04-01  \n",
       "6481      5.772384       0  2018-11-04 10:19:16.577  2015-05-01  "
      ]
     },
     "execution_count": 13,
     "metadata": {},
     "output_type": "execute_result"
    }
   ],
   "source": [
    "# Compare the same WELL in train and test data\n",
    "test_data[(test_data['API'] == 42301322730000)]"
   ]
  },
  {
   "cell_type": "code",
   "execution_count": 17,
   "metadata": {},
   "outputs": [
    {
     "data": {
      "text/plain": [
       "(set(), set())"
      ]
     },
     "execution_count": 17,
     "metadata": {},
     "output_type": "execute_result"
    }
   ],
   "source": [
    "# Check if all the wells in test data are in harmony_data and IHS_data\n",
    "set(test_APIs.index.unique()) - set(harmony_data.index.unique()), set(test_APIs.index.unique()) - set(IHS_data.index.unique())"
   ]
  },
  {
   "cell_type": "code",
   "execution_count": 47,
   "metadata": {},
   "outputs": [
    {
     "data": {
      "text/html": [
       "<div>\n",
       "<style scoped>\n",
       "    .dataframe tbody tr th:only-of-type {\n",
       "        vertical-align: middle;\n",
       "    }\n",
       "\n",
       "    .dataframe tbody tr th {\n",
       "        vertical-align: top;\n",
       "    }\n",
       "\n",
       "    .dataframe thead th {\n",
       "        text-align: right;\n",
       "    }\n",
       "</style>\n",
       "<table border=\"1\" class=\"dataframe\">\n",
       "  <thead>\n",
       "    <tr style=\"text-align: right;\">\n",
       "      <th></th>\n",
       "      <th>API</th>\n",
       "      <th>PermitDate</th>\n",
       "      <th>SpudDate</th>\n",
       "      <th>CompletionDate</th>\n",
       "      <th>FirstProductionDate</th>\n",
       "      <th>operatorNameIHS</th>\n",
       "      <th>formation</th>\n",
       "      <th>BasinName</th>\n",
       "      <th>StateName</th>\n",
       "      <th>CountyName</th>\n",
       "      <th>LatWGS84</th>\n",
       "      <th>LonWGS84</th>\n",
       "      <th>BottomHoleLatitude</th>\n",
       "      <th>BottomHoleLongitude</th>\n",
       "    </tr>\n",
       "  </thead>\n",
       "  <tbody>\n",
       "    <tr>\n",
       "      <th>272</th>\n",
       "      <td>42301320940000</td>\n",
       "      <td>2014-01-02</td>\n",
       "      <td>2014-02-19</td>\n",
       "      <td>2014-04-17</td>\n",
       "      <td>NaN</td>\n",
       "      <td>WPX ENERGY PRODUCTION LLC</td>\n",
       "      <td>BONE SPRING</td>\n",
       "      <td>PERMIAN BASIN</td>\n",
       "      <td>TEXAS</td>\n",
       "      <td>LOVING</td>\n",
       "      <td>31.942399</td>\n",
       "      <td>-103.870208</td>\n",
       "      <td>31.95571</td>\n",
       "      <td>-103.86969</td>\n",
       "    </tr>\n",
       "    <tr>\n",
       "      <th>281</th>\n",
       "      <td>42301322750000</td>\n",
       "      <td>2014-08-09</td>\n",
       "      <td>2015-04-08</td>\n",
       "      <td>2015-07-21</td>\n",
       "      <td>NaN</td>\n",
       "      <td>EOG RESOURCES INCORPORATED</td>\n",
       "      <td>BONE SPRING</td>\n",
       "      <td>PERMIAN BASIN</td>\n",
       "      <td>TEXAS</td>\n",
       "      <td>LOVING</td>\n",
       "      <td>31.971822</td>\n",
       "      <td>-103.626594</td>\n",
       "      <td>31.95668</td>\n",
       "      <td>-103.62589</td>\n",
       "    </tr>\n",
       "    <tr>\n",
       "      <th>289</th>\n",
       "      <td>42301323710000</td>\n",
       "      <td>2014-10-10</td>\n",
       "      <td>2014-12-18</td>\n",
       "      <td>2015-05-27</td>\n",
       "      <td>2016-01-01 00:00:00.000</td>\n",
       "      <td>APACHE CORPORATION</td>\n",
       "      <td>BONE SPRING</td>\n",
       "      <td>PERMIAN BASIN</td>\n",
       "      <td>TEXAS</td>\n",
       "      <td>LOVING</td>\n",
       "      <td>31.751439</td>\n",
       "      <td>-103.614968</td>\n",
       "      <td>31.73676</td>\n",
       "      <td>-103.63004</td>\n",
       "    </tr>\n",
       "    <tr>\n",
       "      <th>290</th>\n",
       "      <td>42301323710000</td>\n",
       "      <td>2014-10-10</td>\n",
       "      <td>2014-12-18</td>\n",
       "      <td>2015-05-27</td>\n",
       "      <td>2015-05-01 00:00:00.000</td>\n",
       "      <td>APACHE CORPORATION</td>\n",
       "      <td>BONE SPRING</td>\n",
       "      <td>PERMIAN BASIN</td>\n",
       "      <td>TEXAS</td>\n",
       "      <td>LOVING</td>\n",
       "      <td>31.751439</td>\n",
       "      <td>-103.614968</td>\n",
       "      <td>31.73676</td>\n",
       "      <td>-103.63004</td>\n",
       "    </tr>\n",
       "    <tr>\n",
       "      <th>310</th>\n",
       "      <td>42301326020000</td>\n",
       "      <td>2015-05-21</td>\n",
       "      <td>2015-06-20</td>\n",
       "      <td>2015-08-05</td>\n",
       "      <td>NaN</td>\n",
       "      <td>EOG RESOURCES INCORPORATED</td>\n",
       "      <td>BONE SPRING</td>\n",
       "      <td>PERMIAN BASIN</td>\n",
       "      <td>TEXAS</td>\n",
       "      <td>LOVING</td>\n",
       "      <td>31.986463</td>\n",
       "      <td>-103.619420</td>\n",
       "      <td>31.99981</td>\n",
       "      <td>-103.62003</td>\n",
       "    </tr>\n",
       "    <tr>\n",
       "      <th>316</th>\n",
       "      <td>42109325790000</td>\n",
       "      <td>2013-05-29</td>\n",
       "      <td>2013-08-10</td>\n",
       "      <td>2014-02-17</td>\n",
       "      <td>NaN</td>\n",
       "      <td>COG OPERATING LIMITED LIABILITY CORP</td>\n",
       "      <td>BONE SPRING</td>\n",
       "      <td>PERMIAN BASIN</td>\n",
       "      <td>TEXAS</td>\n",
       "      <td>CULBERSON</td>\n",
       "      <td>31.986781</td>\n",
       "      <td>-104.033066</td>\n",
       "      <td>31.99947</td>\n",
       "      <td>-104.03214</td>\n",
       "    </tr>\n",
       "  </tbody>\n",
       "</table>\n",
       "</div>"
      ],
      "text/plain": [
       "                API  PermitDate    SpudDate CompletionDate  \\\n",
       "272  42301320940000  2014-01-02  2014-02-19     2014-04-17   \n",
       "281  42301322750000  2014-08-09  2015-04-08     2015-07-21   \n",
       "289  42301323710000  2014-10-10  2014-12-18     2015-05-27   \n",
       "290  42301323710000  2014-10-10  2014-12-18     2015-05-27   \n",
       "310  42301326020000  2015-05-21  2015-06-20     2015-08-05   \n",
       "316  42109325790000  2013-05-29  2013-08-10     2014-02-17   \n",
       "\n",
       "         FirstProductionDate                       operatorNameIHS  \\\n",
       "272                      NaN             WPX ENERGY PRODUCTION LLC   \n",
       "281                      NaN            EOG RESOURCES INCORPORATED   \n",
       "289  2016-01-01 00:00:00.000                    APACHE CORPORATION   \n",
       "290  2015-05-01 00:00:00.000                    APACHE CORPORATION   \n",
       "310                      NaN            EOG RESOURCES INCORPORATED   \n",
       "316                      NaN  COG OPERATING LIMITED LIABILITY CORP   \n",
       "\n",
       "       formation      BasinName StateName CountyName   LatWGS84    LonWGS84  \\\n",
       "272  BONE SPRING  PERMIAN BASIN     TEXAS     LOVING  31.942399 -103.870208   \n",
       "281  BONE SPRING  PERMIAN BASIN     TEXAS     LOVING  31.971822 -103.626594   \n",
       "289  BONE SPRING  PERMIAN BASIN     TEXAS     LOVING  31.751439 -103.614968   \n",
       "290  BONE SPRING  PERMIAN BASIN     TEXAS     LOVING  31.751439 -103.614968   \n",
       "310  BONE SPRING  PERMIAN BASIN     TEXAS     LOVING  31.986463 -103.619420   \n",
       "316  BONE SPRING  PERMIAN BASIN     TEXAS  CULBERSON  31.986781 -104.033066   \n",
       "\n",
       "     BottomHoleLatitude  BottomHoleLongitude  \n",
       "272            31.95571           -103.86969  \n",
       "281            31.95668           -103.62589  \n",
       "289            31.73676           -103.63004  \n",
       "290            31.73676           -103.63004  \n",
       "310            31.99981           -103.62003  \n",
       "316            31.99947           -104.03214  "
      ]
     },
     "execution_count": 47,
     "metadata": {},
     "output_type": "execute_result"
    }
   ],
   "source": [
    "# IHS data has more observations than harmony data and wells, it is necessary to verify data that are duplicated \n",
    "IHS_data[IHS_data.API.isin(list(IHS_data.API[IHS_data.API.duplicated()]))].head(6)"
   ]
  },
  {
   "cell_type": "code",
   "execution_count": 50,
   "metadata": {},
   "outputs": [
    {
     "data": {
      "text/plain": [
       "(8930,)"
      ]
     },
     "execution_count": 50,
     "metadata": {},
     "output_type": "execute_result"
    }
   ],
   "source": [
    "# Drop duplicated wells in IHS data\n",
    "IHS_data = IHS_data.API.drop_duplicates()\n",
    "IHS_data.shape"
   ]
  },
  {
   "cell_type": "code",
   "execution_count": null,
   "metadata": {},
   "outputs": [],
   "source": []
  }
 ],
 "metadata": {
  "kernelspec": {
   "display_name": "Python 3.10.4 64-bit",
   "language": "python",
   "name": "python3"
  },
  "language_info": {
   "codemirror_mode": {
    "name": "ipython",
    "version": 3
   },
   "file_extension": ".py",
   "mimetype": "text/x-python",
   "name": "python",
   "nbconvert_exporter": "python",
   "pygments_lexer": "ipython3",
   "version": "3.10.4"
  },
  "orig_nbformat": 4,
  "vscode": {
   "interpreter": {
    "hash": "110fe3fb9777db4ce1f884af3cc527a40b2c98427ad17781c021ef692bd3d28d"
   }
  }
 },
 "nbformat": 4,
 "nbformat_minor": 2
}
