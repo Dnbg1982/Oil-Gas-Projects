{
 "cells": [
  {
   "cell_type": "markdown",
   "metadata": {},
   "source": [
    "# SEISMIC INVERSION USING MACHINE LEARNING\n",
    "\n",
    "This notebook builds an end-to-end Long Short Term Memory Model using TensorFlow and XGBoost"
   ]
  },
  {
   "cell_type": "markdown",
   "metadata": {},
   "source": [
    "## Problem\n",
    "Geophysics in the Cloud was a competition with the goal to perform seismic inversion of rock attributes from seismic data with the use of well logs. "
   ]
  },
  {
   "cell_type": "markdown",
   "metadata": {},
   "source": [
    "## Data\n",
    "Data used in this project came from open data (3D Poseidon from Australia). Seismic acquisition in 2009 by ConoPhilips\n",
    "Data given:\n",
    "- Near, Mid, Far offset seismic\n",
    "- Migration Velocity\n",
    "- Sonic Logs\n",
    "- Gamma\n",
    "- Porosity\n",
    "- Resistivity Logs"
   ]
  },
  {
   "cell_type": "markdown",
   "metadata": {},
   "source": [
    "## Goal\n",
    "Performing inversions for P-Impedance, S-Impedance, and Density."
   ]
  },
  {
   "cell_type": "markdown",
   "metadata": {},
   "source": [
    "## Evaluation\n",
    "\n",
    "* MAE = (1/n) * Σ|yi – xi|\n",
    "* R2 = 1 - ${\\frac{RSS}{TSS}}$ \\\\\n",
    "R^2\t=\tcoefficient of determination \\\\\n",
    "RSS\t=\tsum of squares of residuals \\\\\n",
    "TSS\t=\ttotal sum of squares \\\\\n",
    "* ME: maximum residual error"
   ]
  },
  {
   "cell_type": "markdown",
   "metadata": {},
   "source": [
    "## Features\n",
    "\n",
    "1. Well logs with DTC (transit-time of compressional wave), DTS (transit-time of shear wave) and RHOB (bulk density) are used for training and evaluation. \n",
    "2. Data is from Two blind wells. \n",
    "3. The provided logs contain a large amount of missing data.\n",
    "\n",
    "Inversion Info:\n",
    "\n",
    "Equations: \\\\\n",
    "Zp = Vp${*}$Rhob \\\\\n",
    "Zs = Vs${*}$Rhob"
   ]
  },
  {
   "cell_type": "markdown",
   "metadata": {},
   "source": [
    "### 1. Get workspace ready"
   ]
  },
  {
   "cell_type": "code",
   "execution_count": 2,
   "metadata": {},
   "outputs": [],
   "source": [
    "from time import time\n",
    "import pandas as pd\n",
    "import numpy as np\n",
    "import matplotlib.pyplot as plt\n",
    "import scipy.integrate as integrate\n",
    "from scipy.misc import derivative\n",
    "from scipy.interpolate import interp1d\n",
    "from scipy.signal import hilbert,chirp \n",
    "\n",
    "from smooth import *\n",
    "\n",
    "# Scaler\n",
    "from sklearn.preprocessing import RobustScaler\n",
    "\n",
    "# Baseline\n",
    "from sklearn.metrics import mean_absolute_error, r2_score, max_error\n",
    "from xgboost import XGBRegressor, plot_importance\n",
    "\n",
    "# Models\n",
    "from tensorflow.keras.models import Sequential\n",
    "from tensorflow.keras.layers import Activation, Dropout, Dense, LSTM\n",
    "from keras.layers.convolutional import Conv1D, MaxPooling1D, AveragePooling1D\n",
    "from tensorflow.keras import layers\n",
    "from tensorflow import keras\n",
    "import tensorflow.keras as k"
   ]
  },
  {
   "cell_type": "markdown",
   "metadata": {},
   "source": [
    "### 2. Cleaning and imputing data\n",
    "Given the size of SEGY files and the lack of computer power I decided to skip the data cleaning and imputation part. "
   ]
  },
  {
   "cell_type": "markdown",
   "metadata": {},
   "source": [
    "### 3. Data Engineering and augmentation\n",
    "Create new features from provided data."
   ]
  },
  {
   "cell_type": "code",
   "execution_count": 13,
   "metadata": {},
   "outputs": [
    {
     "data": {
      "text/html": [
       "<div>\n",
       "<style scoped>\n",
       "    .dataframe tbody tr th:only-of-type {\n",
       "        vertical-align: middle;\n",
       "    }\n",
       "\n",
       "    .dataframe tbody tr th {\n",
       "        vertical-align: top;\n",
       "    }\n",
       "\n",
       "    .dataframe thead th {\n",
       "        text-align: right;\n",
       "    }\n",
       "</style>\n",
       "<table border=\"1\" class=\"dataframe\">\n",
       "  <thead>\n",
       "    <tr style=\"text-align: right;\">\n",
       "      <th></th>\n",
       "      <th>well_enc</th>\n",
       "      <th>twt</th>\n",
       "      <th>rhob</th>\n",
       "      <th>vp</th>\n",
       "      <th>vs</th>\n",
       "      <th>formation</th>\n",
       "      <th>seis_near</th>\n",
       "      <th>seis_mid</th>\n",
       "      <th>seis_far</th>\n",
       "      <th>bg_vel</th>\n",
       "    </tr>\n",
       "    <tr>\n",
       "      <th>well_id</th>\n",
       "      <th></th>\n",
       "      <th></th>\n",
       "      <th></th>\n",
       "      <th></th>\n",
       "      <th></th>\n",
       "      <th></th>\n",
       "      <th></th>\n",
       "      <th></th>\n",
       "      <th></th>\n",
       "      <th></th>\n",
       "    </tr>\n",
       "  </thead>\n",
       "  <tbody>\n",
       "    <tr>\n",
       "      <th>well_01</th>\n",
       "      <td>0</td>\n",
       "      <td>2180.5</td>\n",
       "      <td>2.583062</td>\n",
       "      <td>4535.708695</td>\n",
       "      <td>2274.160045</td>\n",
       "      <td>2</td>\n",
       "      <td>-6749.200079</td>\n",
       "      <td>-4651.793791</td>\n",
       "      <td>-6010.635571</td>\n",
       "      <td>4819.458925</td>\n",
       "    </tr>\n",
       "    <tr>\n",
       "      <th>well_01</th>\n",
       "      <td>0</td>\n",
       "      <td>2181.0</td>\n",
       "      <td>2.590539</td>\n",
       "      <td>4677.809167</td>\n",
       "      <td>2297.976146</td>\n",
       "      <td>2</td>\n",
       "      <td>-4500.335374</td>\n",
       "      <td>-4519.011920</td>\n",
       "      <td>-6720.620094</td>\n",
       "      <td>4824.308579</td>\n",
       "    </tr>\n",
       "    <tr>\n",
       "      <th>well_01</th>\n",
       "      <td>0</td>\n",
       "      <td>2181.5</td>\n",
       "      <td>2.576754</td>\n",
       "      <td>4603.527613</td>\n",
       "      <td>2344.096821</td>\n",
       "      <td>2</td>\n",
       "      <td>-2231.685365</td>\n",
       "      <td>-4388.921156</td>\n",
       "      <td>-7496.044290</td>\n",
       "      <td>4829.038659</td>\n",
       "    </tr>\n",
       "    <tr>\n",
       "      <th>well_01</th>\n",
       "      <td>0</td>\n",
       "      <td>2182.0</td>\n",
       "      <td>2.575342</td>\n",
       "      <td>4599.998286</td>\n",
       "      <td>2301.914494</td>\n",
       "      <td>2</td>\n",
       "      <td>-30.777578</td>\n",
       "      <td>-4282.545106</td>\n",
       "      <td>-8325.698097</td>\n",
       "      <td>4833.651971</td>\n",
       "    </tr>\n",
       "    <tr>\n",
       "      <th>well_01</th>\n",
       "      <td>0</td>\n",
       "      <td>2182.5</td>\n",
       "      <td>2.569139</td>\n",
       "      <td>4419.725343</td>\n",
       "      <td>2204.455407</td>\n",
       "      <td>2</td>\n",
       "      <td>2014.860464</td>\n",
       "      <td>-4220.907376</td>\n",
       "      <td>-9198.371453</td>\n",
       "      <td>4838.151318</td>\n",
       "    </tr>\n",
       "  </tbody>\n",
       "</table>\n",
       "</div>"
      ],
      "text/plain": [
       "         well_enc     twt      rhob           vp           vs  formation  \\\n",
       "well_id                                                                    \n",
       "well_01         0  2180.5  2.583062  4535.708695  2274.160045          2   \n",
       "well_01         0  2181.0  2.590539  4677.809167  2297.976146          2   \n",
       "well_01         0  2181.5  2.576754  4603.527613  2344.096821          2   \n",
       "well_01         0  2182.0  2.575342  4599.998286  2301.914494          2   \n",
       "well_01         0  2182.5  2.569139  4419.725343  2204.455407          2   \n",
       "\n",
       "           seis_near     seis_mid     seis_far       bg_vel  \n",
       "well_id                                                      \n",
       "well_01 -6749.200079 -4651.793791 -6010.635571  4819.458925  \n",
       "well_01 -4500.335374 -4519.011920 -6720.620094  4824.308579  \n",
       "well_01 -2231.685365 -4388.921156 -7496.044290  4829.038659  \n",
       "well_01   -30.777578 -4282.545106 -8325.698097  4833.651971  \n",
       "well_01  2014.860464 -4220.907376 -9198.371453  4838.151318  "
      ]
     },
     "execution_count": 13,
     "metadata": {},
     "output_type": "execute_result"
    }
   ],
   "source": [
    "cleaned_data = pd.read_csv('../Datasets/Seismic Inversion/input_label_04-22_3.csv').set_index('well_id')\n",
    "cleaned_data.head()"
   ]
  },
  {
   "cell_type": "code",
   "execution_count": 14,
   "metadata": {},
   "outputs": [
    {
     "data": {
      "text/plain": [
       "(12019, 10)"
      ]
     },
     "execution_count": 14,
     "metadata": {},
     "output_type": "execute_result"
    }
   ],
   "source": [
    "cleaned_data.shape"
   ]
  },
  {
   "cell_type": "code",
   "execution_count": 23,
   "metadata": {},
   "outputs": [
    {
     "data": {
      "text/html": [
       "<div>\n",
       "<style scoped>\n",
       "    .dataframe tbody tr th:only-of-type {\n",
       "        vertical-align: middle;\n",
       "    }\n",
       "\n",
       "    .dataframe tbody tr th {\n",
       "        vertical-align: top;\n",
       "    }\n",
       "\n",
       "    .dataframe thead th {\n",
       "        text-align: right;\n",
       "    }\n",
       "</style>\n",
       "<table border=\"1\" class=\"dataframe\">\n",
       "  <thead>\n",
       "    <tr style=\"text-align: right;\">\n",
       "      <th></th>\n",
       "      <th>well_enc</th>\n",
       "      <th>twt</th>\n",
       "      <th>rhob</th>\n",
       "      <th>vp</th>\n",
       "      <th>vs</th>\n",
       "      <th>formation</th>\n",
       "      <th>seis_near</th>\n",
       "      <th>seis_mid</th>\n",
       "      <th>seis_far</th>\n",
       "      <th>bg_vel</th>\n",
       "    </tr>\n",
       "    <tr>\n",
       "      <th>well_id</th>\n",
       "      <th></th>\n",
       "      <th></th>\n",
       "      <th></th>\n",
       "      <th></th>\n",
       "      <th></th>\n",
       "      <th></th>\n",
       "      <th></th>\n",
       "      <th></th>\n",
       "      <th></th>\n",
       "      <th></th>\n",
       "    </tr>\n",
       "  </thead>\n",
       "  <tbody>\n",
       "    <tr>\n",
       "      <th>well_01</th>\n",
       "      <td>2311</td>\n",
       "      <td>2311</td>\n",
       "      <td>2311</td>\n",
       "      <td>2311</td>\n",
       "      <td>2311</td>\n",
       "      <td>2311</td>\n",
       "      <td>2311</td>\n",
       "      <td>2311</td>\n",
       "      <td>2311</td>\n",
       "      <td>2311</td>\n",
       "    </tr>\n",
       "    <tr>\n",
       "      <th>well_11</th>\n",
       "      <td>1688</td>\n",
       "      <td>1688</td>\n",
       "      <td>1688</td>\n",
       "      <td>1688</td>\n",
       "      <td>1688</td>\n",
       "      <td>1688</td>\n",
       "      <td>1688</td>\n",
       "      <td>1688</td>\n",
       "      <td>1688</td>\n",
       "      <td>1688</td>\n",
       "    </tr>\n",
       "    <tr>\n",
       "      <th>well_21</th>\n",
       "      <td>2549</td>\n",
       "      <td>2549</td>\n",
       "      <td>2549</td>\n",
       "      <td>2549</td>\n",
       "      <td>2549</td>\n",
       "      <td>2549</td>\n",
       "      <td>2549</td>\n",
       "      <td>2549</td>\n",
       "      <td>2549</td>\n",
       "      <td>2549</td>\n",
       "    </tr>\n",
       "    <tr>\n",
       "      <th>well_25</th>\n",
       "      <td>2031</td>\n",
       "      <td>2031</td>\n",
       "      <td>2031</td>\n",
       "      <td>2031</td>\n",
       "      <td>2031</td>\n",
       "      <td>2031</td>\n",
       "      <td>2031</td>\n",
       "      <td>2031</td>\n",
       "      <td>2031</td>\n",
       "      <td>2031</td>\n",
       "    </tr>\n",
       "    <tr>\n",
       "      <th>well_27</th>\n",
       "      <td>2776</td>\n",
       "      <td>2776</td>\n",
       "      <td>2776</td>\n",
       "      <td>2776</td>\n",
       "      <td>2776</td>\n",
       "      <td>2776</td>\n",
       "      <td>2776</td>\n",
       "      <td>2776</td>\n",
       "      <td>2776</td>\n",
       "      <td>2776</td>\n",
       "    </tr>\n",
       "    <tr>\n",
       "      <th>well_33</th>\n",
       "      <td>664</td>\n",
       "      <td>664</td>\n",
       "      <td>664</td>\n",
       "      <td>664</td>\n",
       "      <td>664</td>\n",
       "      <td>664</td>\n",
       "      <td>664</td>\n",
       "      <td>664</td>\n",
       "      <td>664</td>\n",
       "      <td>664</td>\n",
       "    </tr>\n",
       "  </tbody>\n",
       "</table>\n",
       "</div>"
      ],
      "text/plain": [
       "         well_enc   twt  rhob    vp    vs  formation  seis_near  seis_mid  \\\n",
       "well_id                                                                     \n",
       "well_01      2311  2311  2311  2311  2311       2311       2311      2311   \n",
       "well_11      1688  1688  1688  1688  1688       1688       1688      1688   \n",
       "well_21      2549  2549  2549  2549  2549       2549       2549      2549   \n",
       "well_25      2031  2031  2031  2031  2031       2031       2031      2031   \n",
       "well_27      2776  2776  2776  2776  2776       2776       2776      2776   \n",
       "well_33       664   664   664   664   664        664        664       664   \n",
       "\n",
       "         seis_far  bg_vel  \n",
       "well_id                    \n",
       "well_01      2311    2311  \n",
       "well_11      1688    1688  \n",
       "well_21      2549    2549  \n",
       "well_25      2031    2031  \n",
       "well_27      2776    2776  \n",
       "well_33       664     664  "
      ]
     },
     "execution_count": 23,
     "metadata": {},
     "output_type": "execute_result"
    }
   ],
   "source": [
    "cleaned_data.groupby('well_id').count()"
   ]
  },
  {
   "cell_type": "code",
   "execution_count": 29,
   "metadata": {},
   "outputs": [
    {
     "data": {
      "text/plain": [
       "array(['well_enc', 'twt', 'rhob', 'vp', 'vs', 'formation', 'seis_near',\n",
       "       'seis_mid', 'seis_far', 'bg_vel'], dtype=object)"
      ]
     },
     "execution_count": 29,
     "metadata": {},
     "output_type": "execute_result"
    }
   ],
   "source": [
    "cleaned_data.columns.values"
   ]
  },
  {
   "cell_type": "code",
   "execution_count": null,
   "metadata": {},
   "outputs": [],
   "source": []
  }
 ],
 "metadata": {
  "kernelspec": {
   "display_name": "Python 3.9.12 64-bit",
   "language": "python",
   "name": "python3"
  },
  "language_info": {
   "codemirror_mode": {
    "name": "ipython",
    "version": 3
   },
   "file_extension": ".py",
   "mimetype": "text/x-python",
   "name": "python",
   "nbconvert_exporter": "python",
   "pygments_lexer": "ipython3",
   "version": "3.9.12"
  },
  "orig_nbformat": 4,
  "vscode": {
   "interpreter": {
    "hash": "4ff442374353e7cd8d0b317b986b0b774c361b92b00d7ea43e4b1384f67d1c1b"
   }
  }
 },
 "nbformat": 4,
 "nbformat_minor": 2
}
