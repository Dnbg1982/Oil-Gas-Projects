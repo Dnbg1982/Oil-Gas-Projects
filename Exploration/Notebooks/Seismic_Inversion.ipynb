{
 "cells": [
  {
   "cell_type": "markdown",
   "metadata": {},
   "source": [
    "# SEISMIC INVERSION USING MACHINE LEARNING\n",
    "\n",
    "This notebook builds an end-to-end Long Short Term Memory Model using TensorFlow and XGBoost"
   ]
  },
  {
   "cell_type": "markdown",
   "metadata": {},
   "source": [
    "## Problem\n",
    "Geophysics in the Cloud was a competition with the goal to perform seismic inversion of rock attributes from seismic data with the use of well logs. "
   ]
  },
  {
   "cell_type": "markdown",
   "metadata": {},
   "source": [
    "## Data\n",
    "Data used in this project came from open data (3D Poseidon from Australia). Seismic acquisition in 2009 by ConoPhilips\n",
    "Data given:\n",
    "- Near, Mid, Far offset seismic\n",
    "- Migration Velocity\n",
    "- Sonic Logs\n",
    "- Gamma\n",
    "- Porosity\n",
    "- Resistivity Logs"
   ]
  },
  {
   "cell_type": "markdown",
   "metadata": {},
   "source": [
    "## Goal\n",
    "Performing inversions for P-Impedance, S-Impedance, and Density."
   ]
  },
  {
   "cell_type": "markdown",
   "metadata": {},
   "source": [
    "## Evaluation\n",
    "\n",
    "* MAE = (1/n) * Σ|yi – xi|\n",
    "* R2 = 1 - ${\\frac{RSS}{TSS}}$ \\\\\n",
    "R^2\t=\tcoefficient of determination \\\\\n",
    "RSS\t=\tsum of squares of residuals \\\\\n",
    "TSS\t=\ttotal sum of squares \\\\\n",
    "* ME: maximum residual error"
   ]
  },
  {
   "cell_type": "markdown",
   "metadata": {},
   "source": [
    "## Features\n",
    "\n",
    "1. Well logs with DTC (transit-time of compressional wave), DTS (transit-time of shear wave) and RHOB (bulk density) are used for training and evaluation. \n",
    "2. Data is from Two blind wells. \n",
    "3. The provided logs contain a large amount of missing data.\n",
    "\n",
    "Inversion Info:\n",
    "\n",
    "Equations: \\\\\n",
    "Zp = Vp${*}$Rhob \\\\\n",
    "Zs = Vs${*}$Rhob"
   ]
  },
  {
   "cell_type": "markdown",
   "metadata": {},
   "source": [
    "### 1. Get workspace ready"
   ]
  },
  {
   "cell_type": "code",
   "execution_count": 2,
   "metadata": {},
   "outputs": [],
   "source": [
    "from time import time\n",
    "import pandas as pd\n",
    "import numpy as np\n",
    "import matplotlib.pyplot as plt\n",
    "import warnings\n",
    "warnings.filterwarnings('ignore')\n",
    "plt.style.use(\"seaborn\")\n",
    "\n",
    "# Scaler\n",
    "from sklearn.preprocessing import RobustScaler\n",
    "\n",
    "# Baseline\n",
    "from sklearn.metrics import mean_absolute_error, r2_score, max_error\n",
    "from xgboost import XGBRegressor, plot_importance\n",
    "\n",
    "# Models\n",
    "from tensorflow.keras.models import Sequential\n",
    "from tensorflow.keras.layers import Activation, Dropout, Dense, LSTM\n",
    "from keras.layers.convolutional import Conv1D, MaxPooling1D, AveragePooling1D\n",
    "from tensorflow.keras import layers\n",
    "from tensorflow import keras\n",
    "import tensorflow.keras as k"
   ]
  },
  {
   "cell_type": "markdown",
   "metadata": {},
   "source": [
    "### 2. Analizing and getting data Ready"
   ]
  },
  {
   "cell_type": "code",
   "execution_count": null,
   "metadata": {},
   "outputs": [],
   "source": []
  }
 ],
 "metadata": {
  "kernelspec": {
   "display_name": "Python 3.9.12 64-bit",
   "language": "python",
   "name": "python3"
  },
  "language_info": {
   "codemirror_mode": {
    "name": "ipython",
    "version": 3
   },
   "file_extension": ".py",
   "mimetype": "text/x-python",
   "name": "python",
   "nbconvert_exporter": "python",
   "pygments_lexer": "ipython3",
   "version": "3.9.12"
  },
  "orig_nbformat": 4,
  "vscode": {
   "interpreter": {
    "hash": "4ff442374353e7cd8d0b317b986b0b774c361b92b00d7ea43e4b1384f67d1c1b"
   }
  }
 },
 "nbformat": 4,
 "nbformat_minor": 2
}
