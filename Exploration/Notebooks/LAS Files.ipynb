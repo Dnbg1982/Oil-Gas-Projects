{
 "cells": [
  {
   "cell_type": "markdown",
   "metadata": {},
   "source": [
    "# FORCE 2020 LITHOLOGY CLASSIFICATION COMPETITION\n",
    "WELL - input well \n",
    "DEPTH_MD - non-corrected measured depth \n",
    "FORCE_2020_LITHOFACIES_LITHOLOGY - input lithology assumed to reflect the GeoScout mudrock interpretation  \n",
    "FORCE_2020_LITHOFACIES_CONFIDENCE - uncertainty placed on the mudrock interpretation  \n",
    "\n",
    "CALI - borehole measurement expect to be directly related to BS  \n",
    "BS - borehole size  \n",
    "GR - predominately correlates with lithology, minor linear relationship with depth  \n",
    "\n",
    "DTC - 304804/x gives velocity in m/s, expect to have linear relationship with depth below mudline  \n",
    "DTS - 304804/x gives velocity which should have a linear relationship with Vp  \n",
    "NPHI - neutron porosity has a strong lithology correlation, bound water in shales results with high apparent porosity  \n",
    "RHOB - density measurement, requires good contact with well edge meaning values can be bad when CALI-BS is large  \n",
    "\n",
    "DRHO - Matrix density using for conversion from density porosity to density.  \n",
    "RSHA - strongly affected by mud size and salinity  \n",
    "RMED - logorithmic relationship with lithology and porosity, affected by mud contrast with formation salinity  \n",
    "RDEP - similar to RMED, RDEP-RMED useful indication of hydrocarbons  \n",
    "\n",
    "SP - relationship with pore fluids and mud salinity but also affected by lithology and hole condition  \n",
    "PEF - relationship with lithology but also mud/wellbore condition  \n",
    "ROP - penetration rate, correlation to formation hardness (density & porosity) and bit wear (linear with time)\n",
    "\n",
    "Group - corresponds to a general age  \n",
    "Formation - corresponds to lithology and a more specific age than group  \n",
    "Mudweight - correlation with depth and formation pressure  \n",
    "X_LOC, Y_LOC - spacial location can be used to generate 3D distribution of age with depth.\n",
    "Z_LOC - the TVD below either the KB or the SL.\n",
    "\n",
    "DCAL, SGR - Logs used as part of creating other logs  \n",
    "RMIC, ROPA, RXO - Logs that contain drilling engineering information  \n",
    "\n",
    "[Wikipedia](https://en.wikipedia.org/wiki/Petrophysics) description of petrophysics   \n",
    "Canadian Well Logging Society [CWLS](https://www.spwla.org/SPWLA/Technical/Software/CANADIAN_WELL_LOGGING_SOCIETY.aspx)  \n",
    "[CRAIN] (https://www.spec2000.net/index.htm) good resource for log properties  "
   ]
  },
  {
   "cell_type": "markdown",
   "metadata": {},
   "source": [
    "## 3. Import Libraries"
   ]
  },
  {
   "cell_type": "code",
   "execution_count": 1,
   "metadata": {},
   "outputs": [],
   "source": [
    "import pandas as pd\n",
    "import numpy as np\n",
    "import matplotlib.pyplot as plt\n",
    "\n",
    "import lasio as ls\n",
    "from welly import Project, Well\n",
    "\n",
    "from pandas_profiling import ProfileReport\n",
    "import ipywidgets as widgets\n",
    "import missingno as msno\n",
    "\n",
    "from xgboost import XGBClassifier, plot_importance, plot_tree\n",
    "from matplotlib.pyplot import rcParams"
   ]
  },
  {
   "cell_type": "markdown",
   "metadata": {},
   "source": [
    "## 4. Exploratory Data Analysis"
   ]
  },
  {
   "cell_type": "markdown",
   "metadata": {},
   "source": [
    "### Open and review LAS files"
   ]
  },
  {
   "cell_type": "code",
   "execution_count": 2,
   "metadata": {},
   "outputs": [],
   "source": [
    "# Open the LAS file\n",
    "data_7 = ls.read(r'D:\\Datasets\\las_files_Lithostrat_data\\7_1-1.las')"
   ]
  },
  {
   "cell_type": "code",
   "execution_count": 3,
   "metadata": {},
   "outputs": [
    {
     "data": {
      "text/plain": [
       "dict_keys(['Version', 'Well', 'Curves', 'Parameter', 'Other'])"
      ]
     },
     "execution_count": 3,
     "metadata": {},
     "output_type": "execute_result"
    }
   ],
   "source": [
    "# Get the data sections\n",
    "data_7.sections.keys()"
   ]
  },
  {
   "cell_type": "code",
   "execution_count": 4,
   "metadata": {},
   "outputs": [
    {
     "name": "stdout",
     "output_type": "stream",
     "text": [
      " (STRT): 82.600799561\n",
      " (STOP): 2815.7912598\n",
      " (STEP): 0.152\n",
      " (NULL): -999.25\n",
      "COMPANY (COMP): \n",
      "WELL (WELL): 7/1-1\n",
      "FIELD (FLD): \n",
      "LOCATION (LOC): \n",
      "SERVICE COMPANY (SRVC): \n",
      "ss} (DATE): 2020-08-09 20:02:09   : Log Export Date {yyyy-MM-dd HH:mm\n",
      "PROVINCE (PROV): \n",
      "UNIQUE WELL ID (UWI): 7/1-1\n",
      "API NUMBER (API): \n"
     ]
    }
   ],
   "source": [
    "# Get the data from the section\n",
    "for i in data_7.sections['Well']:\n",
    "    print(f'{i.descr} ({i.mnemonic}): {i.value}')"
   ]
  },
  {
   "cell_type": "code",
   "execution_count": 5,
   "metadata": {},
   "outputs": [
    {
     "name": "stdout",
     "output_type": "stream",
     "text": [
      "DEPTH, (DEPT)\n",
      "FORCE_2020_LITHOFACIES_CONFIDENCE, (FORCE_2020_LITHOFACIES_CONFIDENCE)\n",
      "FORCE_2020_LITHOFACIES_LITHOLOGY, (FORCE_2020_LITHOFACIES_LITHOLOGY)\n",
      "CALI, (CALI)\n",
      "BS, (BS)\n",
      "DCAL, (DCAL)\n",
      "MUDWEIGHT, (MUDWEIGHT)\n",
      "ROP, (ROP)\n",
      "RDEP, (RDEP)\n",
      "RSHA, (RSHA)\n",
      "RMED, (RMED)\n",
      "SP, (SP)\n",
      "DTC, (DTC)\n",
      "NPHI, (NPHI)\n",
      "GR, (GR)\n",
      "RHOB, (RHOB)\n",
      "DRHO, (DRHO)\n",
      "DEPTH_MD, (DEPTH_MD)\n",
      "x_loc, (X_LOC)\n",
      "y_loc, (Y_LOC)\n",
      "z_loc, (Z_LOC)\n",
      "Curves: 21\n"
     ]
    }
   ],
   "source": [
    "# Get the data from the curves\n",
    "for count, c in enumerate(data_7.curves):\n",
    "    print(f'{c.descr}, ({c.mnemonic})')\n",
    "print(f'Curves: {count+1}')"
   ]
  },
  {
   "cell_type": "code",
   "execution_count": 6,
   "metadata": {},
   "outputs": [
    {
     "name": "stdout",
     "output_type": "stream",
     "text": [
      "<class 'pandas.core.frame.DataFrame'>\n",
      "Float64Index: 17982 entries, 82.600799561 to 2815.7127996\n",
      "Data columns (total 20 columns):\n",
      " #   Column                             Non-Null Count  Dtype  \n",
      "---  ------                             --------------  -----  \n",
      " 0   FORCE_2020_LITHOFACIES_CONFIDENCE  16241 non-null  float64\n",
      " 1   FORCE_2020_LITHOFACIES_LITHOLOGY   16242 non-null  float64\n",
      " 2   CALI                               16270 non-null  float64\n",
      " 3   BS                                 17947 non-null  float64\n",
      " 4   DCAL                               16272 non-null  float64\n",
      " 5   MUDWEIGHT                          15724 non-null  float64\n",
      " 6   ROP                                17343 non-null  float64\n",
      " 7   RDEP                               16121 non-null  float64\n",
      " 8   RSHA                               16115 non-null  float64\n",
      " 9   RMED                               16152 non-null  float64\n",
      " 10  SP                                 16151 non-null  float64\n",
      " 11  DTC                                11396 non-null  float64\n",
      " 12  NPHI                               4404 non-null   float64\n",
      " 13  GR                                 16242 non-null  float64\n",
      " 14  RHOB                               4397 non-null   float64\n",
      " 15  DRHO                               4443 non-null   float64\n",
      " 16  DEPTH_MD                           16121 non-null  float64\n",
      " 17  X_LOC                              16121 non-null  float64\n",
      " 18  Y_LOC                              16121 non-null  float64\n",
      " 19  Z_LOC                              16121 non-null  float64\n",
      "dtypes: float64(20)\n",
      "memory usage: 2.9 MB\n"
     ]
    }
   ],
   "source": [
    "# Transform the data to a dataframe\n",
    "well_7 = data_7.df()\n",
    "well_7.info()"
   ]
  },
  {
   "cell_type": "code",
   "execution_count": 7,
   "metadata": {},
   "outputs": [
    {
     "data": {
      "image/png": "[encoded data removed]",
      "text/plain": [
       "<Figure size 864x288 with 1 Axes>"
      ]
     },
     "metadata": {
      "needs_background": "light"
     },
     "output_type": "display_data"
    }
   ],
   "source": [
    "# Plot the data for instance Gamma Ray\n",
    "well_7.plot(y='GR', figsize=(12, 4));"
   ]
  },
  {
   "cell_type": "markdown",
   "metadata": {},
   "source": [
    "### Explore all LAS data files using WELLY"
   ]
  },
  {
   "cell_type": "code",
   "execution_count": 8,
   "metadata": {},
   "outputs": [
    {
     "name": "stderr",
     "output_type": "stream",
     "text": [
      "118it [04:22,  2.23s/it]\n"
     ]
    }
   ],
   "source": [
    "# Open all files from a folder\n",
    "wells = Project.from_las('D:\\Datasets\\las_files_Lithostrat_data\\*.las', index=0)"
   ]
  },
  {
   "cell_type": "code",
   "execution_count": 9,
   "metadata": {},
   "outputs": [
    {
     "data": {
      "text/plain": [
       "(1580837, 26)"
      ]
     },
     "execution_count": 9,
     "metadata": {},
     "output_type": "execute_result"
    }
   ],
   "source": [
    "# Covert the data to a dataframe\n",
    "wells_df = wells.df()\n",
    "wells_df.shape"
   ]
  },
  {
   "cell_type": "code",
   "execution_count": 10,
   "metadata": {},
   "outputs": [
    {
     "name": "stdout",
     "output_type": "stream",
     "text": [
      "<class 'pandas.core.frame.DataFrame'>\n",
      "MultiIndex: 1580837 entries, ('15/9-13', 25.0) to ('7/1-2 S', 3174.936400000855)\n",
      "Data columns (total 26 columns):\n",
      " #   Column                             Non-Null Count    Dtype  \n",
      "---  ------                             --------------    -----  \n",
      " 0   FORCE_2020_LITHOFACIES_CONFIDENCE  972051 non-null   float64\n",
      " 1   FORCE_2020_LITHOFACIES_LITHOLOGY   962396 non-null   float64\n",
      " 2   CALI                               992628 non-null   float64\n",
      " 3   MUDWEIGHT                          272280 non-null   float64\n",
      " 4   ROP                                806328 non-null   float64\n",
      " 5   RDEP                               1518996 non-null  float64\n",
      " 6   RSHA                               560519 non-null   float64\n",
      " 7   RMED                               1413566 non-null  float64\n",
      " 8   RXO                                263411 non-null   float64\n",
      " 9   SP                                 853321 non-null   float64\n",
      " 10  DTC                                1215227 non-null  float64\n",
      " 11  NPHI                               693807 non-null   float64\n",
      " 12  PEF                                636991 non-null   float64\n",
      " 13  GR                                 1548768 non-null  float64\n",
      " 14  RHOB                               991775 non-null   float64\n",
      " 15  DRHO                               936881 non-null   float64\n",
      " 16  DEPTH_MD                           1521664 non-null  float64\n",
      " 17  X_LOC                              1521664 non-null  float64\n",
      " 18  Y_LOC                              1521664 non-null  float64\n",
      " 19  Z_LOC                              1521664 non-null  float64\n",
      " 20  BS                                 970212 non-null   float64\n",
      " 21  DCAL                               252541 non-null   float64\n",
      " 22  SGR                                45849 non-null    float64\n",
      " 23  ROPA                               485153 non-null   float64\n",
      " 24  DTS                                261371 non-null   float64\n",
      " 25  RMIC                               170775 non-null   float64\n",
      "dtypes: float64(26)\n",
      "memory usage: 365.1+ MB\n"
     ]
    }
   ],
   "source": [
    "# Explore the data\n",
    "wells_df.info()"
   ]
  },
  {
   "cell_type": "code",
   "execution_count": 11,
   "metadata": {},
   "outputs": [],
   "source": [
    "# Target variable can't be NaN, so we need to drop the rows with NaN\n",
    "wells_df.dropna(subset=['FORCE_2020_LITHOFACIES_LITHOLOGY'], inplace=True)"
   ]
  },
  {
   "cell_type": "code",
   "execution_count": 12,
   "metadata": {},
   "outputs": [
    {
     "data": {
      "text/plain": [
       "<AxesSubplot:>"
      ]
     },
     "execution_count": 12,
     "metadata": {},
     "output_type": "execute_result"
    },
    {
     "data": {
      "image/png": "[encoded data removed]",
      "text/plain": [
       "<Figure size 1800x720 with 2 Axes>"
      ]
     },
     "metadata": {
      "needs_background": "light"
     },
     "output_type": "display_data"
    }
   ],
   "source": [
    "# Plot missing values of the data\n",
    "msno.matrix(wells_df)"
   ]
  },
  {
   "cell_type": "markdown",
   "metadata": {},
   "source": [
    "### Explore data given for the competition"
   ]
  },
  {
   "cell_type": "code",
   "execution_count": 13,
   "metadata": {},
   "outputs": [
    {
     "data": {
      "text/html": [
       "<div>\n",
       "<style scoped>\n",
       "    .dataframe tbody tr th:only-of-type {\n",
       "        vertical-align: middle;\n",
       "    }\n",
       "\n",
       "    .dataframe tbody tr th {\n",
       "        vertical-align: top;\n",
       "    }\n",
       "\n",
       "    .dataframe thead th {\n",
       "        text-align: right;\n",
       "    }\n",
       "</style>\n",
       "<table border=\"1\" class=\"dataframe\">\n",
       "  <thead>\n",
       "    <tr style=\"text-align: right;\">\n",
       "      <th></th>\n",
       "      <th>WELL</th>\n",
       "      <th>DEPTH_MD</th>\n",
       "      <th>X_LOC</th>\n",
       "      <th>Y_LOC</th>\n",
       "      <th>Z_LOC</th>\n",
       "      <th>GROUP</th>\n",
       "      <th>FORMATION</th>\n",
       "      <th>CALI</th>\n",
       "      <th>RSHA</th>\n",
       "      <th>RMED</th>\n",
       "      <th>...</th>\n",
       "      <th>ROP</th>\n",
       "      <th>DTS</th>\n",
       "      <th>DCAL</th>\n",
       "      <th>DRHO</th>\n",
       "      <th>MUDWEIGHT</th>\n",
       "      <th>RMIC</th>\n",
       "      <th>ROPA</th>\n",
       "      <th>RXO</th>\n",
       "      <th>FORCE_2020_LITHOFACIES_LITHOLOGY</th>\n",
       "      <th>FORCE_2020_LITHOFACIES_CONFIDENCE</th>\n",
       "    </tr>\n",
       "  </thead>\n",
       "  <tbody>\n",
       "    <tr>\n",
       "      <th>0</th>\n",
       "      <td>15/9-13</td>\n",
       "      <td>494.528</td>\n",
       "      <td>437641.96875</td>\n",
       "      <td>6470972.5</td>\n",
       "      <td>-469.5018311</td>\n",
       "      <td>NORDLAND GP.</td>\n",
       "      <td>NaN</td>\n",
       "      <td>19.480834961</td>\n",
       "      <td>NaN</td>\n",
       "      <td>1.6114097834</td>\n",
       "      <td>...</td>\n",
       "      <td>34.636409760</td>\n",
       "      <td>NaN</td>\n",
       "      <td>NaN</td>\n",
       "      <td>-0.574927628</td>\n",
       "      <td>NaN</td>\n",
       "      <td>NaN</td>\n",
       "      <td>NaN</td>\n",
       "      <td>NaN</td>\n",
       "      <td>65000</td>\n",
       "      <td>1.0</td>\n",
       "    </tr>\n",
       "    <tr>\n",
       "      <th>1</th>\n",
       "      <td>15/9-13</td>\n",
       "      <td>494.680</td>\n",
       "      <td>437641.96875</td>\n",
       "      <td>6470972.5</td>\n",
       "      <td>-469.6538086</td>\n",
       "      <td>NORDLAND GP.</td>\n",
       "      <td>NaN</td>\n",
       "      <td>19.468799591</td>\n",
       "      <td>NaN</td>\n",
       "      <td>1.6180702448</td>\n",
       "      <td>...</td>\n",
       "      <td>34.636409760</td>\n",
       "      <td>NaN</td>\n",
       "      <td>NaN</td>\n",
       "      <td>-0.570188403</td>\n",
       "      <td>NaN</td>\n",
       "      <td>NaN</td>\n",
       "      <td>NaN</td>\n",
       "      <td>NaN</td>\n",
       "      <td>65000</td>\n",
       "      <td>1.0</td>\n",
       "    </tr>\n",
       "    <tr>\n",
       "      <th>2</th>\n",
       "      <td>15/9-13</td>\n",
       "      <td>494.832</td>\n",
       "      <td>437641.96875</td>\n",
       "      <td>6470972.5</td>\n",
       "      <td>-469.8057861</td>\n",
       "      <td>NORDLAND GP.</td>\n",
       "      <td>NaN</td>\n",
       "      <td>19.468799591</td>\n",
       "      <td>NaN</td>\n",
       "      <td>1.6264585257</td>\n",
       "      <td>...</td>\n",
       "      <td>34.779556274</td>\n",
       "      <td>NaN</td>\n",
       "      <td>NaN</td>\n",
       "      <td>-0.574245155</td>\n",
       "      <td>NaN</td>\n",
       "      <td>NaN</td>\n",
       "      <td>NaN</td>\n",
       "      <td>NaN</td>\n",
       "      <td>65000</td>\n",
       "      <td>1.0</td>\n",
       "    </tr>\n",
       "    <tr>\n",
       "      <th>3</th>\n",
       "      <td>15/9-13</td>\n",
       "      <td>494.984</td>\n",
       "      <td>437641.96875</td>\n",
       "      <td>6470972.5</td>\n",
       "      <td>-469.9577942</td>\n",
       "      <td>NORDLAND GP.</td>\n",
       "      <td>NaN</td>\n",
       "      <td>19.459281921</td>\n",
       "      <td>NaN</td>\n",
       "      <td>1.6215940714</td>\n",
       "      <td>...</td>\n",
       "      <td>39.965164185</td>\n",
       "      <td>NaN</td>\n",
       "      <td>NaN</td>\n",
       "      <td>-0.586315274</td>\n",
       "      <td>NaN</td>\n",
       "      <td>NaN</td>\n",
       "      <td>NaN</td>\n",
       "      <td>NaN</td>\n",
       "      <td>65000</td>\n",
       "      <td>1.0</td>\n",
       "    </tr>\n",
       "    <tr>\n",
       "      <th>4</th>\n",
       "      <td>15/9-13</td>\n",
       "      <td>495.136</td>\n",
       "      <td>437641.96875</td>\n",
       "      <td>6470972.5</td>\n",
       "      <td>-470.1097717</td>\n",
       "      <td>NORDLAND GP.</td>\n",
       "      <td>NaN</td>\n",
       "      <td>19.453100204</td>\n",
       "      <td>NaN</td>\n",
       "      <td>1.6026790142</td>\n",
       "      <td>...</td>\n",
       "      <td>57.483764648</td>\n",
       "      <td>NaN</td>\n",
       "      <td>NaN</td>\n",
       "      <td>-0.597913623</td>\n",
       "      <td>NaN</td>\n",
       "      <td>NaN</td>\n",
       "      <td>NaN</td>\n",
       "      <td>NaN</td>\n",
       "      <td>65000</td>\n",
       "      <td>1.0</td>\n",
       "    </tr>\n",
       "  </tbody>\n",
       "</table>\n",
       "<p>5 rows × 29 columns</p>\n",
       "</div>"
      ],
      "text/plain": [
       "      WELL  DEPTH_MD         X_LOC      Y_LOC        Z_LOC         GROUP  \\\n",
       "0  15/9-13   494.528  437641.96875  6470972.5 -469.5018311  NORDLAND GP.   \n",
       "1  15/9-13   494.680  437641.96875  6470972.5 -469.6538086  NORDLAND GP.   \n",
       "2  15/9-13   494.832  437641.96875  6470972.5 -469.8057861  NORDLAND GP.   \n",
       "3  15/9-13   494.984  437641.96875  6470972.5 -469.9577942  NORDLAND GP.   \n",
       "4  15/9-13   495.136  437641.96875  6470972.5 -470.1097717  NORDLAND GP.   \n",
       "\n",
       "  FORMATION          CALI  RSHA          RMED  ...           ROP  DTS  DCAL  \\\n",
       "0       NaN  19.480834961   NaN  1.6114097834  ...  34.636409760  NaN   NaN   \n",
       "1       NaN  19.468799591   NaN  1.6180702448  ...  34.636409760  NaN   NaN   \n",
       "2       NaN  19.468799591   NaN  1.6264585257  ...  34.779556274  NaN   NaN   \n",
       "3       NaN  19.459281921   NaN  1.6215940714  ...  39.965164185  NaN   NaN   \n",
       "4       NaN  19.453100204   NaN  1.6026790142  ...  57.483764648  NaN   NaN   \n",
       "\n",
       "          DRHO  MUDWEIGHT  RMIC  ROPA  RXO  FORCE_2020_LITHOFACIES_LITHOLOGY  \\\n",
       "0 -0.574927628        NaN   NaN   NaN  NaN                             65000   \n",
       "1 -0.570188403        NaN   NaN   NaN  NaN                             65000   \n",
       "2 -0.574245155        NaN   NaN   NaN  NaN                             65000   \n",
       "3 -0.586315274        NaN   NaN   NaN  NaN                             65000   \n",
       "4 -0.597913623        NaN   NaN   NaN  NaN                             65000   \n",
       "\n",
       "   FORCE_2020_LITHOFACIES_CONFIDENCE  \n",
       "0                                1.0  \n",
       "1                                1.0  \n",
       "2                                1.0  \n",
       "3                                1.0  \n",
       "4                                1.0  \n",
       "\n",
       "[5 rows x 29 columns]"
      ]
     },
     "execution_count": 13,
     "metadata": {},
     "output_type": "execute_result"
    }
   ],
   "source": [
    "# Read data from the directory\n",
    "data = pd.read_csv('D:\\Datasets\\Force2020trainingData.csv', delimiter=';')\n",
    "data.head()"
   ]
  },
  {
   "cell_type": "code",
   "execution_count": 14,
   "metadata": {},
   "outputs": [],
   "source": [
    "# Create a report of the data\n",
    "report = ProfileReport(data)\n",
    "# report"
   ]
  },
  {
   "cell_type": "code",
   "execution_count": 15,
   "metadata": {},
   "outputs": [
    {
     "data": {
      "text/plain": [
       "WELL                                       0\n",
       "DEPTH_MD                                   0\n",
       "X_LOC                                  10775\n",
       "Y_LOC                                  10775\n",
       "Z_LOC                                  10775\n",
       "GROUP                                   1278\n",
       "FORMATION                             136994\n",
       "CALI                                   87877\n",
       "RSHA                                  539861\n",
       "RMED                                   38993\n",
       "RDEP                                   11015\n",
       "RHOB                                  161269\n",
       "GR                                         0\n",
       "SGR                                  1101158\n",
       "NPHI                                  405102\n",
       "PEF                                   498819\n",
       "DTC                                    80863\n",
       "SP                                    306264\n",
       "BS                                    487854\n",
       "ROP                                   635440\n",
       "DTS                                   995898\n",
       "DCAL                                  871678\n",
       "DRHO                                  182654\n",
       "MUDWEIGHT                             854360\n",
       "RMIC                                  994351\n",
       "ROPA                                  978186\n",
       "RXO                                   843084\n",
       "FORCE_2020_LITHOFACIES_LITHOLOGY           0\n",
       "FORCE_2020_LITHOFACIES_CONFIDENCE        179\n",
       "dtype: int64"
      ]
     },
     "execution_count": 15,
     "metadata": {},
     "output_type": "execute_result"
    }
   ],
   "source": [
    "data.isnull().sum()"
   ]
  },
  {
   "cell_type": "code",
   "execution_count": 16,
   "metadata": {},
   "outputs": [],
   "source": [
    "data_h_t = pd.read_csv('D:\\Datasets\\hidden_test.csv', delimiter=';')\n",
    "data_t_f = pd.read_csv('D:\\Datasets\\leaderboard_test_features.csv', delimiter=';')\n",
    "data_t_t = pd.read_csv('D:\\Datasets\\leaderboard_test_target.csv', delimiter=';')"
   ]
  },
  {
   "cell_type": "code",
   "execution_count": 17,
   "metadata": {},
   "outputs": [
    {
     "data": {
      "text/plain": [
       "((1170511, 29), (122397, 29), (136786, 27), (136786, 3))"
      ]
     },
     "execution_count": 17,
     "metadata": {},
     "output_type": "execute_result"
    }
   ],
   "source": [
    "# Check shape of the datasets\n",
    "data.shape, data_h_t.shape, data_t_f.shape, data_t_t.shape"
   ]
  },
  {
   "cell_type": "code",
   "execution_count": 18,
   "metadata": {},
   "outputs": [
    {
     "data": {
      "text/plain": [
       "Index(['FORCE_2020_LITHOFACIES_LITHOLOGY', 'FORCE_2020_LITHOFACIES_CONFIDENCE'], dtype='object')"
      ]
     },
     "execution_count": 18,
     "metadata": {},
     "output_type": "execute_result"
    }
   ],
   "source": [
    "# Test_features dataset has no target features, so this will be the validation dataset \n",
    "data.columns[~data.columns.isin(data_t_f.columns)]"
   ]
  },
  {
   "cell_type": "code",
   "execution_count": 19,
   "metadata": {},
   "outputs": [],
   "source": [
    "# Label data with labels provided by competition\n",
    "labels = ['Shale', 'Sandstone', 'SS-SH', 'Limestone', 'Marl', 'Tuff', 'Chalk', 'Halite', 'Coal', 'Dolomite', 'Anhydrite', 'Basement']\n",
    "litho_n = {(data['FORCE_2020_LITHOFACIES_LITHOLOGY'].unique())[i]:labels[i] for i in range(len(data['FORCE_2020_LITHOFACIES_LITHOLOGY'].unique()))}\n",
    "data['LITHO_NAMES'] = data['FORCE_2020_LITHOFACIES_LITHOLOGY'].map(litho_n)"
   ]
  },
  {
   "cell_type": "code",
   "execution_count": 20,
   "metadata": {},
   "outputs": [
    {
     "data": {
      "text/html": [
       "<div>\n",
       "<style scoped>\n",
       "    .dataframe tbody tr th:only-of-type {\n",
       "        vertical-align: middle;\n",
       "    }\n",
       "\n",
       "    .dataframe tbody tr th {\n",
       "        vertical-align: top;\n",
       "    }\n",
       "\n",
       "    .dataframe thead th {\n",
       "        text-align: right;\n",
       "    }\n",
       "</style>\n",
       "<table border=\"1\" class=\"dataframe\">\n",
       "  <thead>\n",
       "    <tr style=\"text-align: right;\">\n",
       "      <th></th>\n",
       "      <th>WELL</th>\n",
       "      <th>DEPTH_MD</th>\n",
       "      <th>X_LOC</th>\n",
       "      <th>Y_LOC</th>\n",
       "      <th>Z_LOC</th>\n",
       "      <th>GROUP</th>\n",
       "      <th>FORMATION</th>\n",
       "      <th>CALI</th>\n",
       "      <th>RSHA</th>\n",
       "      <th>RMED</th>\n",
       "      <th>...</th>\n",
       "      <th>DCAL</th>\n",
       "      <th>DRHO</th>\n",
       "      <th>MUDWEIGHT</th>\n",
       "      <th>RMIC</th>\n",
       "      <th>ROPA</th>\n",
       "      <th>RXO</th>\n",
       "      <th>FORCE_2020_LITHOFACIES_LITHOLOGY</th>\n",
       "      <th>FORCE_2020_LITHOFACIES_CONFIDENCE</th>\n",
       "      <th>LITHO_NAMES</th>\n",
       "      <th>LITHO_NUM</th>\n",
       "    </tr>\n",
       "  </thead>\n",
       "  <tbody>\n",
       "    <tr>\n",
       "      <th>0</th>\n",
       "      <td>15/9-13</td>\n",
       "      <td>494.528</td>\n",
       "      <td>437641.96875</td>\n",
       "      <td>6470972.5</td>\n",
       "      <td>-469.5018311</td>\n",
       "      <td>NORDLAND GP.</td>\n",
       "      <td>NaN</td>\n",
       "      <td>19.480834961</td>\n",
       "      <td>NaN</td>\n",
       "      <td>1.6114097834</td>\n",
       "      <td>...</td>\n",
       "      <td>NaN</td>\n",
       "      <td>-0.574927628</td>\n",
       "      <td>NaN</td>\n",
       "      <td>NaN</td>\n",
       "      <td>NaN</td>\n",
       "      <td>NaN</td>\n",
       "      <td>65000</td>\n",
       "      <td>1.0</td>\n",
       "      <td>Shale</td>\n",
       "      <td>1</td>\n",
       "    </tr>\n",
       "    <tr>\n",
       "      <th>1</th>\n",
       "      <td>15/9-13</td>\n",
       "      <td>494.680</td>\n",
       "      <td>437641.96875</td>\n",
       "      <td>6470972.5</td>\n",
       "      <td>-469.6538086</td>\n",
       "      <td>NORDLAND GP.</td>\n",
       "      <td>NaN</td>\n",
       "      <td>19.468799591</td>\n",
       "      <td>NaN</td>\n",
       "      <td>1.6180702448</td>\n",
       "      <td>...</td>\n",
       "      <td>NaN</td>\n",
       "      <td>-0.570188403</td>\n",
       "      <td>NaN</td>\n",
       "      <td>NaN</td>\n",
       "      <td>NaN</td>\n",
       "      <td>NaN</td>\n",
       "      <td>65000</td>\n",
       "      <td>1.0</td>\n",
       "      <td>Shale</td>\n",
       "      <td>1</td>\n",
       "    </tr>\n",
       "    <tr>\n",
       "      <th>2</th>\n",
       "      <td>15/9-13</td>\n",
       "      <td>494.832</td>\n",
       "      <td>437641.96875</td>\n",
       "      <td>6470972.5</td>\n",
       "      <td>-469.8057861</td>\n",
       "      <td>NORDLAND GP.</td>\n",
       "      <td>NaN</td>\n",
       "      <td>19.468799591</td>\n",
       "      <td>NaN</td>\n",
       "      <td>1.6264585257</td>\n",
       "      <td>...</td>\n",
       "      <td>NaN</td>\n",
       "      <td>-0.574245155</td>\n",
       "      <td>NaN</td>\n",
       "      <td>NaN</td>\n",
       "      <td>NaN</td>\n",
       "      <td>NaN</td>\n",
       "      <td>65000</td>\n",
       "      <td>1.0</td>\n",
       "      <td>Shale</td>\n",
       "      <td>1</td>\n",
       "    </tr>\n",
       "    <tr>\n",
       "      <th>3</th>\n",
       "      <td>15/9-13</td>\n",
       "      <td>494.984</td>\n",
       "      <td>437641.96875</td>\n",
       "      <td>6470972.5</td>\n",
       "      <td>-469.9577942</td>\n",
       "      <td>NORDLAND GP.</td>\n",
       "      <td>NaN</td>\n",
       "      <td>19.459281921</td>\n",
       "      <td>NaN</td>\n",
       "      <td>1.6215940714</td>\n",
       "      <td>...</td>\n",
       "      <td>NaN</td>\n",
       "      <td>-0.586315274</td>\n",
       "      <td>NaN</td>\n",
       "      <td>NaN</td>\n",
       "      <td>NaN</td>\n",
       "      <td>NaN</td>\n",
       "      <td>65000</td>\n",
       "      <td>1.0</td>\n",
       "      <td>Shale</td>\n",
       "      <td>1</td>\n",
       "    </tr>\n",
       "    <tr>\n",
       "      <th>4</th>\n",
       "      <td>15/9-13</td>\n",
       "      <td>495.136</td>\n",
       "      <td>437641.96875</td>\n",
       "      <td>6470972.5</td>\n",
       "      <td>-470.1097717</td>\n",
       "      <td>NORDLAND GP.</td>\n",
       "      <td>NaN</td>\n",
       "      <td>19.453100204</td>\n",
       "      <td>NaN</td>\n",
       "      <td>1.6026790142</td>\n",
       "      <td>...</td>\n",
       "      <td>NaN</td>\n",
       "      <td>-0.597913623</td>\n",
       "      <td>NaN</td>\n",
       "      <td>NaN</td>\n",
       "      <td>NaN</td>\n",
       "      <td>NaN</td>\n",
       "      <td>65000</td>\n",
       "      <td>1.0</td>\n",
       "      <td>Shale</td>\n",
       "      <td>1</td>\n",
       "    </tr>\n",
       "  </tbody>\n",
       "</table>\n",
       "<p>5 rows × 31 columns</p>\n",
       "</div>"
      ],
      "text/plain": [
       "      WELL  DEPTH_MD         X_LOC      Y_LOC        Z_LOC         GROUP  \\\n",
       "0  15/9-13   494.528  437641.96875  6470972.5 -469.5018311  NORDLAND GP.   \n",
       "1  15/9-13   494.680  437641.96875  6470972.5 -469.6538086  NORDLAND GP.   \n",
       "2  15/9-13   494.832  437641.96875  6470972.5 -469.8057861  NORDLAND GP.   \n",
       "3  15/9-13   494.984  437641.96875  6470972.5 -469.9577942  NORDLAND GP.   \n",
       "4  15/9-13   495.136  437641.96875  6470972.5 -470.1097717  NORDLAND GP.   \n",
       "\n",
       "  FORMATION          CALI  RSHA          RMED  ...  DCAL         DRHO  \\\n",
       "0       NaN  19.480834961   NaN  1.6114097834  ...   NaN -0.574927628   \n",
       "1       NaN  19.468799591   NaN  1.6180702448  ...   NaN -0.570188403   \n",
       "2       NaN  19.468799591   NaN  1.6264585257  ...   NaN -0.574245155   \n",
       "3       NaN  19.459281921   NaN  1.6215940714  ...   NaN -0.586315274   \n",
       "4       NaN  19.453100204   NaN  1.6026790142  ...   NaN -0.597913623   \n",
       "\n",
       "   MUDWEIGHT  RMIC  ROPA  RXO  FORCE_2020_LITHOFACIES_LITHOLOGY  \\\n",
       "0        NaN   NaN   NaN  NaN                             65000   \n",
       "1        NaN   NaN   NaN  NaN                             65000   \n",
       "2        NaN   NaN   NaN  NaN                             65000   \n",
       "3        NaN   NaN   NaN  NaN                             65000   \n",
       "4        NaN   NaN   NaN  NaN                             65000   \n",
       "\n",
       "   FORCE_2020_LITHOFACIES_CONFIDENCE  LITHO_NAMES  LITHO_NUM  \n",
       "0                                1.0        Shale          1  \n",
       "1                                1.0        Shale          1  \n",
       "2                                1.0        Shale          1  \n",
       "3                                1.0        Shale          1  \n",
       "4                                1.0        Shale          1  \n",
       "\n",
       "[5 rows x 31 columns]"
      ]
     },
     "execution_count": 20,
     "metadata": {},
     "output_type": "execute_result"
    }
   ],
   "source": [
    "# Create a new column with lithology number\n",
    "litho_num = {sorted(data['FORCE_2020_LITHOFACIES_LITHOLOGY'].unique())[i]:i for i in range(len(data['LITHO_NAMES'].unique()))}\n",
    "data['LITHO_NUM'] = data['FORCE_2020_LITHOFACIES_LITHOLOGY'].map(litho_num)\n",
    "data.head()"
   ]
  },
  {
   "cell_type": "code",
   "execution_count": 21,
   "metadata": {},
   "outputs": [],
   "source": [
    "data.drop(['FORCE_2020_LITHOFACIES_LITHOLOGY'], axis=1, inplace=True)"
   ]
  },
  {
   "cell_type": "code",
   "execution_count": 22,
   "metadata": {},
   "outputs": [],
   "source": [
    "data.rename(columns={'FORCE_2020_LITHOFACIES_CONFIDENCE':'CONFIDENCE'}, inplace=True)"
   ]
  },
  {
   "cell_type": "code",
   "execution_count": 23,
   "metadata": {},
   "outputs": [
    {
     "data": {
      "text/plain": [
       "1     720803\n",
       "0     168937\n",
       "2     150455\n",
       "3      56320\n",
       "6      33329\n",
       "11     15245\n",
       "4      10513\n",
       "8       8213\n",
       "9       3820\n",
       "5       1688\n",
       "7       1085\n",
       "10       103\n",
       "Name: LITHO_NUM, dtype: int64"
      ]
     },
     "execution_count": 23,
     "metadata": {},
     "output_type": "execute_result"
    }
   ],
   "source": [
    "data['LITHO_NUM'].value_counts()"
   ]
  },
  {
   "cell_type": "code",
   "execution_count": 24,
   "metadata": {},
   "outputs": [
    {
     "data": {
      "image/png": "[encoded data removed]",
      "text/plain": [
       "<Figure size 864x432 with 1 Axes>"
      ]
     },
     "metadata": {
      "needs_background": "light"
     },
     "output_type": "display_data"
    }
   ],
   "source": [
    "fig, ax = plt.subplots(figsize=(12, 6))\n",
    "ax.bar(data.LITHO_NAMES.unique(), height=data.LITHO_NAMES.value_counts());"
   ]
  },
  {
   "cell_type": "code",
   "execution_count": 25,
   "metadata": {},
   "outputs": [
    {
     "data": {
      "text/plain": [
       "WELL            object\n",
       "DEPTH_MD       float64\n",
       "X_LOC          float64\n",
       "Y_LOC          float64\n",
       "Z_LOC          float64\n",
       "GROUP           object\n",
       "FORMATION       object\n",
       "CALI           float64\n",
       "RSHA           float64\n",
       "RMED           float64\n",
       "RDEP           float64\n",
       "RHOB           float64\n",
       "GR             float64\n",
       "SGR            float64\n",
       "NPHI           float64\n",
       "PEF            float64\n",
       "DTC            float64\n",
       "SP             float64\n",
       "BS             float64\n",
       "ROP            float64\n",
       "DTS            float64\n",
       "DCAL           float64\n",
       "DRHO           float64\n",
       "MUDWEIGHT      float64\n",
       "RMIC           float64\n",
       "ROPA           float64\n",
       "RXO            float64\n",
       "CONFIDENCE     float64\n",
       "LITHO_NAMES     object\n",
       "LITHO_NUM        int64\n",
       "dtype: object"
      ]
     },
     "execution_count": 25,
     "metadata": {},
     "output_type": "execute_result"
    }
   ],
   "source": [
    "data.dtypes"
   ]
  },
  {
   "cell_type": "markdown",
   "metadata": {},
   "source": [
    "## 5. Building a model"
   ]
  },
  {
   "cell_type": "markdown",
   "metadata": {},
   "source": [
    "### Baseline model\n",
    "The model will leave out categorical features and wll not fill null values."
   ]
  },
  {
   "cell_type": "markdown",
   "metadata": {},
   "source": [
    "#### Splitting data into train and validation sets. "
   ]
  },
  {
   "cell_type": "code",
   "execution_count": 26,
   "metadata": {},
   "outputs": [],
   "source": [
    "# Defining X and Y train datasets\n",
    "X_train_b = data.drop(['LITHO_NAMES','WELL', 'LITHO_NUM', 'CONFIDENCE','FORMATION','GROUP'], axis=1)\n",
    "Y_train_b = data['LITHO_NUM']"
   ]
  },
  {
   "cell_type": "code",
   "execution_count": 27,
   "metadata": {},
   "outputs": [],
   "source": [
    "# Training baseline model\n",
    "baseline_model = XGBClassifier(n_estimators=20, learning_rate=1, max_depth=3, seed=82).fit(X_train_b, Y_train_b)"
   ]
  },
  {
   "cell_type": "code",
   "execution_count": 45,
   "metadata": {},
   "outputs": [
    {
     "data": {
      "image/png": "[encoded data removed]",
      "text/plain": [
       "<Figure size 1440x1008 with 1 Axes>"
      ]
     },
     "metadata": {
      "needs_background": "light"
     },
     "output_type": "display_data"
    }
   ],
   "source": [
    "plot_importance(booster = baseline_model, height = 1.0, importance_type = 'gain', show_values = False, title = 'Feature Importance - Baseline');"
   ]
  },
  {
   "cell_type": "code",
   "execution_count": null,
   "metadata": {},
   "outputs": [],
   "source": []
  }
 ],
 "metadata": {
  "kernelspec": {
   "display_name": "Python 3.9.12 64-bit",
   "language": "python",
   "name": "python3"
  },
  "language_info": {
   "codemirror_mode": {
    "name": "ipython",
    "version": 3
   },
   "file_extension": ".py",
   "mimetype": "text/x-python",
   "name": "python",
   "nbconvert_exporter": "python",
   "pygments_lexer": "ipython3",
   "version": "3.9.12"
  },
  "orig_nbformat": 4,
  "vscode": {
   "interpreter": {
    "hash": "4ff442374353e7cd8d0b317b986b0b774c361b92b00d7ea43e4b1384f67d1c1b"
   }
  }
 },
 "nbformat": 4,
 "nbformat_minor": 2
}
