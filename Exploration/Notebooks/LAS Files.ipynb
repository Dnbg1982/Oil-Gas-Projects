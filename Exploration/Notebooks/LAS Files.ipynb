{
 "cells": [
  {
   "cell_type": "code",
   "execution_count": 2,
   "metadata": {},
   "outputs": [],
   "source": [
    "import pandas as pd\n",
    "import numpy as np\n",
    "import matplotlib.pyplot as plt\n",
    "import lasio as ls"
   ]
  },
  {
   "cell_type": "code",
   "execution_count": 5,
   "metadata": {},
   "outputs": [
    {
     "ename": "KeyError",
     "evalue": "'No ~ sections found. Is this a LAS file?'",
     "output_type": "error",
     "traceback": [
      "\u001b[1;31m---------------------------------------------------------------------------\u001b[0m",
      "\u001b[1;31mKeyError\u001b[0m                                  Traceback (most recent call last)",
      "\u001b[1;32mc:\\Users\\USUARIO\\Documents\\GitHub\\Oil-Gas-Projects\\Exploration\\Notebooks\\LAS Files.ipynb Celda 2\u001b[0m in \u001b[0;36m<cell line: 1>\u001b[1;34m()\u001b[0m\n\u001b[1;32m----> <a href='vscode-notebook-cell:/c%3A/Users/USUARIO/Documents/GitHub/Oil-Gas-Projects/Exploration/Notebooks/LAS%20Files.ipynb#ch0000001?line=0'>1</a>\u001b[0m data \u001b[39m=\u001b[39m ls\u001b[39m.\u001b[39;49mread(\u001b[39m'\u001b[39;49m\u001b[39mD:\u001b[39;49m\u001b[39m\\\u001b[39;49m\u001b[39mVolve Field\u001b[39;49m\u001b[39m\\\u001b[39;49m\u001b[39mData\u001b[39;49m\u001b[39m\\\u001b[39;49m\u001b[39mWell_logs\u001b[39;49m\u001b[39m\\15\u001b[39;49;00m\u001b[39m_9-F-12\u001b[39;49m\u001b[39m\\02\u001b[39;49;00m\u001b[39m.LWD_EWL\u001b[39;49m\u001b[39m\\\u001b[39;49m\u001b[39mWL_RAW_BHPR-GR-MECH_TIME_MWD_5.LAS\u001b[39;49m\u001b[39m'\u001b[39;49m)\n",
      "File \u001b[1;32mc:\\Users\\USUARIO\\AppData\\Local\\Programs\\Python\\Python39\\lib\\site-packages\\lasio\\__init__.py:41\u001b[0m, in \u001b[0;36mread\u001b[1;34m(file_ref, **kwargs)\u001b[0m\n\u001b[0;32m     18\u001b[0m \u001b[39mdef\u001b[39;00m \u001b[39mread\u001b[39m(file_ref, \u001b[39m*\u001b[39m\u001b[39m*\u001b[39mkwargs):\n\u001b[0;32m     19\u001b[0m     \u001b[39m\"\"\"Read a LAS file.\u001b[39;00m\n\u001b[0;32m     20\u001b[0m \n\u001b[0;32m     21\u001b[0m \u001b[39m    Note that only versions 1.2 and 2.0 of the LAS file specification\u001b[39;00m\n\u001b[1;32m   (...)\u001b[0m\n\u001b[0;32m     39\u001b[0m \n\u001b[0;32m     40\u001b[0m \u001b[39m    \"\"\"\u001b[39;00m\n\u001b[1;32m---> 41\u001b[0m     \u001b[39mreturn\u001b[39;00m LASFile(file_ref, \u001b[39m*\u001b[39m\u001b[39m*\u001b[39mkwargs)\n",
      "File \u001b[1;32mc:\\Users\\USUARIO\\AppData\\Local\\Programs\\Python\\Python39\\lib\\site-packages\\lasio\\las.py:78\u001b[0m, in \u001b[0;36mLASFile.__init__\u001b[1;34m(self, file_ref, **read_kwargs)\u001b[0m\n\u001b[0;32m     69\u001b[0m \u001b[39mself\u001b[39m\u001b[39m.\u001b[39msections \u001b[39m=\u001b[39m {\n\u001b[0;32m     70\u001b[0m     \u001b[39m\"\u001b[39m\u001b[39mVersion\u001b[39m\u001b[39m\"\u001b[39m: default_items[\u001b[39m\"\u001b[39m\u001b[39mVersion\u001b[39m\u001b[39m\"\u001b[39m],\n\u001b[0;32m     71\u001b[0m     \u001b[39m\"\u001b[39m\u001b[39mWell\u001b[39m\u001b[39m\"\u001b[39m: default_items[\u001b[39m\"\u001b[39m\u001b[39mWell\u001b[39m\u001b[39m\"\u001b[39m],\n\u001b[1;32m   (...)\u001b[0m\n\u001b[0;32m     74\u001b[0m     \u001b[39m\"\u001b[39m\u001b[39mOther\u001b[39m\u001b[39m\"\u001b[39m: \u001b[39mstr\u001b[39m(default_items[\u001b[39m\"\u001b[39m\u001b[39mOther\u001b[39m\u001b[39m\"\u001b[39m]),\n\u001b[0;32m     75\u001b[0m }\n\u001b[0;32m     77\u001b[0m \u001b[39mif\u001b[39;00m \u001b[39mnot\u001b[39;00m (file_ref \u001b[39mis\u001b[39;00m \u001b[39mNone\u001b[39;00m):\n\u001b[1;32m---> 78\u001b[0m     \u001b[39mself\u001b[39m\u001b[39m.\u001b[39mread(file_ref, \u001b[39m*\u001b[39m\u001b[39m*\u001b[39mread_kwargs)\n",
      "File \u001b[1;32mc:\\Users\\USUARIO\\AppData\\Local\\Programs\\Python\\Python39\\lib\\site-packages\\lasio\\las.py:146\u001b[0m, in \u001b[0;36mLASFile.read\u001b[1;34m(self, file_ref, ignore_data, read_policy, null_policy, ignore_header_errors, ignore_comments, mnemonic_case, index_unit, remove_data_line_filter, **kwargs)\u001b[0m\n\u001b[0;32m    144\u001b[0m logger\u001b[39m.\u001b[39mdebug(\u001b[39m\"\u001b[39m\u001b[39mFound \u001b[39m\u001b[39m{}\u001b[39;00m\u001b[39m sections\u001b[39m\u001b[39m\"\u001b[39m\u001b[39m.\u001b[39mformat(\u001b[39mlen\u001b[39m(section_positions)))\n\u001b[0;32m    145\u001b[0m \u001b[39mif\u001b[39;00m \u001b[39mlen\u001b[39m(section_positions) \u001b[39m==\u001b[39m \u001b[39m0\u001b[39m:\n\u001b[1;32m--> 146\u001b[0m     \u001b[39mraise\u001b[39;00m \u001b[39mKeyError\u001b[39;00m(\u001b[39m\"\u001b[39m\u001b[39mNo ~ sections found. Is this a LAS file?\u001b[39m\u001b[39m\"\u001b[39m)\n\u001b[0;32m    148\u001b[0m data_section_indices \u001b[39m=\u001b[39m []\n\u001b[0;32m    149\u001b[0m \u001b[39m# This is a transitional data_section_indicies till the las30 data\u001b[39;00m\n\u001b[0;32m    150\u001b[0m \u001b[39m# reading can handle 1.2 and 2.0 data, then it will be merged back\u001b[39;00m\n\u001b[0;32m    151\u001b[0m \u001b[39m# into data_section_indices\u001b[39;00m\n",
      "\u001b[1;31mKeyError\u001b[0m: 'No ~ sections found. Is this a LAS file?'"
     ]
    }
   ],
   "source": [
    "data = ls.read('D:\\Volve Field\\Data\\Well_logs\\15_9-F-12\\02.LWD_EWL\\WL_RAW_BHPR-GR-MECH_TIME_MWD_5.LAS')"
   ]
  },
  {
   "cell_type": "code",
   "execution_count": null,
   "metadata": {},
   "outputs": [],
   "source": []
  }
 ],
 "metadata": {
  "kernelspec": {
   "display_name": "Python 3.9.12 64-bit",
   "language": "python",
   "name": "python3"
  },
  "language_info": {
   "codemirror_mode": {
    "name": "ipython",
    "version": 3
   },
   "file_extension": ".py",
   "mimetype": "text/x-python",
   "name": "python",
   "nbconvert_exporter": "python",
   "pygments_lexer": "ipython3",
   "version": "3.9.12"
  },
  "orig_nbformat": 4,
  "vscode": {
   "interpreter": {
    "hash": "4ff442374353e7cd8d0b317b986b0b774c361b92b00d7ea43e4b1384f67d1c1b"
   }
  }
 },
 "nbformat": 4,
 "nbformat_minor": 2
}
