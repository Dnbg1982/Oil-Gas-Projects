{
 "cells": [
  {
   "cell_type": "code",
   "execution_count": null,
   "metadata": {},
   "outputs": [],
   "source": [
    "import matplotlib.pyplot as plt\n",
    "import numpy as np\n",
    "dfile = \"C:/Users/USUARIO/Documents/GitHub/Oil-Gas-Projects/Exploration/Datasets/Faults/faulttest3.npz\"\n",
    "images = np.load(dfile)[\"arr_0\"]\n",
    "images.shape\n",
    "plt.ion()\n",
    "plt.figure()\n",
    "plt.imshow(images[99])"
   ]
  }
 ],
 "metadata": {
  "language_info": {
   "name": "python"
  },
  "orig_nbformat": 4
 },
 "nbformat": 4,
 "nbformat_minor": 2
}
